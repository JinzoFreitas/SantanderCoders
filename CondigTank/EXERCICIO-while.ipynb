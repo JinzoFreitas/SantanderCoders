{
 "cells": [
  {
   "cell_type": "markdown",
   "metadata": {},
   "source": [
    "1. Pergunte um usuário quantas provas ele fez, depois pergunte a nota de todas as provas.\n",
    "Calcule a média e caso seja maior ou igual a 6 informe que ele está aprovado, se não reprovado."
   ]
  },
  {
   "cell_type": "code",
   "execution_count": 6,
   "metadata": {},
   "outputs": [
    {
     "name": "stdout",
     "output_type": "stream",
     "text": [
      "O aluno foi Aprovado por média\n"
     ]
    }
   ],
   "source": [
    "num_provas = int(input('Quantas provas você fez?'))\n",
    "notas_provas = [float(input(f'Digita a nota da prova {i+1}')) for i in range(num_provas)]\n",
    "mean = sum(notas_provas)/num_provas\n",
    "situação = ['Aprovado' if mean>=6 else 'Reprovado'][0]\n",
    "print(f'O aluno foi {situação} por média')\n"
   ]
  },
  {
   "cell_type": "markdown",
   "metadata": {},
   "source": [
    "2. Faça um programa que o usuário digite quantos números quiser, ate que digite sair.\n",
    "Retorne a soma e a média dos números digitados."
   ]
  },
  {
   "cell_type": "code",
   "execution_count": 34,
   "metadata": {},
   "outputs": [
    {
     "name": "stdout",
     "output_type": "stream",
     "text": [
      "A soma dos números digitado foi 1\n",
      "A média dos números digitado foi 0.5\n"
     ]
    }
   ],
   "source": [
    "num,numeros = -1,[]\n",
    "while(num != 'sair'):\n",
    "    num = input('Digite um número:').lower()\n",
    "    if num!='sair':\n",
    "        numeros.append(int(num))    \n",
    "print(f'A soma dos números digitado foi {sum(numeros)}')\n",
    "print(f'A média dos números digitado foi {sum(numeros)/len(numeros)}')\n"
   ]
  },
  {
   "cell_type": "markdown",
   "metadata": {},
   "source": [
    "3. Usando laço, pergunte um usuário a nota de 3 provas. Remova a menor nota e calcule a média das notas que ele atingiu. "
   ]
  },
  {
   "cell_type": "code",
   "execution_count": 8,
   "metadata": {},
   "outputs": [
    {
     "name": "stdout",
     "output_type": "stream",
     "text": [
      "Média: 6.0\n"
     ]
    }
   ],
   "source": [
    "#Uma Lista recebe os valores das notas através do input em list comprehension. \n",
    "notas_provas = [float(input(f'Digita a nota da prova {i+1}')) for i in range(3)]\n",
    "#Método .remove() em conjunto com a função min() para remover a menor nota digitada.\n",
    "notas_provas.remove(min(notas_provas))\n",
    "#Cáculando a média das duas maiores notas.\n",
    "mean = sum(notas_provas)/2\n",
    "print(f'Média: {mean}')"
   ]
  },
  {
   "cell_type": "markdown",
   "metadata": {},
   "source": [
    "4. Pergunte o usuário 2 números inteiros, calcule quantos números pares existem entre os 2 número informados.\n",
    "Exemplo: se ele digitar 1 e 9, tem 4 números pares entre esses números 2,4,6,8 ."
   ]
  },
  {
   "cell_type": "code",
   "execution_count": 26,
   "metadata": {},
   "outputs": [
    {
     "data": {
      "text/plain": [
       "4"
      ]
     },
     "execution_count": 26,
     "metadata": {},
     "output_type": "execute_result"
    }
   ],
   "source": [
    "inicio = 1\n",
    "fim = 9\n",
    "pares = len([x for x in range(inicio,fim+1) if x%2==0])\n",
    "pares"
   ]
  },
  {
   "cell_type": "markdown",
   "metadata": {},
   "source": [
    "5. Pergunte o usuário 2 números inteiros, calcule a soma de todos os números ímpares inteiros entre esses números.\n",
    "Exemplo: se ele digitar 1 e 9, tem 5 números ímpares entre esses números 1,3,5,7,9, e a soma é 25 ."
   ]
  },
  {
   "cell_type": "code",
   "execution_count": 24,
   "metadata": {},
   "outputs": [
    {
     "data": {
      "text/plain": [
       "25"
      ]
     },
     "execution_count": 24,
     "metadata": {},
     "output_type": "execute_result"
    }
   ],
   "source": [
    "inicio = 1\n",
    "fim = 9\n",
    "sum_impares = sum([x for x in range(inicio,fim+1) if x%2!=0])\n",
    "sum_impares"
   ]
  }
 ],
 "metadata": {
  "kernelspec": {
   "display_name": "Python 3.10.7 64-bit",
   "language": "python",
   "name": "python3"
  },
  "language_info": {
   "codemirror_mode": {
    "name": "ipython",
    "version": 3
   },
   "file_extension": ".py",
   "mimetype": "text/x-python",
   "name": "python",
   "nbconvert_exporter": "python",
   "pygments_lexer": "ipython3",
   "version": "3.10.7"
  },
  "orig_nbformat": 4,
  "vscode": {
   "interpreter": {
    "hash": "d3f16d613b45d41765fc5191cf61837cebf78b91418334f86bed771f1681791c"
   }
  }
 },
 "nbformat": 4,
 "nbformat_minor": 2
}
