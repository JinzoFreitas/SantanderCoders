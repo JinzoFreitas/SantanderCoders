{
 "cells": [
  {
   "cell_type": "markdown",
   "metadata": {},
   "source": [
    "# Funções\n",
    "## Tópicos da aula\n",
    "- Intuição de funções\n",
    "- Parâmetros\n",
    "- Retorno\n",
    "- Bônus: Recursão"
   ]
  },
  {
   "cell_type": "markdown",
   "metadata": {},
   "source": [
    "E se quisermos utilizar diversas vezes o mesmo programa?"
   ]
  },
  {
   "cell_type": "markdown",
   "metadata": {},
   "source": [
    "Para isso podemos utilizar as funções. Para definir uma função utilizamos a palavra **def**"
   ]
  },
  {
   "cell_type": "code",
   "execution_count": 2,
   "metadata": {},
   "outputs": [],
   "source": [
    "#def para definir uma função\n",
    "# imprime_linhas é o nome dado a minha função\n",
    "# () dentro destes parênteses estão os parâmetros que eu espero que sejam passados para minha função\n",
    "def imprime_linhas():\n",
    "    print('linha 1')\n",
    "    print('linha 2')\n",
    "    print('linha 3')"
   ]
  },
  {
   "cell_type": "markdown",
   "metadata": {},
   "source": [
    "E como eu faço para chamar a função criada?"
   ]
  },
  {
   "cell_type": "code",
   "execution_count": 3,
   "metadata": {},
   "outputs": [
    {
     "name": "stdout",
     "output_type": "stream",
     "text": [
      "linha 1\n",
      "linha 2\n",
      "linha 3\n"
     ]
    }
   ],
   "source": [
    "imprime_linhas()"
   ]
  },
  {
   "cell_type": "markdown",
   "metadata": {},
   "source": [
    "### Parâmetros da função"
   ]
  },
  {
   "cell_type": "code",
   "execution_count": 5,
   "metadata": {},
   "outputs": [],
   "source": [
    "## Os parênteses servem para definirmos parametros da função\n",
    "## Parametros são valores que a função pode querer utilizar\n",
    "## Diz-se que o parametro é recebido pela funcao\n",
    "\n",
    "def bom_dia(nome):\n",
    "    print(f'Bom dia {nome}!')"
   ]
  },
  {
   "cell_type": "code",
   "execution_count": 6,
   "metadata": {},
   "outputs": [
    {
     "name": "stdout",
     "output_type": "stream",
     "text": [
      "Bom dia Jands!\n"
     ]
    }
   ],
   "source": [
    "nome_usuario = input('Digite seu nome: ')\n",
    "bom_dia(nome_usuario)"
   ]
  },
  {
   "cell_type": "code",
   "execution_count": 7,
   "metadata": {},
   "outputs": [
    {
     "name": "stdout",
     "output_type": "stream",
     "text": [
      "Tiago tem 23 anos e mora em São Paulo\n",
      "Tiago tem 23 anos e mora em São Paulo\n",
      "Tiago tem None anos e mora em São Paulo\n"
     ]
    }
   ],
   "source": [
    "## Podemos solicitar mais de um parâmetro\n",
    "\n",
    "def cadastro(nome, idade, cidade):\n",
    "    print(nome, \"tem\", idade, \"anos e mora em\", cidade)\n",
    "\n",
    "cadastro(\"Tiago\", 23, \"São Paulo\") # Se passarmos apenas os parâmetros é necessário que seja na mesma ordem da criação\n",
    "cadastro(idade=23, cidade=\"São Paulo\", nome=\"Tiago\") # Podemos alterar a ordem caso deixemos explícito qual parâmetro\n",
    "cadastro(nome=\"Tiago\", cidade=\"São Paulo\", idade=None) # Podemos ainda passar um dos parâmetros como vazio"
   ]
  },
  {
   "cell_type": "code",
   "execution_count": 16,
   "metadata": {},
   "outputs": [
    {
     "name": "stdout",
     "output_type": "stream",
     "text": [
      "É menor de idade!\n",
      "É maior de idade!\n"
     ]
    }
   ],
   "source": [
    "## É possível atribuir um valor padrão para os parâmetros\n",
    "\n",
    "def maior_idade(idade=0):\n",
    "    if(idade >= 18):\n",
    "        print(\"É maior de idade!\")\n",
    "    else:\n",
    "        print(\"É menor de idade!\")\n",
    "\n",
    "\n",
    "maior_idade()\n",
    "maior_idade(18)"
   ]
  },
  {
   "cell_type": "code",
   "execution_count": 10,
   "metadata": {},
   "outputs": [],
   "source": [
    "# Podemos utilizar listas como parâmetros\n",
    "\n",
    "def somatorio(lista):\n",
    "    soma = 0\n",
    "    for elemento in lista:\n",
    "        soma = soma + elemento\n",
    "    print(soma)"
   ]
  },
  {
   "cell_type": "code",
   "execution_count": 11,
   "metadata": {},
   "outputs": [
    {
     "name": "stdout",
     "output_type": "stream",
     "text": [
      "21\n"
     ]
    }
   ],
   "source": [
    "numeros = [1, 2, 3, 4, 5, 6]\n",
    "somatorio(numeros)"
   ]
  },
  {
   "cell_type": "markdown",
   "metadata": {},
   "source": [
    "### Return"
   ]
  },
  {
   "cell_type": "code",
   "execution_count": 12,
   "metadata": {},
   "outputs": [
    {
     "data": {
      "text/plain": [
       "21"
      ]
     },
     "execution_count": 12,
     "metadata": {},
     "output_type": "execute_result"
    }
   ],
   "source": [
    "def somatorio_return(lista):\n",
    "    soma = 0\n",
    "    for elemento in lista:\n",
    "        soma = soma + elemento\n",
    "    return soma # Retorna o valor\n",
    "\n",
    "numeros = [1, 2, 3, 4, 5, 6]\n",
    "somatorio_return(numeros)"
   ]
  },
  {
   "cell_type": "code",
   "execution_count": 13,
   "metadata": {},
   "outputs": [
    {
     "name": "stdout",
     "output_type": "stream",
     "text": [
      "21\n"
     ]
    }
   ],
   "source": [
    "## O return possibilita armazenar numa variavel\n",
    "\n",
    "soma = somatorio_return(numeros)\n",
    "print(soma)"
   ]
  },
  {
   "cell_type": "code",
   "execution_count": null,
   "metadata": {},
   "outputs": [],
   "source": [
    "def maior_idade(idade=0):\n",
    "    if(idade >= 18):\n",
    "        return True\n",
    "    else:\n",
    "        return False\n",
    "\n",
    "idade = int(input(\"Digite sua idade: \"))\n",
    "\n",
    "if(maior_idade(idade)):\n",
    "    print(\"Era maior\")\n",
    "else:\n",
    "    print(\"Não era\")"
   ]
  },
  {
   "cell_type": "markdown",
   "metadata": {},
   "source": [
    "1. Escreva uma função que calcule e retorne o dobro de um número inserido. Teste este caso solicitando ao usuário que insira um número e após isso, retorne a resposta."
   ]
  },
  {
   "cell_type": "code",
   "execution_count": 15,
   "metadata": {},
   "outputs": [
    {
     "name": "stdout",
     "output_type": "stream",
     "text": [
      "O dobro do número é 110\n"
     ]
    }
   ],
   "source": [
    "def dobro(num:int) -> int:\n",
    "    return 2*num\n",
    "\n",
    "num = int(input('Digite um número'))\n",
    "\n",
    "result = dobro(num)\n",
    "print(f'O dobro do número é {result}')"
   ]
  },
  {
   "cell_type": "markdown",
   "metadata": {},
   "source": [
    "2. Crie uma função para cálculo do comprimento da circunferência (C = 2 * 3.14 * R), sendo C o comprimento e R o raio da circunferência "
   ]
  },
  {
   "cell_type": "code",
   "execution_count": 22,
   "metadata": {},
   "outputs": [
    {
     "name": "stdout",
     "output_type": "stream",
     "text": [
      "Comprimento é igual a 28.26cm\n",
      "Área é igual a 63.59cm²\n"
     ]
    }
   ],
   "source": [
    "def comp_circ(r=1.0):\n",
    "    c = 6.28*r\n",
    "    return c\n",
    "\n",
    "def area_circ(r=1.0):\n",
    "    a = 3.14*r**2\n",
    "    return a\n",
    "\n",
    "raio = float(input('Defina o valor do raio da circunferêcia (cm):'))\n",
    "\n",
    "comp = comp_circ(raio)\n",
    "area = area_circ(raio)\n",
    "print(f\"Comprimento é igual a {comp:.2f}cm\")\n",
    "print(f\"Área é igual a {area:.2f}cm²\")"
   ]
  },
  {
   "cell_type": "markdown",
   "metadata": {},
   "source": [
    "3. Faça uma função que emita uma saudação baseada no horário. A função deve receber o nome e o horário (apenas número inteiro) e emita a mensagem com as seguintes condições:\n",
    "- até meio dia (não incluso): \"Bom dia, (VARIAVEL_NOME)\"\n",
    "- entre meio dia (incluso) e 18h (não incluso): \"Boa tarde, (VARIAVEL_NOME)\"\n",
    "- após as 18h (incluso): \"Boa noite, (VARIAVEL_NOME)\""
   ]
  },
  {
   "cell_type": "code",
   "execution_count": 37,
   "metadata": {},
   "outputs": [
    {
     "name": "stdout",
     "output_type": "stream",
     "text": [
      "Bom dia, Caio!\n"
     ]
    }
   ],
   "source": [
    "def saudar(name, hora):\n",
    "    if 0<=hora<=24:\n",
    "        if 0<=hora<12:\n",
    "            print(f'Bom dia, {name}!')\n",
    "        elif 12<=hora<18:\n",
    "            print(f'Boa tarde, {name}!')\n",
    "        else:\n",
    "            print(f'Boa noite, {name}!')\n",
    "    else:\n",
    "        print(\"Hora inválida\")          \n",
    "\n",
    "name = input('Olá, qual o seu nome?')\n",
    "hora = int(input('Qual a hora local?'))\n",
    "\n",
    "saudar(name, hora)"
   ]
  },
  {
   "cell_type": "markdown",
   "metadata": {},
   "source": [
    "4. Faça uma função que verifique se um número é par. Teste esta função solicitando ao usuário que digite um número e emitindo a mensagem adequada caso o número seja par ou não."
   ]
  },
  {
   "cell_type": "code",
   "execution_count": 30,
   "metadata": {},
   "outputs": [
    {
     "name": "stdout",
     "output_type": "stream",
     "text": [
      "É par!\n"
     ]
    }
   ],
   "source": [
    "def eh_par(num):\n",
    "    if num==0:\n",
    "        print('É ZERO!')\n",
    "    elif (num%2) == 0:\n",
    "        print('É par!')\n",
    "    else:\n",
    "        print('Não é par!')   \n",
    "\n",
    "num = int(input('Digite um número'))\n",
    "eh_par(num)"
   ]
  },
  {
   "cell_type": "markdown",
   "metadata": {},
   "source": [
    "5. Crie uma função que recebe duas listas. Caso estas duas listas sejam do mesmo tamanho some os elementos de cada lista com mesmo índica, caso contrário retorne uma lista vazia.\n",
    "Se as duas listas de entrada forem do mesmo tamanho o programa deve se comportar como no exemplo:\n",
    "```python\n",
    "lista_01 = [1, 2, 3, 4, 5]\n",
    "lista_02 = [6, 7, 8, 9, 10]\n",
    "\n",
    "soma_listas(lista_01, lista_02)\n",
    "```\n",
    "saída:\n",
    "\n",
    "```\n",
    "[7, 9, 11, 13, 15]\n",
    "```"
   ]
  },
  {
   "cell_type": "code",
   "execution_count": 41,
   "metadata": {},
   "outputs": [
    {
     "data": {
      "text/plain": [
       "[7, 9, 11, 13, 15]"
      ]
     },
     "execution_count": 41,
     "metadata": {},
     "output_type": "execute_result"
    }
   ],
   "source": [
    "def sum_list(lista1:list, lista2:list):\n",
    "    if len(lista1)==len(lista2):\n",
    "        list_sum = []\n",
    "        for i in range(len(lista1)):\n",
    "            list_sum.append(lista1[i] + lista2[i])\n",
    "        return list_sum\n",
    "\n",
    "    else:\n",
    "        return \"Não é possível somar listas de tamanhos diferentes\"\n",
    "\n",
    "lista_01 = [1, 2, 3, 4, 5]\n",
    "lista_02 = [6, 7, 8, 9, 10]\n",
    "\n",
    "sum_list(lista_01, lista_02)"
   ]
  },
  {
   "cell_type": "markdown",
   "metadata": {},
   "source": [
    "6. Utilize a mesma lógica do exercício anterior, porém agora você deve multiplicar os elementos ao invés de somá-los."
   ]
  },
  {
   "cell_type": "code",
   "execution_count": 43,
   "metadata": {},
   "outputs": [
    {
     "data": {
      "text/plain": [
       "[6, 14, 24, 36, 50]"
      ]
     },
     "execution_count": 43,
     "metadata": {},
     "output_type": "execute_result"
    }
   ],
   "source": [
    "def mult_list(lista1:list, lista2:list):\n",
    "    if len(lista1)==len(lista2):\n",
    "        list_mult = []\n",
    "        for i in range(len(lista1)):\n",
    "            list_mult.append(lista1[i] * lista2[i])\n",
    "        return list_mult\n",
    "\n",
    "    else:\n",
    "        return \"Não é possível multiplicar listas de tamanhos diferentes\"\n",
    "\n",
    "lista_01 = [1, 2, 3, 4, 5]\n",
    "lista_02 = [6, 7, 8, 9, 10]\n",
    "\n",
    "mult_list(lista_01, lista_02)"
   ]
  },
  {
   "cell_type": "markdown",
   "metadata": {},
   "source": [
    "7. Faça uma função que recebe uma lista de números e calcula a média destes números."
   ]
  },
  {
   "cell_type": "code",
   "execution_count": 45,
   "metadata": {},
   "outputs": [
    {
     "data": {
      "text/plain": [
       "7.2"
      ]
     },
     "execution_count": 45,
     "metadata": {},
     "output_type": "execute_result"
    }
   ],
   "source": [
    "def mean_list(lista:list):\n",
    "    mean = sum(lista)/len(lista)\n",
    "    return mean\n",
    "\n",
    "list_test = [15, 1, 8, 9, 3]\n",
    "\n",
    "mean_list(list_test)"
   ]
  },
  {
   "cell_type": "markdown",
   "metadata": {},
   "source": [
    "8. Faça uma função que calcula o fatorial de um número."
   ]
  },
  {
   "cell_type": "code",
   "execution_count": 21,
   "metadata": {},
   "outputs": [
    {
     "data": {
      "text/plain": [
       "720"
      ]
     },
     "execution_count": 21,
     "metadata": {},
     "output_type": "execute_result"
    }
   ],
   "source": [
    "def fatorial(num=0):\n",
    "    if num > 0:\n",
    "        return num * fatorial(num-1)\n",
    "    elif num == 0:\n",
    "        return 1    \n",
    "    else:\n",
    "        return 'Não é possivel fatorial de números negativos'\n",
    "          \n",
    "fatorial(6)          "
   ]
  },
  {
   "cell_type": "code",
   "execution_count": 1,
   "metadata": {},
   "outputs": [
    {
     "data": {
      "text/plain": [
       "720"
      ]
     },
     "execution_count": 1,
     "metadata": {},
     "output_type": "execute_result"
    }
   ],
   "source": [
    "# Forma elegante de fazer o fatorial com if in line\n",
    "def fat(x:int) -> int:\n",
    "    return x*fat(x-1) if x>0 else 1\n",
    "\n",
    "fat(6)"
   ]
  },
  {
   "cell_type": "markdown",
   "metadata": {},
   "source": [
    "Podemos resolver este último exercício com o que chamamos de recursão. \n",
    "  \n",
    "Em programação, a recursividade é um mecanismo útil e poderoso que permite a uma função chamar a si mesma direta ou indiretamente, ou seja, uma função é dita recursiva se ela contém pelo menos uma chamada explícita ou implícita a si própria.\n",
    "  \n",
    "Prof. Wellington Lima dos Santos (Unicamp)"
   ]
  },
  {
   "cell_type": "markdown",
   "metadata": {},
   "source": [
    "Para resolver o problema 5!, por exemplo, podemos alterar para o seguinte formato  \n",
    "5! = 5 \\* 4!  \n",
    "4! = 4 \\* 3!  \n",
    "3! = 3 \\* 2!  \n",
    "2! = 2 \\* 1!  \n",
    "1! = 1 \\* 0! = 1"
   ]
  },
  {
   "cell_type": "code",
   "execution_count": null,
   "metadata": {},
   "outputs": [],
   "source": [
    "def calcula_fatorial(numero):\n",
    "    if(numero > 1):\n",
    "        return numero * calcula_fatorial(numero - 1) # Passos \n",
    "    else:\n",
    "        return 1 # Problema base\n",
    "    \n",
    "print(calcula_fatorial(5))"
   ]
  },
  {
   "cell_type": "markdown",
   "metadata": {},
   "source": [
    "### Desafio: Sequência de Fibonacci  \n",
    "Na matemática, a sequência de Fibonacci, é uma sequência de números inteiros, começando por 1 e 1, na qual cada termo subsequente corresponde à soma dos dois anteriores. Segue o exemplo:  \n",
    "\n",
    "1, 1, 2, 3, 5, 8, 13.."
   ]
  },
  {
   "cell_type": "markdown",
   "metadata": {},
   "source": [
    "Faça um programa (sem utilizar recursão) que dado um número irá imprimir na tela a sequência de Fibonacci até o índice dado, no exemplo acima o valor 13 possui índice 7, portanto ao passarmos 13 para a função ela deverá imprimir 8."
   ]
  },
  {
   "cell_type": "code",
   "execution_count": 32,
   "metadata": {},
   "outputs": [
    {
     "name": "stdout",
     "output_type": "stream",
     "text": [
      "[1, 1, 2, 3, 5, 8, 13, 21, 34, 55]\n"
     ]
    }
   ],
   "source": [
    "fibonacci = [1,1]\n",
    "indice = int(input('Digite o indice da sequencia de Fibonacci:'))\n",
    "\n",
    "for i in range(2,indice):\n",
    "    fibonacci.append(fibonacci[i-1] + fibonacci[i-2])\n",
    "    \n",
    "print(fibonacci)"
   ]
  },
  {
   "cell_type": "code",
   "execution_count": 9,
   "metadata": {},
   "outputs": [
    {
     "name": "stdout",
     "output_type": "stream",
     "text": [
      "[1, 1, 2, 3, 5, 8, 13, 21, 34]\n"
     ]
    }
   ],
   "source": [
    "fibonacci = [1,1]\n",
    "indice = int(input('Digite o indice da sequencia de Fibonacci:'))\n",
    "\n",
    "[fibonacci.append(fibonacci[i-1] + fibonacci[i-2]) for i in range(2,indice)]\n",
    "\n",
    "print(fibonacci)"
   ]
  },
  {
   "cell_type": "markdown",
   "metadata": {},
   "source": [
    "Agora resolva o mesmo problema com recursão."
   ]
  },
  {
   "cell_type": "code",
   "execution_count": 2,
   "metadata": {},
   "outputs": [
    {
     "name": "stdout",
     "output_type": "stream",
     "text": [
      "13\n"
     ]
    }
   ],
   "source": [
    "def fibonacci(num):\n",
    "    if num > 2:\n",
    "        return fibonacci(num-1) + fibonacci(num-2)\n",
    "    else:\n",
    "        return 1\n",
    "\n",
    "print(fibonacci(7))    "
   ]
  }
 ],
 "metadata": {
  "kernelspec": {
   "display_name": "Python 3.10.7 64-bit",
   "language": "python",
   "name": "python3"
  },
  "language_info": {
   "codemirror_mode": {
    "name": "ipython",
    "version": 3
   },
   "file_extension": ".py",
   "mimetype": "text/x-python",
   "name": "python",
   "nbconvert_exporter": "python",
   "pygments_lexer": "ipython3",
   "version": "3.10.7"
  },
  "orig_nbformat": 4,
  "vscode": {
   "interpreter": {
    "hash": "d3f16d613b45d41765fc5191cf61837cebf78b91418334f86bed771f1681791c"
   }
  }
 },
 "nbformat": 4,
 "nbformat_minor": 2
}
