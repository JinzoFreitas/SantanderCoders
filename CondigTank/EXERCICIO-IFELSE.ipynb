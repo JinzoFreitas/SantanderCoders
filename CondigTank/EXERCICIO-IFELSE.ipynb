{
 "cells": [
  {
   "cell_type": "markdown",
   "metadata": {},
   "source": [
    "1. Peça ao usuário para informar 4 lados de um polígono. Veja se é um quadrado ou retâgulo, ou nenhum.\n",
    "Caso seja quadrado ou retângulo, imprima a área calculada."
   ]
  },
  {
   "cell_type": "code",
   "execution_count": null,
   "metadata": {},
   "outputs": [],
   "source": []
  },
  {
   "cell_type": "markdown",
   "metadata": {},
   "source": [
    "2. Pergunte um usuário o valor de um produto, e se ele quer aumentar ou diminuir o preço.\n",
    "Pergunte o usuário o quanto que ele gostaria de diminuir ou acrescentar, em porcentagem, e calcule o novo preço do produto para o usuário."
   ]
  },
  {
   "cell_type": "code",
   "execution_count": null,
   "metadata": {},
   "outputs": [],
   "source": []
  },
  {
   "cell_type": "markdown",
   "metadata": {},
   "source": [
    "3. Faça um programa que pergunte 4 notas de provas de um aluno, caso a média seja maior ou igual a 6 ele está aprovado, caso seja maior que 5, ele está de recuperação, pergunte a nota da prova de recuperação, caso a média da nota de recuperação com a média das provas seja maior que 6, ele está aprovado, se não reprovado.\n",
    "Caso a média das 4 provas seja menor que 5 ele está reprovado direto."
   ]
  },
  {
   "cell_type": "code",
   "execution_count": null,
   "metadata": {},
   "outputs": [],
   "source": []
  },
  {
   "cell_type": "markdown",
   "metadata": {},
   "source": [
    "4. Pergunte um usuário que horas são, somente número inteiro, e retorne \"Bom dia!\", caso seja entre 5 horas e 11 horas da manhã, \"Boa tarde!\", caso seja entre 12 horas e 18 horas da tarde, e \"Boa noite!\", caso seja entre 19 horas e 4 horas da manhã."
   ]
  },
  {
   "cell_type": "code",
   "execution_count": null,
   "metadata": {},
   "outputs": [],
   "source": []
  },
  {
   "cell_type": "markdown",
   "metadata": {},
   "source": [
    "5. Peça o usuário para digitar um número, informe se o número é divisivel por 5, caso seja, informe se o número é par ou impar."
   ]
  },
  {
   "cell_type": "code",
   "execution_count": null,
   "metadata": {},
   "outputs": [],
   "source": []
  }
 ],
 "metadata": {
  "kernelspec": {
   "display_name": "Python 3.10.7 64-bit",
   "language": "python",
   "name": "python3"
  },
  "language_info": {
   "name": "python",
   "version": "3.10.7"
  },
  "orig_nbformat": 4,
  "vscode": {
   "interpreter": {
    "hash": "d3f16d613b45d41765fc5191cf61837cebf78b91418334f86bed771f1681791c"
   }
  }
 },
 "nbformat": 4,
 "nbformat_minor": 2
}
