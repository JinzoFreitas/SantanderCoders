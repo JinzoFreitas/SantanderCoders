{
 "cells": [
  {
   "cell_type": "markdown",
   "id": "b22cd74d",
   "metadata": {},
   "source": [
    "# Alguns recados\n",
    "- Horários (início e intervalo)\n",
    "- Presença\n",
    "- Câmera\n",
    "- Vagas\n",
    "- Cronograma de aulas"
   ]
  },
  {
   "cell_type": "markdown",
   "id": "46cc1557",
   "metadata": {},
   "source": [
    "## Tópicos da aula\n",
    "\n",
    " - IDE\n",
    " - Variáveis\n",
    " - Tipos básicos\n",
    " - Entradas/Saídas\n",
    " - Operadores Algébricos\n",
    " - Operadores de comparação"
   ]
  },
  {
   "cell_type": "markdown",
   "id": "663722fc",
   "metadata": {},
   "source": [
    "# IDE\n",
    "\n",
    "- Visual Studio Code - Extensão Jupyter\n",
    "- Colab google - https://colab.research.google.com/\n",
    "- Deep note - https://deepnote.com/\n",
    "- JupyterLite - https://jupyter.org/try\n",
    "- Kaggle Kernels - https://www.kaggle.com/\n",
    "\n",
    "- Diversas opções:\n",
    "  - https://cocalc.com/features/jupyter-notebook\n",
    "  - https://www.codingrooms.com/compiler/jupyter-notebook\n",
    "  - https://mybinder.org/"
   ]
  },
  {
   "cell_type": "markdown",
   "id": "73c6063a",
   "metadata": {},
   "source": [
    "## Variáveis\n",
    "Variável é o nome dado ao tipo de conteúdo que pode apresentar diferentes valores enquanto o sistema está em execução. Tudo dependerá do comando do usuário e o tipo de operação que é realizado.  \n",
    "Imagine que você conheça uma nova pessoa. A variável seria o lugar no seu cérebro no qual você guarda, por exemplo, o nome desta pessoa, ou seja, é alocado um espaço para armazenar esta informação e posteriormente é passado o valor referente aquele dado.\n",
    "\n",
    "```\n",
    "nome = \"Bruno\"\n",
    "```"
   ]
  },
  {
   "cell_type": "markdown",
   "id": "41b0fe06",
   "metadata": {},
   "source": [
    "## Tipos básicos\n",
    "\n",
    "Podemos ter informações relacionadas às outras pessoas como nome, idade e salário. Cada uma delas possui o que chamamos de tipos de variável. Os tipos de dados são os seguintes:"
   ]
  },
  {
   "cell_type": "code",
   "execution_count": 1,
   "id": "87037bf8",
   "metadata": {},
   "outputs": [
    {
     "data": {
      "text/plain": [
       "str"
      ]
     },
     "execution_count": 1,
     "metadata": {},
     "output_type": "execute_result"
    }
   ],
   "source": [
    "# Esta é uma forma de comentar o código. Toda esta informação não será processada\n",
    "# Podemos passar variáveis de texto (str) com aspas duplas\n",
    "nome = \"Bruno\"\n",
    "type(nome)"
   ]
  },
  {
   "cell_type": "code",
   "execution_count": 2,
   "id": "74c191c8",
   "metadata": {},
   "outputs": [
    {
     "data": {
      "text/plain": [
       "str"
      ]
     },
     "execution_count": 2,
     "metadata": {},
     "output_type": "execute_result"
    }
   ],
   "source": [
    "# Ou aspas simples\n",
    "nome = 'Bruno'\n",
    "type(nome)"
   ]
  },
  {
   "cell_type": "code",
   "execution_count": 3,
   "id": "175ac6dc",
   "metadata": {},
   "outputs": [
    {
     "data": {
      "text/plain": [
       "int"
      ]
     },
     "execution_count": 3,
     "metadata": {},
     "output_type": "execute_result"
    }
   ],
   "source": [
    "idade = 30\n",
    "type(idade)"
   ]
  },
  {
   "cell_type": "code",
   "execution_count": 4,
   "id": "ca5d746d",
   "metadata": {},
   "outputs": [
    {
     "data": {
      "text/plain": [
       "float"
      ]
     },
     "execution_count": 4,
     "metadata": {},
     "output_type": "execute_result"
    }
   ],
   "source": [
    "salario = 1000.00\n",
    "type(salario)"
   ]
  },
  {
   "cell_type": "code",
   "execution_count": 5,
   "id": "f2d8d93c",
   "metadata": {},
   "outputs": [
    {
     "data": {
      "text/plain": [
       "bool"
      ]
     },
     "execution_count": 5,
     "metadata": {},
     "output_type": "execute_result"
    }
   ],
   "source": [
    "certificado = True\n",
    "type(certificado)"
   ]
  },
  {
   "cell_type": "markdown",
   "id": "a1fcbea2",
   "metadata": {},
   "source": [
    "## Entradas\n",
    "\n",
    "Para solicitarmos entradas de informações a serem fornecidas pelo usuário podemos utilizar a função input. Com ela você poderá (opcional) passar uma mensagem instrutiva ao usuário do que deseja que ele insira.  \n",
    "No exemplo abaixo utilizaremos o input."
   ]
  },
  {
   "cell_type": "code",
   "execution_count": 12,
   "id": "41987074",
   "metadata": {},
   "outputs": [],
   "source": [
    "input()"
   ]
  },
  {
   "cell_type": "markdown",
   "id": "faa5f5b2",
   "metadata": {},
   "source": [
    "**Intuição**  \n",
    "Veja que ele funciona, porém sem uma mensagem de qual informação é solicitada não é possível identificar o que se deve passar ao programa."
   ]
  },
  {
   "cell_type": "code",
   "execution_count": 13,
   "id": "9423131e",
   "metadata": {},
   "outputs": [
    {
     "data": {
      "text/plain": [
       "'39'"
      ]
     },
     "execution_count": 13,
     "metadata": {},
     "output_type": "execute_result"
    }
   ],
   "source": [
    "input('Insira sua idade: ')"
   ]
  },
  {
   "cell_type": "markdown",
   "id": "73e528e4",
   "metadata": {},
   "source": [
    "**Variável**  \n",
    "Podemos guardar o valor passado pelo usuário numa variável"
   ]
  },
  {
   "cell_type": "code",
   "execution_count": 14,
   "id": "975aa083",
   "metadata": {},
   "outputs": [],
   "source": [
    "idade = input('Insira sua idade: ')"
   ]
  },
  {
   "cell_type": "markdown",
   "id": "6ae7fe31",
   "metadata": {},
   "source": [
    "Repare nas aspas que saem quando utilizamos apenas a função input. Isso quer dizer que este valor capturado pelo programa é uma string, independente do que o usuário insira."
   ]
  },
  {
   "cell_type": "code",
   "execution_count": 15,
   "id": "d973a5b6",
   "metadata": {},
   "outputs": [
    {
     "data": {
      "text/plain": [
       "str"
      ]
     },
     "execution_count": 15,
     "metadata": {},
     "output_type": "execute_result"
    }
   ],
   "source": [
    "type(idade)"
   ]
  },
  {
   "cell_type": "markdown",
   "id": "c81d5ec5",
   "metadata": {},
   "source": [
    "**Convertendo o tipo de dado**  \n",
    "Neste caso é interessante que a idade seja um número, visto que em geral o utilizamos para realizar contas, por exemplo. Para converter este valor para um inteiro, podemos fazer da seguinte forma:"
   ]
  },
  {
   "cell_type": "code",
   "execution_count": 16,
   "id": "47c2e23a",
   "metadata": {},
   "outputs": [
    {
     "data": {
      "text/plain": [
       "30"
      ]
     },
     "execution_count": 16,
     "metadata": {},
     "output_type": "execute_result"
    }
   ],
   "source": [
    "int(idade)"
   ]
  },
  {
   "cell_type": "markdown",
   "id": "c40cfc87",
   "metadata": {},
   "source": [
    "E para simplificar ainda mais é comum que já realizemos a conversão da variável logo na chamada do input."
   ]
  },
  {
   "cell_type": "code",
   "execution_count": null,
   "id": "b1053ecd",
   "metadata": {},
   "outputs": [],
   "source": [
    "idade = int(input('Insira sua idade: '))\n",
    "# Para valores do tipo ponto flutuante, ou seja, numéricos com valores decimais, utilizamos o float"
   ]
  },
  {
   "cell_type": "code",
   "execution_count": null,
   "id": "238fc792",
   "metadata": {},
   "outputs": [],
   "source": [
    "type(idade)"
   ]
  },
  {
   "cell_type": "markdown",
   "id": "90d69dd0",
   "metadata": {},
   "source": [
    "## Saídas\n",
    "\n",
    "Em diversas situações desejamos imprimir na tela o resultado de alguma operação que realizamos ou simplesmente emitirmos uma mensagem, para estas situações utilizamos o print."
   ]
  },
  {
   "cell_type": "code",
   "execution_count": null,
   "id": "ef8a8269",
   "metadata": {},
   "outputs": [],
   "source": [
    "print('Você pode utilizar o print para imprimir na tela o que você quiser')"
   ]
  },
  {
   "cell_type": "code",
   "execution_count": 18,
   "id": "142adc8c",
   "metadata": {},
   "outputs": [
    {
     "name": "stdout",
     "output_type": "stream",
     "text": [
      "Help on built-in function print in module builtins:\n",
      "\n",
      "print(...)\n",
      "    print(value, ..., sep=' ', end='\\n', file=sys.stdout, flush=False)\n",
      "    \n",
      "    Prints the values to a stream, or to sys.stdout by default.\n",
      "    Optional keyword arguments:\n",
      "    file:  a file-like object (stream); defaults to the current sys.stdout.\n",
      "    sep:   string inserted between values, default a space.\n",
      "    end:   string appended after the last value, default a newline.\n",
      "    flush: whether to forcibly flush the stream.\n",
      "\n"
     ]
    }
   ],
   "source": [
    "help(print)"
   ]
  },
  {
   "cell_type": "code",
   "execution_count": 1,
   "id": "59b255f4",
   "metadata": {},
   "outputs": [
    {
     "name": "stdout",
     "output_type": "stream",
     "text": [
      "Aspas duplas também funcionam\n"
     ]
    }
   ],
   "source": [
    "print(\"Aspas duplas também funcionam\")"
   ]
  },
  {
   "cell_type": "code",
   "execution_count": 7,
   "id": "1e68d16b",
   "metadata": {},
   "outputs": [
    {
     "name": "stdout",
     "output_type": "stream",
     "text": [
      "Podemos pular linha \n",
      "com este símbolo\n"
     ]
    }
   ],
   "source": [
    "print('Podemos pular linha \\ncom este símbolo')"
   ]
  },
  {
   "cell_type": "code",
   "execution_count": 6,
   "id": "52eef66b",
   "metadata": {},
   "outputs": [
    {
     "name": "stdout",
     "output_type": "stream",
     "text": [
      "\tÉ possível utilizar a tabulação também\n"
     ]
    }
   ],
   "source": [
    "print('\\tÉ possível utilizar a tabulação também')"
   ]
  },
  {
   "cell_type": "code",
   "execution_count": 4,
   "id": "a4504d5b",
   "metadata": {},
   "outputs": [
    {
     "name": "stdout",
     "output_type": "stream",
     "text": [
      "Também podemos\n",
      "usar o print\n",
      "várias vezes na mesma célula\n"
     ]
    }
   ],
   "source": [
    "print('Também podemos')\n",
    "print('usar o print')\n",
    "print('várias vezes na mesma célula')"
   ]
  },
  {
   "cell_type": "markdown",
   "id": "f30ee2c6",
   "metadata": {},
   "source": [
    "**Mais de um argumento**  \n",
    "Para imprimir mais de uma informação, o print permite inserir quantos argumentos forem necessários, desde que separados por vírgula. Veja o exemplo:"
   ]
  },
  {
   "cell_type": "code",
   "execution_count": 5,
   "id": "bf04867b",
   "metadata": {},
   "outputs": [
    {
     "name": "stdout",
     "output_type": "stream",
     "text": [
      "Olá eu sou Bruno muito prazer\n"
     ]
    }
   ],
   "source": [
    "print('Olá', 'eu sou Bruno', 'muito prazer')"
   ]
  },
  {
   "cell_type": "markdown",
   "id": "1881c3d6",
   "metadata": {},
   "source": [
    "**Print de variáveis**  \n",
    "Também é possível imprimir variáveis de forma simples, basta passar o nome dado para a variável dentro dos parênteses."
   ]
  },
  {
   "cell_type": "code",
   "execution_count": null,
   "id": "7b75f589",
   "metadata": {},
   "outputs": [],
   "source": [
    "print(idade)"
   ]
  },
  {
   "cell_type": "markdown",
   "id": "d39ad7cc",
   "metadata": {},
   "source": [
    "E se for necessário imprimir a mensagem 'Olá, eu sou Bruno Issamo\", de forma que o nome e o sobrenome sejam provenientes de variáveis nome e sobrenome."
   ]
  },
  {
   "cell_type": "code",
   "execution_count": null,
   "id": "71c90ef6",
   "metadata": {},
   "outputs": [],
   "source": [
    "nome = 'Bruno'\n",
    "sobrenome = 'Issamo'\n"
   ]
  },
  {
   "cell_type": "code",
   "execution_count": 6,
   "id": "b1ee6896",
   "metadata": {},
   "outputs": [
    {
     "name": "stdout",
     "output_type": "stream",
     "text": [
      "Olá, eu sou Janderson Freitas, muito prazer!\n"
     ]
    }
   ],
   "source": [
    "nome = input(\"Escreva seu nome\")\n",
    "sobrenome = input(\"Escreva seu sobrenome\")\n",
    "\n",
    "print(f\"Olá, eu sou {nome} {sobrenome}, muito prazer!\")"
   ]
  },
  {
   "cell_type": "markdown",
   "id": "b6b3c143",
   "metadata": {},
   "source": [
    "**Print com f string**  \n",
    "Outra forma de utilizarmos o print com variáveis é por meio do que chamamos de f string."
   ]
  },
  {
   "cell_type": "code",
   "execution_count": null,
   "id": "376ddf37",
   "metadata": {},
   "outputs": [],
   "source": [
    "print(f'Eu tenho {idade} anos')"
   ]
  },
  {
   "cell_type": "markdown",
   "id": "f51d5964",
   "metadata": {},
   "source": [
    "**Bora praticar!**  \n",
    "Escreva um programa que receba seu nome, sua idade e hobby e escreva uma única sentença que seja, por exemplo, \"Meu nome é Bruno, tenho 29 anos e meu hobby é praticar esportes\" "
   ]
  },
  {
   "cell_type": "code",
   "execution_count": 8,
   "id": "3a85f961",
   "metadata": {},
   "outputs": [
    {
     "name": "stdout",
     "output_type": "stream",
     "text": [
      "Meu nome é Janderson, tenho 30 anos e meu hobby é tocar violão\n"
     ]
    }
   ],
   "source": [
    "nome = input(\"Escreva seu nome:\")\n",
    "idade = int(input(\"Escreva sua idade:\"))\n",
    "hobby = input(\"Escreva seu hobby:\")\n",
    "\n",
    "print(f\"Meu nome é {nome}, tenho {idade} anos e meu hobby é {hobby}.\")"
   ]
  },
  {
   "cell_type": "markdown",
   "id": "0468efe1",
   "metadata": {},
   "source": [
    "## Operadores Algébricos\n",
    "\n",
    "Rotineiramente nos deparamos com a necessidade de realizarmos cálculos, para isso podemos utilizar os operadores algébricos como conhecemos na matemática tradicional."
   ]
  },
  {
   "cell_type": "markdown",
   "id": "fb401a8b",
   "metadata": {},
   "source": [
    "**Soma de dois valores**"
   ]
  },
  {
   "cell_type": "code",
   "execution_count": 9,
   "id": "f99c680d",
   "metadata": {},
   "outputs": [
    {
     "name": "stdout",
     "output_type": "stream",
     "text": [
      "4\n"
     ]
    }
   ],
   "source": [
    "print(2 + 2)"
   ]
  },
  {
   "cell_type": "code",
   "execution_count": 26,
   "id": "eb3c61d1",
   "metadata": {},
   "outputs": [
    {
     "name": "stdout",
     "output_type": "stream",
     "text": [
      "3.4000000000000004\n"
     ]
    }
   ],
   "source": [
    "x = print(8.4 % 5)\n",
    "x"
   ]
  },
  {
   "cell_type": "markdown",
   "id": "c69dcb20",
   "metadata": {},
   "source": [
    "Resumindo:"
   ]
  },
  {
   "cell_type": "markdown",
   "id": "cf6d43b8",
   "metadata": {},
   "source": [
    "| Símbolo | Operação        |\n",
    "|---------|-----------------|\n",
    "|    +    | soma            |\n",
    "|    -    | subtração       |\n",
    "|    *    | multiplicação   |\n",
    "|    /    | divisão         |\n",
    "|    //   | divisão inteira |\n",
    "|    %    | resto           |\n",
    "|    **   | potência        |"
   ]
  },
  {
   "cell_type": "markdown",
   "id": "be41659d",
   "metadata": {},
   "source": [
    "**Utilizando variáveis**"
   ]
  },
  {
   "cell_type": "code",
   "execution_count": 32,
   "id": "26f0830f",
   "metadata": {},
   "outputs": [
    {
     "name": "stdout",
     "output_type": "stream",
     "text": [
      "25\n"
     ]
    }
   ],
   "source": [
    "valor_01 = 10\n",
    "valor_02 = 15\n",
    "\n",
    "print(valor_01 + valor_02)"
   ]
  },
  {
   "cell_type": "markdown",
   "id": "b40ef83a",
   "metadata": {},
   "source": [
    "**Bora praticar!**  \n",
    "Com tudo que vimos até o momento faça um programa que solicite ao usuário que insira seu ano de nascimento. Desconsiderando o mês do ano de nascimento, emita uma mensagem dizendo quantos anos ele possui."
   ]
  },
  {
   "cell_type": "code",
   "execution_count": 28,
   "id": "ea4f2c7d",
   "metadata": {},
   "outputs": [
    {
     "name": "stdout",
     "output_type": "stream",
     "text": [
      "Você tem 30 anos\n"
     ]
    }
   ],
   "source": [
    "nascimento = int(input(\"Digite seu ano de nascimento:\"))\n",
    "idade = 2022 - nascimento\n",
    "print(f\"Você tem {idade} anos\")"
   ]
  },
  {
   "cell_type": "code",
   "execution_count": null,
   "id": "930a2fa4",
   "metadata": {},
   "outputs": [],
   "source": [
    "nascimento = int(input(\"Digite seu ano de nascimento:\"))\n",
    "idade = 2022 - nascimento\n",
    "print(f\"Você tem {idade} anos\")"
   ]
  },
  {
   "cell_type": "markdown",
   "id": "c0bfad1f",
   "metadata": {},
   "source": [
    "## Operadores de Comparação  \n",
    "Os operadores de comparação são aqueles que possuem o objetivo de analisar os valores de uma expressão e retornar um valor booleano, ou seja, verdadeiro (1) ou falso (0)."
   ]
  },
  {
   "cell_type": "code",
   "execution_count": 33,
   "id": "ec142f45",
   "metadata": {},
   "outputs": [
    {
     "name": "stdout",
     "output_type": "stream",
     "text": [
      "True\n"
     ]
    }
   ],
   "source": [
    "print(3 > 2)"
   ]
  },
  {
   "cell_type": "code",
   "execution_count": 34,
   "id": "10769d48",
   "metadata": {},
   "outputs": [
    {
     "name": "stdout",
     "output_type": "stream",
     "text": [
      "False\n"
     ]
    }
   ],
   "source": [
    "print(2 > 3)"
   ]
  },
  {
   "cell_type": "code",
   "execution_count": 35,
   "id": "5ff742e5",
   "metadata": {},
   "outputs": [
    {
     "name": "stdout",
     "output_type": "stream",
     "text": [
      "False\n"
     ]
    }
   ],
   "source": [
    "print(2 == 3)"
   ]
  },
  {
   "cell_type": "code",
   "execution_count": 36,
   "id": "52c4dac5",
   "metadata": {},
   "outputs": [
    {
     "name": "stdout",
     "output_type": "stream",
     "text": [
      "True\n"
     ]
    }
   ],
   "source": [
    "print(2 == 2)"
   ]
  },
  {
   "cell_type": "markdown",
   "id": "be2ff254",
   "metadata": {},
   "source": [
    "**Bora praticar!**  \n",
    "Imagine que você está implementando um sistema para verificar se os alunos de uma turma estudantil passaram na disciplina ou não. Para isso solicite que o usuário insira as notas das 4 provas realizadas por um estudante e calcule a média. Após isso, emita uma resposta booleana (True ou False) se o estudante passou na disciplina pensando que a média mínima para aprovação é que seja pelo menos 5."
   ]
  },
  {
   "cell_type": "code",
   "execution_count": 3,
   "id": "8794ca21",
   "metadata": {
    "scrolled": true
   },
   "outputs": [
    {
     "name": "stdout",
     "output_type": "stream",
     "text": [
      "10.0\n",
      "O Aluno foi Aprovado? True\n"
     ]
    }
   ],
   "source": [
    "prova1 = float(input(\"Nota da prova 1:\"))\n",
    "prova2 = float(input(\"Nota da prova 1:\"))\n",
    "prova3 = float(input(\"Nota da prova 1:\"))\n",
    "prova4 = float(input(\"Nota da prova 1:\"))\n",
    "\n",
    "media = (prova1 + prova2 + prova3 + prova4)/4\n",
    "aprovado = media >= 5\n",
    "\n",
    "print(media)\n",
    "print(f'O Aluno foi Aprovado? {aprovado}')\n"
   ]
  },
  {
   "cell_type": "markdown",
   "id": "65eb1662",
   "metadata": {},
   "source": [
    "Crie um algoritmo que calcule o IMC (índice de massa corporal). O IMC é calculado com a formula PESO/(ALTURA ^ 2). Para isso, coloque as informações nas variáveis e ao final apresente o resultado como no exemplo: \"O IMC é 18\""
   ]
  },
  {
   "cell_type": "code",
   "execution_count": 38,
   "id": "41c89790",
   "metadata": {},
   "outputs": [
    {
     "name": "stdout",
     "output_type": "stream",
     "text": [
      "O IMC é 31.37798916633637\n"
     ]
    }
   ],
   "source": [
    "peso = float(input('Digite seu peso:'))\n",
    "altura = float(input('Digite sua altura:'))\n",
    "\n",
    "imc = peso/(altura**2)\n",
    "print(f\"O IMC é {imc}\")"
   ]
  },
  {
   "cell_type": "markdown",
   "id": "3508edd6",
   "metadata": {},
   "source": [
    "Escreva um algoritmo que calcule (x + y) * (x + y). Os valores de x e y devem ser inseridos pelo usuario"
   ]
  },
  {
   "cell_type": "code",
   "execution_count": 39,
   "id": "6de3eaf0",
   "metadata": {},
   "outputs": [
    {
     "name": "stdout",
     "output_type": "stream",
     "text": [
      "(x + y)² = 49.0 \n"
     ]
    }
   ],
   "source": [
    "x = float(input(\"Digite o valor de X\"))\n",
    "y = float(input(\"Digite o valor de Y\"))\n",
    "\n",
    "result = (x+y)**2\n",
    "\n",
    "print(f\"(x + y)² = {result}\")"
   ]
  }
 ],
 "metadata": {
  "kernelspec": {
   "display_name": "Python 3.10.7 64-bit",
   "language": "python",
   "name": "python3"
  },
  "language_info": {
   "codemirror_mode": {
    "name": "ipython",
    "version": 3
   },
   "file_extension": ".py",
   "mimetype": "text/x-python",
   "name": "python",
   "nbconvert_exporter": "python",
   "pygments_lexer": "ipython3",
   "version": "3.10.7"
  },
  "vscode": {
   "interpreter": {
    "hash": "d3f16d613b45d41765fc5191cf61837cebf78b91418334f86bed771f1681791c"
   }
  }
 },
 "nbformat": 4,
 "nbformat_minor": 5
}
