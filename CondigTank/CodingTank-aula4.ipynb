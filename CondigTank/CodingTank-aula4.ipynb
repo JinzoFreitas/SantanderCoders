{
 "cells": [
  {
   "cell_type": "markdown",
   "id": "c5daa41c",
   "metadata": {},
   "source": [
    "# Listas, Índices, Iterações de listas, Métodos de listas"
   ]
  },
  {
   "cell_type": "markdown",
   "id": "3db6fe50",
   "metadata": {},
   "source": [
    "E se quisermos fazer o programa que a pessoa digita 10 numeros e dizemos o maior, conseguimos?\n",
    "\n",
    "E se quisermos o 2° maior? E se quisermos o 5º? \n",
    "\n",
    "Podemos resolver com **listas**"
   ]
  },
  {
   "cell_type": "markdown",
   "id": "f12432bd",
   "metadata": {},
   "source": [
    "- Listas: \n",
    "\n",
    "Listas são coleções de objetos em Python e é expressada por `[]`"
   ]
  },
  {
   "cell_type": "code",
   "execution_count": 1,
   "id": "0d381daf",
   "metadata": {
    "ExecuteTime": {
     "end_time": "2022-10-16T23:31:25.992488Z",
     "start_time": "2022-10-16T23:31:25.972541Z"
    }
   },
   "outputs": [],
   "source": [
    "lista_1 = []\n",
    "lista_2 = list()\n",
    "lista_3 = [1, 2, 3.5, 'quatro', 5, 6.1] # misturando int, str, float"
   ]
  },
  {
   "cell_type": "code",
   "execution_count": 1,
   "id": "0b37acfb",
   "metadata": {
    "ExecuteTime": {
     "end_time": "2022-10-16T23:32:32.335830Z",
     "start_time": "2022-10-16T23:32:32.320000Z"
    }
   },
   "outputs": [],
   "source": [
    "lista = [1, 3, 5, 7, 9, 11, 13, 15, 17, 21]\n",
    "#Indices 0, 1, 2, 3, 4, 5 , 6 , 7 , 8 , 9"
   ]
  },
  {
   "cell_type": "markdown",
   "id": "db33a0c3",
   "metadata": {},
   "source": [
    "Em uma lista, a posição dos elementos é importante"
   ]
  },
  {
   "cell_type": "code",
   "execution_count": 13,
   "id": "02b7270b",
   "metadata": {
    "ExecuteTime": {
     "end_time": "2022-10-16T23:33:06.577475Z",
     "start_time": "2022-10-16T23:33:06.569462Z"
    }
   },
   "outputs": [
    {
     "data": {
      "text/plain": [
       "[1, __main__.Teste, <__main__.Teste at 0x1d629991b70>]"
      ]
     },
     "execution_count": 13,
     "metadata": {},
     "output_type": "execute_result"
    }
   ],
   "source": [
    "\n",
    "class Teste:\n",
    "    def __init__(self, x, y):\n",
    "        self.x = x\n",
    "        self.y = y\n",
    "\n",
    "obj = Teste(3,4)\n",
    "\n",
    "listas = [1, Teste, obj]\n",
    "listas"
   ]
  },
  {
   "cell_type": "markdown",
   "id": "5eae2205",
   "metadata": {},
   "source": [
    "lista"
   ]
  },
  {
   "cell_type": "markdown",
   "id": "553baf4c",
   "metadata": {
    "ExecuteTime": {
     "end_time": "2022-10-16T22:53:52.221009Z",
     "start_time": "2022-10-16T22:53:52.204055Z"
    }
   },
   "source": [
    "O que podemos fazer com a lista?"
   ]
  },
  {
   "cell_type": "code",
   "execution_count": 20,
   "id": "544879a5",
   "metadata": {
    "ExecuteTime": {
     "end_time": "2022-10-16T23:33:15.128601Z",
     "start_time": "2022-10-16T23:33:15.101673Z"
    }
   },
   "outputs": [
    {
     "name": "stdout",
     "output_type": "stream",
     "text": [
      "1\n",
      "3\n",
      "5\n",
      "7\n",
      "9\n",
      "11\n",
      "13\n",
      "15\n",
      "17\n",
      "21\n"
     ]
    },
    {
     "ename": "IndexError",
     "evalue": "list index out of range",
     "output_type": "error",
     "traceback": [
      "\u001b[1;31m---------------------------------------------------------------------------\u001b[0m",
      "\u001b[1;31mIndexError\u001b[0m                                Traceback (most recent call last)",
      "Cell \u001b[1;32mIn [20], line 22\u001b[0m\n\u001b[0;32m     18\u001b[0m \u001b[39mprint\u001b[39m(lista[\u001b[39m8\u001b[39m])\n\u001b[0;32m     20\u001b[0m \u001b[39mprint\u001b[39m(lista[\u001b[39m9\u001b[39m])\n\u001b[1;32m---> 22\u001b[0m \u001b[39mprint\u001b[39m(lista[\u001b[39m-\u001b[39;49m\u001b[39m11\u001b[39;49m])\n",
      "\u001b[1;31mIndexError\u001b[0m: list index out of range"
     ]
    }
   ],
   "source": [
    "# podemos acessar os elementos da lista\n",
    "print(lista[0])\n",
    "\n",
    "print(lista[1])\n",
    "\n",
    "print(lista[2])\n",
    "\n",
    "print(lista[3])\n",
    "\n",
    "print(lista[4])\n",
    "\n",
    "print(lista[5])\n",
    "\n",
    "print(lista[6])\n",
    "\n",
    "print(lista[7])\n",
    "\n",
    "print(lista[8])\n",
    "\n",
    "print(lista[9])\n",
    "\n",
    "print(lista[-11])\n",
    "\n"
   ]
  },
  {
   "cell_type": "code",
   "execution_count": 5,
   "id": "009597d7",
   "metadata": {
    "ExecuteTime": {
     "end_time": "2022-10-16T23:33:07.835925Z",
     "start_time": "2022-10-16T23:33:07.818931Z"
    }
   },
   "outputs": [
    {
     "name": "stdout",
     "output_type": "stream",
     "text": [
      "10\n"
     ]
    }
   ],
   "source": [
    "# podemos saber a quantidade de elementos da lista\n",
    "\n",
    "print(len(lista))"
   ]
  },
  {
   "cell_type": "code",
   "execution_count": 32,
   "id": "718ec917",
   "metadata": {},
   "outputs": [
    {
     "name": "stdout",
     "output_type": "stream",
     "text": [
      "1\n",
      "5\n",
      "7\n",
      "9\n",
      "11\n",
      "13\n",
      "15\n",
      "17\n",
      "21\n"
     ]
    }
   ],
   "source": [
    "for elm in lista: \n",
    "    if elm != lista[1]:\n",
    "        print(elm)"
   ]
  },
  {
   "cell_type": "code",
   "execution_count": 34,
   "id": "d0042f21",
   "metadata": {
    "ExecuteTime": {
     "end_time": "2022-10-16T23:38:49.990307Z",
     "start_time": "2022-10-16T23:38:49.969364Z"
    }
   },
   "outputs": [
    {
     "name": "stdout",
     "output_type": "stream",
     "text": [
      "[7, 9, 11]\n",
      "[1, 3, 11, 7, 9]\n",
      "[11, 13, 15, 17, 21]\n",
      "[3, 7, 11, 15]\n"
     ]
    }
   ],
   "source": [
    "# podemos quebrar a lista\n",
    "\n",
    "print(lista[3:6]) # inserindo a posição de início e fim dos elementos (repare que a posição final não entra na chamada)\n",
    "\n",
    "print(lista[:5]) # quando não passarmos o início está subentendido que será o primeiro elemento\n",
    "\n",
    "print(lista[5:]) # quando não passarmos o final está subentendido que será o último elemento\n",
    "\n",
    "print(lista[1:8:2]) # os três elementos sifnificam, respectivamente, início: fim: passo"
   ]
  },
  {
   "cell_type": "code",
   "execution_count": 33,
   "id": "23f8ead4",
   "metadata": {
    "ExecuteTime": {
     "end_time": "2022-10-16T23:34:03.659012Z",
     "start_time": "2022-10-16T23:34:03.644575Z"
    }
   },
   "outputs": [
    {
     "name": "stdout",
     "output_type": "stream",
     "text": [
      "[1, 3, 11, 7, 9, 11, 13, 15, 17, 21]\n"
     ]
    }
   ],
   "source": [
    "# podemos substituir um valor da lista\n",
    "\n",
    "lista[2] = 11\n",
    "\n",
    "print(lista)"
   ]
  },
  {
   "cell_type": "code",
   "execution_count": 9,
   "id": "10856d4b",
   "metadata": {},
   "outputs": [],
   "source": [
    "lista = [1, 3, 5, 7, 9, 11, 13, 15, 17, 21]"
   ]
  },
  {
   "cell_type": "code",
   "execution_count": 10,
   "id": "dc881dd8",
   "metadata": {
    "ExecuteTime": {
     "end_time": "2022-10-16T23:34:10.574595Z",
     "start_time": "2022-10-16T23:34:10.568581Z"
    }
   },
   "outputs": [
    {
     "data": {
      "text/plain": [
       "[1, 3, 5, 7, 9, 11, 13, 15, 17, 21, 99]"
      ]
     },
     "execution_count": 10,
     "metadata": {},
     "output_type": "execute_result"
    }
   ],
   "source": [
    "# podemos acrescentar valores na lista -> usando a função append\n",
    "lista.append(99)\n",
    "lista"
   ]
  },
  {
   "cell_type": "code",
   "execution_count": 11,
   "id": "9459920a",
   "metadata": {
    "ExecuteTime": {
     "end_time": "2022-10-16T23:34:16.712032Z",
     "start_time": "2022-10-16T23:34:16.693072Z"
    }
   },
   "outputs": [
    {
     "data": {
      "text/plain": [
       "[3, 5, 7, 9, 11, 13, 15, 17, 21, 99]"
      ]
     },
     "execution_count": 11,
     "metadata": {},
     "output_type": "execute_result"
    }
   ],
   "source": [
    "lista.remove(min(lista))\n",
    "lista"
   ]
  },
  {
   "cell_type": "markdown",
   "id": "480bb39f",
   "metadata": {},
   "source": [
    "Existem várias outras funções de lista que vocês irão ver no módulo, como:\n",
    "- insert\n",
    "- remove\n",
    "- pop\n",
    "- sort\n",
    "- reverse\n",
    "- index\n",
    "- max, min, len\n",
    "\n",
    "- list comprehension"
   ]
  },
  {
   "cell_type": "markdown",
   "id": "55cf4043",
   "metadata": {},
   "source": [
    "**Bora praticar!**\n",
    "\n",
    "1. Será que agora conseguimos fazer o exercício de identificação do maior número, mas agora utilizando listas?"
   ]
  },
  {
   "cell_type": "code",
   "execution_count": 12,
   "id": "62a47238",
   "metadata": {
    "ExecuteTime": {
     "end_time": "2022-10-16T23:42:43.127808Z",
     "start_time": "2022-10-16T23:42:32.585787Z"
    }
   },
   "outputs": [
    {
     "name": "stdout",
     "output_type": "stream",
     "text": [
      "O maior número digitado foi 54\n",
      "[8, 5, 45, 12, 54, 23, 0]\n"
     ]
    }
   ],
   "source": [
    "num,numeros = -1,[]\n",
    "while(num != 0):\n",
    "    num = int(input('Digite um número:'))\n",
    "    numeros.append(num)    \n",
    "print(f'O maior número digitado foi {max(numeros)}')\n",
    "print(numeros)"
   ]
  },
  {
   "cell_type": "markdown",
   "id": "426282b4",
   "metadata": {},
   "source": [
    "2. E se quisermos mostrar o terceiro maior número ao usuário."
   ]
  },
  {
   "cell_type": "code",
   "execution_count": 69,
   "id": "0ad98da4",
   "metadata": {},
   "outputs": [
    {
     "name": "stdout",
     "output_type": "stream",
     "text": [
      "[454, 56, 56, 54, 58, 2, 2, 123, 659, 586, 63, 54]\n",
      "O maior número digitado foi 659\n"
     ]
    },
    {
     "ename": "TypeError",
     "evalue": "'NoneType' object is not iterable",
     "output_type": "error",
     "traceback": [
      "\u001b[1;31m---------------------------------------------------------------------------\u001b[0m",
      "\u001b[1;31mTypeError\u001b[0m                                 Traceback (most recent call last)",
      "Cell \u001b[1;32mIn [69], line 8\u001b[0m\n\u001b[0;32m      6\u001b[0m \u001b[39mprint\u001b[39m(numeros)\n\u001b[0;32m      7\u001b[0m \u001b[39mprint\u001b[39m(\u001b[39mf\u001b[39m\u001b[39m'\u001b[39m\u001b[39mO maior número digitado foi \u001b[39m\u001b[39m{\u001b[39;00m\u001b[39mmax\u001b[39m(numeros)\u001b[39m}\u001b[39;00m\u001b[39m'\u001b[39m)\n\u001b[1;32m----> 8\u001b[0m \u001b[39mset\u001b[39;49m(numeros\u001b[39m.\u001b[39;49msort())\n\u001b[0;32m      9\u001b[0m \u001b[39mprint\u001b[39m(\u001b[39mf\u001b[39m\u001b[39m'\u001b[39m\u001b[39mO terceiro maior número digitado foi \u001b[39m\u001b[39m{\u001b[39;00mnumeros[\u001b[39m-\u001b[39m\u001b[39m3\u001b[39m]\u001b[39m}\u001b[39;00m\u001b[39m'\u001b[39m)\n",
      "\u001b[1;31mTypeError\u001b[0m: 'NoneType' object is not iterable"
     ]
    }
   ],
   "source": [
    "num,numeros = -1,[]\n",
    "while(num != 0):\n",
    "    num = int(input('Digite um número:'))\n",
    "    numeros.append(num)\n",
    "numeros.remove(0)\n",
    "print(numeros)\n",
    "print(f'O maior número digitado foi {max(numeros)}')\n",
    "numeros.sort()\n",
    "print(f'O terceiro maior número digitado foi {numeros[-3]}')"
   ]
  },
  {
   "cell_type": "markdown",
   "id": "21b64d18",
   "metadata": {},
   "source": [
    "3. Dada a seguinte lista de números\n",
    "\n",
    "```python\n",
    "\n",
    "numeros = [5, 13, 8, 44, 9]\n",
    "\n",
    "```\n",
    "\n",
    "Emita a mensagem a seguir a para todos os valores da lista\n",
    "\n",
    "```python\n",
    "\n",
    "indice 0: 5\n",
    "\n",
    "indice 1: 13\n",
    "...\n",
    "\n",
    "```\n",
    "por fim some todos os valores dessa lista."
   ]
  },
  {
   "cell_type": "code",
   "execution_count": null,
   "id": "9b938132",
   "metadata": {
    "ExecuteTime": {
     "end_time": "2022-10-16T23:44:22.827213Z",
     "start_time": "2022-10-16T23:44:22.788322Z"
    }
   },
   "outputs": [],
   "source": []
  },
  {
   "cell_type": "markdown",
   "id": "7c0cb36f",
   "metadata": {},
   "source": [
    "4.  Crie uma lista crescente (começando do 0) com a quantidade de elementos dada pelo usuário"
   ]
  },
  {
   "cell_type": "code",
   "execution_count": null,
   "id": "6dd0bac5",
   "metadata": {
    "ExecuteTime": {
     "end_time": "2022-10-16T23:46:33.045484Z",
     "start_time": "2022-10-16T23:46:31.102366Z"
    }
   },
   "outputs": [],
   "source": []
  },
  {
   "cell_type": "markdown",
   "id": "e430d887",
   "metadata": {},
   "source": [
    "Maneiras de percorrer uma lista\n",
    "\n",
    "numeros = [1, 3, 5, 7, 9]\n",
    "\n",
    "- Usando while\n",
    "\n",
    "Pros: Eu sei não só o elemento mas sei o indice também   \n",
    "Contra: Eu preciso controlar o indice\n",
    "\n",
    "```python\n",
    "contador = 0\n",
    "while (contador < len(numeros)):\n",
    "    print(numeros[contador])\n",
    "    contador = contador + 1  Se eu esquecer essa linha\n",
    "```\n",
    "\n",
    "\n",
    "- Jeito intermediario: for in range\n",
    "\n",
    "Pros: Sei o indice, não preciso controlar o loop  \n",
    "Contra: Precisa saber usar a função range  \n",
    "range(5) ->  [0, 1, 2, 3, 4]\n",
    "\n",
    "```python\n",
    "numeros = [1, 3, 5, 7, 9]\n",
    "for indice in range(len(numeros)):\n",
    "    print(numeros[indice])\n",
    "```\n",
    "\n",
    "\n",
    "- Usando só for\n",
    "\n",
    "Pros: não preciso me preocupar com o indice  \n",
    "Contra: não sei indice"
   ]
  },
  {
   "cell_type": "code",
   "execution_count": 71,
   "id": "c4f2dda2",
   "metadata": {},
   "outputs": [
    {
     "name": "stdout",
     "output_type": "stream",
     "text": [
      "5 13 8 44 9 "
     ]
    }
   ],
   "source": [
    "numeros = [5, 13, 8, 44, 9]\n",
    "\n",
    "for numero in numeros:  # numero é uma especie de variavel temporaria\n",
    "    print(numero, end=' ')"
   ]
  },
  {
   "cell_type": "markdown",
   "id": "71024b38",
   "metadata": {},
   "source": [
    "A função range"
   ]
  },
  {
   "cell_type": "code",
   "execution_count": 78,
   "id": "f0b59c67",
   "metadata": {},
   "outputs": [
    {
     "name": "stdout",
     "output_type": "stream",
     "text": [
      "[0, 1, 2]\n",
      "[2]\n",
      "[1, 3, 5, 7, 9]\n"
     ]
    }
   ],
   "source": [
    "print(list(range(3))) # apenas o fim\n",
    "\n",
    "print(list(range(2, 3))) # começo e fim\n",
    "\n",
    "print(list(range(1, 10, 2))) # começo, fim e passo"
   ]
  },
  {
   "cell_type": "code",
   "execution_count": 75,
   "id": "8fa13079",
   "metadata": {},
   "outputs": [
    {
     "name": "stdout",
     "output_type": "stream",
     "text": [
      "Help on class range in module builtins:\n",
      "\n",
      "class range(object)\n",
      " |  range(stop) -> range object\n",
      " |  range(start, stop[, step]) -> range object\n",
      " |  \n",
      " |  Return an object that produces a sequence of integers from start (inclusive)\n",
      " |  to stop (exclusive) by step.  range(i, j) produces i, i+1, i+2, ..., j-1.\n",
      " |  start defaults to 0, and stop is omitted!  range(4) produces 0, 1, 2, 3.\n",
      " |  These are exactly the valid indices for a list of 4 elements.\n",
      " |  When step is given, it specifies the increment (or decrement).\n",
      " |  \n",
      " |  Methods defined here:\n",
      " |  \n",
      " |  __bool__(self, /)\n",
      " |      True if self else False\n",
      " |  \n",
      " |  __contains__(self, key, /)\n",
      " |      Return key in self.\n",
      " |  \n",
      " |  __eq__(self, value, /)\n",
      " |      Return self==value.\n",
      " |  \n",
      " |  __ge__(self, value, /)\n",
      " |      Return self>=value.\n",
      " |  \n",
      " |  __getattribute__(self, name, /)\n",
      " |      Return getattr(self, name).\n",
      " |  \n",
      " |  __getitem__(self, key, /)\n",
      " |      Return self[key].\n",
      " |  \n",
      " |  __gt__(self, value, /)\n",
      " |      Return self>value.\n",
      " |  \n",
      " |  __hash__(self, /)\n",
      " |      Return hash(self).\n",
      " |  \n",
      " |  __iter__(self, /)\n",
      " |      Implement iter(self).\n",
      " |  \n",
      " |  __le__(self, value, /)\n",
      " |      Return self<=value.\n",
      " |  \n",
      " |  __len__(self, /)\n",
      " |      Return len(self).\n",
      " |  \n",
      " |  __lt__(self, value, /)\n",
      " |      Return self<value.\n",
      " |  \n",
      " |  __ne__(self, value, /)\n",
      " |      Return self!=value.\n",
      " |  \n",
      " |  __reduce__(...)\n",
      " |      Helper for pickle.\n",
      " |  \n",
      " |  __repr__(self, /)\n",
      " |      Return repr(self).\n",
      " |  \n",
      " |  __reversed__(...)\n",
      " |      Return a reverse iterator.\n",
      " |  \n",
      " |  count(...)\n",
      " |      rangeobject.count(value) -> integer -- return number of occurrences of value\n",
      " |  \n",
      " |  index(...)\n",
      " |      rangeobject.index(value) -> integer -- return index of value.\n",
      " |      Raise ValueError if the value is not present.\n",
      " |  \n",
      " |  ----------------------------------------------------------------------\n",
      " |  Static methods defined here:\n",
      " |  \n",
      " |  __new__(*args, **kwargs) from builtins.type\n",
      " |      Create and return a new object.  See help(type) for accurate signature.\n",
      " |  \n",
      " |  ----------------------------------------------------------------------\n",
      " |  Data descriptors defined here:\n",
      " |  \n",
      " |  start\n",
      " |  \n",
      " |  step\n",
      " |  \n",
      " |  stop\n",
      "\n"
     ]
    }
   ],
   "source": [
    "help(range)"
   ]
  },
  {
   "cell_type": "markdown",
   "id": "f41aa6a1",
   "metadata": {},
   "source": [
    "Podemos fazer o exercício 3 utilizando o for."
   ]
  },
  {
   "cell_type": "code",
   "execution_count": 81,
   "id": "99c5a042",
   "metadata": {},
   "outputs": [
    {
     "name": "stdout",
     "output_type": "stream",
     "text": [
      "indice 0: 5\n",
      "indice 1: 13\n",
      "indice 2: 8\n",
      "indice 3: 44\n",
      "indice 4: 9\n",
      "Soma: 79\n"
     ]
    }
   ],
   "source": [
    "numeros = [5, 13, 8, 44, 9]\n",
    "soma = 0\n",
    "indice = 0\n",
    "\n",
    "for i in range(len(numeros)): \n",
    "    print(f\"indice {i}: {numeros[i]}\")\n",
    "    soma = soma + numeros[i]\n",
    "print(\"Soma:\", soma)"
   ]
  },
  {
   "cell_type": "markdown",
   "id": "85a4ae40",
   "metadata": {},
   "source": [
    "**list comprehension**  \n",
    "Podemos criar listas utilizando o **for** loop de forma prática"
   ]
  },
  {
   "cell_type": "code",
   "execution_count": null,
   "id": "8112fbb4",
   "metadata": {},
   "outputs": [],
   "source": []
  },
  {
   "cell_type": "code",
   "execution_count": 82,
   "id": "364ba505",
   "metadata": {},
   "outputs": [
    {
     "data": {
      "text/plain": [
       "[2, 4, 6, 8, 10]"
      ]
     },
     "execution_count": 82,
     "metadata": {},
     "output_type": "execute_result"
    }
   ],
   "source": [
    "numeros = [1, 2, 3, 4, 5]\n",
    "\n",
    "[2*i for i in numeros]"
   ]
  },
  {
   "cell_type": "markdown",
   "id": "18c36530",
   "metadata": {},
   "source": [
    "**Bora praticar!**\n",
    "1. Crie uma lista qualquer e faça um programa que imprima cada elemento da lista usando o for."
   ]
  },
  {
   "cell_type": "code",
   "execution_count": 88,
   "id": "c4b3e96d",
   "metadata": {},
   "outputs": [
    {
     "name": "stdout",
     "output_type": "stream",
     "text": [
      "1\n",
      "2\n",
      "3\n",
      "4\n",
      "5\n",
      "a\n",
      "b\n",
      "c\n",
      "d\n",
      "e\n"
     ]
    }
   ],
   "source": [
    "lista_1 = [1,2,3,4,5,'a','b','c','d','e']\n",
    "for value in lista_1:\n",
    "    print(value)"
   ]
  },
  {
   "cell_type": "markdown",
   "id": "529d3c39",
   "metadata": {},
   "source": [
    "2. Faça um programa que imprima todos os itens de uma lista usando while e compare com o exercício 1."
   ]
  },
  {
   "cell_type": "code",
   "execution_count": 93,
   "id": "428df806",
   "metadata": {},
   "outputs": [
    {
     "name": "stdout",
     "output_type": "stream",
     "text": [
      "1\n",
      "2\n",
      "3\n",
      "4\n",
      "5\n",
      "a\n",
      "b\n",
      "c\n",
      "d\n",
      "e\n"
     ]
    }
   ],
   "source": [
    "i = 0\n",
    "while (i < len(lista_1)):\n",
    "    print(lista_1[i])\n",
    "    i+=1"
   ]
  },
  {
   "cell_type": "markdown",
   "id": "baa756e6",
   "metadata": {},
   "source": [
    "3. Faça um programa que peça para o usuário digitar um número n e imprima uma lista com todos os números de 0 a n-1."
   ]
  },
  {
   "cell_type": "code",
   "execution_count": 115,
   "id": "79274921",
   "metadata": {},
   "outputs": [
    {
     "name": "stdout",
     "output_type": "stream",
     "text": [
      "[0, 1, 2, 3, 4, 5, 6, 7, 8, 9, 10, 11, 12, 13, 14, 15, 16, 17, 18, 19]\n"
     ]
    }
   ],
   "source": [
    "n = int(input('Digite um valor para n'))\n",
    "print(list(range(n)))"
   ]
  },
  {
   "cell_type": "markdown",
   "id": "ae729dd1",
   "metadata": {},
   "source": [
    "4. Faça um programa que olhe todos os itens de uma lista e diga quantos deles são pares. "
   ]
  },
  {
   "cell_type": "code",
   "execution_count": 118,
   "id": "da5d8a74",
   "metadata": {},
   "outputs": [
    {
     "name": "stdout",
     "output_type": "stream",
     "text": [
      "Temos 12 ocorrências de números pares\n"
     ]
    }
   ],
   "source": [
    "i=0\n",
    "lista_4 = range(10,79,3)\n",
    "pares = [ 1 for num in lista_4 if (num%2==0)]\n",
    "print(f'Temos {sum(pares)} ocorrências de números pares')\n"
   ]
  },
  {
   "cell_type": "markdown",
   "id": "523d195f",
   "metadata": {},
   "source": [
    "5. Faça um programa que imprima o maior número de uma lista, sem usar o método max()."
   ]
  },
  {
   "cell_type": "code",
   "execution_count": null,
   "id": "6b568b54",
   "metadata": {},
   "outputs": [],
   "source": []
  },
  {
   "cell_type": "markdown",
   "id": "0faa9fcd",
   "metadata": {},
   "source": [
    "6. Agora usando o método max() faça um programa que imprima os três maiores números de uma lista. "
   ]
  },
  {
   "cell_type": "code",
   "execution_count": null,
   "id": "0d539d40",
   "metadata": {},
   "outputs": [],
   "source": []
  },
  {
   "cell_type": "markdown",
   "id": "9cef68f1",
   "metadata": {},
   "source": [
    "7. Faça um programa que, dadas duas listas de mesmo tamanho, crie uma nova lista com cada elemento igual a soma dos elementos da lista 1 com os da lista 2, na mesma posição. "
   ]
  },
  {
   "cell_type": "code",
   "execution_count": null,
   "id": "b1244d4d",
   "metadata": {},
   "outputs": [],
   "source": []
  },
  {
   "cell_type": "markdown",
   "id": "aca3d93e",
   "metadata": {},
   "source": [
    "8. Faça um programa que dadas duas listas de mesmo tamanho, imprima o produto escalar entre elas. "
   ]
  },
  {
   "cell_type": "code",
   "execution_count": null,
   "id": "4e0d1ba5",
   "metadata": {},
   "outputs": [],
   "source": []
  },
  {
   "cell_type": "markdown",
   "id": "2fd28092",
   "metadata": {},
   "source": [
    "9. Faça um programa que pede para o usuário digitar 5 números e, ao final, imprime uma lista com os 5 números digitados pelo usuário (sem converter os números para int ou float). \n"
   ]
  },
  {
   "cell_type": "code",
   "execution_count": null,
   "id": "9725cae9",
   "metadata": {},
   "outputs": [],
   "source": []
  },
  {
   "cell_type": "markdown",
   "id": "7b920536",
   "metadata": {},
   "source": [
    "10. Pegue a lista gerada no exercício anterior e transforme cada um dos itens dessa lista em um float."
   ]
  },
  {
   "cell_type": "code",
   "execution_count": null,
   "id": "66b8d853",
   "metadata": {},
   "outputs": [],
   "source": []
  },
  {
   "cell_type": "markdown",
   "id": "cf44aee1",
   "metadata": {},
   "source": [
    "11. Faça um Programa que peça as 4 notas bimestrais e mostre a média, usando listas."
   ]
  },
  {
   "cell_type": "code",
   "execution_count": null,
   "id": "ebd38c42",
   "metadata": {},
   "outputs": [],
   "source": []
  },
  {
   "cell_type": "markdown",
   "id": "bf87d55d",
   "metadata": {},
   "source": [
    "12. Crie uma lista com 10 números quaisquer:  \n",
    " a.  uma lista com os 4 primeiros números  \n",
    " b.  uma lista com os 5 últimos números  \n",
    " c.  uma lista contendo apenas os elementos das posições pares  \n",
    " d.  uma lista contendo apenas os elementos das posições ímpares  \n",
    " e.  a lista inversa da lista sorteada (isto é, uma lista que começa com o último elemento da lista sorteada e termina com o primeiro)  \n",
    " f.  uma lista inversa dos 5 primeiros números  \n",
    " g.  uma lista inversa dos 5 últimos números.\n"
   ]
  },
  {
   "cell_type": "code",
   "execution_count": 30,
   "id": "0842c0d2",
   "metadata": {},
   "outputs": [
    {
     "name": "stdout",
     "output_type": "stream",
     "text": [
      "a)[10, 4, 15, 5]\n",
      "b)[9, 12, 19, 3, 1]\n",
      "c)[10, 15, 8, 12, 3]\n",
      "d)[4, 5, 9, 19, 1]\n",
      "e)[1, 3, 19, 12, 9, 8, 5, 15, 4, 10]\n",
      "f)[8, 5, 15, 4, 10]\n",
      "g)[1, 3, 19, 12, 9]\n"
     ]
    }
   ],
   "source": [
    "lista = [10, 4, 15, 5, 8, 9, 12, 19, 3, 1]\n",
    "\n",
    "\n",
    "print(f'a){lista[:4]}')\n",
    "print(f'b){lista[5:]}')\n",
    "print(f'c){lista[0::2]}')\n",
    "print(f'd){lista[1::2]}')\n",
    "print(f'e){lista[::-1]}')\n",
    "print(f'f){lista[4::-1]}')\n",
    "print(f'g){lista[:4:-1]}')\n"
   ]
  },
  {
   "cell_type": "markdown",
   "id": "324bf6d4",
   "metadata": {},
   "source": [
    "13. Faça um programa que sorteia 10 números entre 0 e 100 e conte quantos números sorteados são maiores que 50."
   ]
  },
  {
   "cell_type": "code",
   "execution_count": 9,
   "id": "98a760e4",
   "metadata": {},
   "outputs": [
    {
     "name": "stdout",
     "output_type": "stream",
     "text": [
      "[3, 95, 96, 73, 77, 44, 99, 88, 10, 40]\n",
      "Existe(m) 6 número(s) maior(es) que 50\n"
     ]
    }
   ],
   "source": [
    "import random\n",
    "\n",
    "numeros = random.sample(range(100), 10)\n",
    "print(numeros)\n",
    "\n",
    "maior_50 = len([num for num in numeros if num>50])\n",
    "print(f'Existe(m) {maior_50} número(s) maior(es) que 50')\n"
   ]
  },
  {
   "cell_type": "markdown",
   "id": "b674329c",
   "metadata": {},
   "source": [
    "14. Faça um programa que sorteie 10 números entre 0 e 100 e imprima:  \n",
    "a.  o maior número sorteado  \n",
    "b.  o menor número sorteado  \n",
    "c.  a média dos números sorteados  \n",
    "d.  a soma dos números sorteados"
   ]
  },
  {
   "cell_type": "code",
   "execution_count": 16,
   "id": "918d75fb",
   "metadata": {},
   "outputs": [
    {
     "name": "stdout",
     "output_type": "stream",
     "text": [
      "[45, 21, 0, 90, 78, 22, 11, 49, 32, 9]\n",
      "O maior número é 90\n",
      "O menor número é 0\n",
      "A soma dos número é 357\n",
      "A média dos número é 35.7\n"
     ]
    }
   ],
   "source": [
    "import random\n",
    "\n",
    "numeros = random.sample(range(100), 10)\n",
    "print(numeros)\n",
    "\n",
    "print(f'O maior número é {max(numeros)}')\n",
    "print(f'O menor número é {min(numeros)}')\n",
    "print(f'A soma dos número é {sum(numeros)}')\n",
    "print(f'A média dos número é {sum(numeros)/len(numeros)}')\n"
   ]
  },
  {
   "cell_type": "code",
   "execution_count": null,
   "id": "0816d7f2",
   "metadata": {},
   "outputs": [],
   "source": []
  }
 ],
 "metadata": {
  "kernelspec": {
   "display_name": "Python 3.10.7 64-bit",
   "language": "python",
   "name": "python3"
  },
  "language_info": {
   "codemirror_mode": {
    "name": "ipython",
    "version": 3
   },
   "file_extension": ".py",
   "mimetype": "text/x-python",
   "name": "python",
   "nbconvert_exporter": "python",
   "pygments_lexer": "ipython3",
   "version": "3.10.7"
  },
  "varInspector": {
   "cols": {
    "lenName": 16,
    "lenType": 16,
    "lenVar": 40
   },
   "kernels_config": {
    "python": {
     "delete_cmd_postfix": "",
     "delete_cmd_prefix": "del ",
     "library": "var_list.py",
     "varRefreshCmd": "print(var_dic_list())"
    },
    "r": {
     "delete_cmd_postfix": ") ",
     "delete_cmd_prefix": "rm(",
     "library": "var_list.r",
     "varRefreshCmd": "cat(var_dic_list()) "
    }
   },
   "types_to_exclude": [
    "module",
    "function",
    "builtin_function_or_method",
    "instance",
    "_Feature"
   ],
   "window_display": false
  },
  "vscode": {
   "interpreter": {
    "hash": "d3f16d613b45d41765fc5191cf61837cebf78b91418334f86bed771f1681791c"
   }
  }
 },
 "nbformat": 4,
 "nbformat_minor": 5
}
