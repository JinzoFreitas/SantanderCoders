{
 "cells": [
  {
   "cell_type": "markdown",
   "id": "be60e347",
   "metadata": {},
   "source": [
    "# Tópicos da aula \n",
    "\n",
    "- Estrutura condicional e controle de fluxo\n",
    "- Comando if\n",
    "- Comando else\n",
    "- Comando Elif"
   ]
  },
  {
   "cell_type": "markdown",
   "id": "e2459c5a",
   "metadata": {},
   "source": [
    "Imagine que o critério de aprovação em uma escola seja a média superior a 7.0 e presença superior a 75%. Neste caso, o aluno precisa atender a ambos os critérios para ser aprovado. Se ele tirou uma ótima nota, mas faltou demais, será reprovado. Se ele compareceu a todas as aulas, mas teve notas baixas, idem."
   ]
  },
  {
   "cell_type": "code",
   "execution_count": 1,
   "id": "881f2b88",
   "metadata": {
    "ExecuteTime": {
     "end_time": "2022-10-13T01:12:32.401047Z",
     "start_time": "2022-10-13T01:12:28.921831Z"
    }
   },
   "outputs": [
    {
     "name": "stdout",
     "output_type": "stream",
     "text": [
      "O aluno foi aprovado? True\n"
     ]
    }
   ],
   "source": [
    "media = float(input('Digite a média do aluno: '))\n",
    "presenca = float(input('Digite as presenças do aluno: '))\n",
    "\n",
    "aprovado = media >= 7.0 and presenca >= 0.75\n",
    "print('O aluno foi aprovado?', aprovado)"
   ]
  },
  {
   "cell_type": "code",
   "execution_count": 5,
   "id": "59e11d6b",
   "metadata": {},
   "outputs": [
    {
     "name": "stdout",
     "output_type": "stream",
     "text": [
      "O aluno foi Reprovado por média\n"
     ]
    }
   ],
   "source": [
    "media = float(input('Digite a média do aluno: '))\n",
    "\n",
    "aprovado = media >= 7.0\n",
    "reprovado = not aprovado\n",
    "situacao = aprovado*\"Aprovado\" + reprovado*\"Reprovado\"\n",
    "print(f'O aluno foi {situacao} por média')"
   ]
  },
  {
   "cell_type": "markdown",
   "id": "c04bf40c",
   "metadata": {},
   "source": [
    "**AND** é uma conjunção lógica e o **OR** é uma disjunção lógica. O **not** é a negação lógica.\n",
    "\n",
    "| *A*   | *B*   | *A and B* | *A or B* | *not A* |\n",
    "|-------|-------|-----------|----------|---------|\n",
    "| False | False | False     | False    | True    |\n",
    "| False | True  | False     | True     | True    |\n",
    "| True  | False | False     | True     | False   |\n",
    "| True  | True  | True      | True     | False   |\n",
    "\n"
   ]
  },
  {
   "cell_type": "markdown",
   "id": "10481cac",
   "metadata": {},
   "source": [
    "Será que conseguimos escrever o problema acima de uma forma mais fácil?"
   ]
  },
  {
   "cell_type": "markdown",
   "id": "9d7a5481",
   "metadata": {},
   "source": [
    "## Estrutura condicional"
   ]
  },
  {
   "cell_type": "markdown",
   "id": "aa526a6e",
   "metadata": {},
   "source": [
    "- if"
   ]
  },
  {
   "cell_type": "markdown",
   "id": "06fc2293",
   "metadata": {},
   "source": [
    "Obs.: Python é uma linguagem identada"
   ]
  },
  {
   "cell_type": "code",
   "execution_count": null,
   "id": "8c81b91a",
   "metadata": {
    "ExecuteTime": {
     "end_time": "2022-10-13T00:34:26.457967Z",
     "start_time": "2022-10-13T00:34:20.965528Z"
    }
   },
   "outputs": [],
   "source": [
    "nota1 = float(input('Digite a nota1: '))\n",
    "nota2 = float(input('Digite a nota2: '))\n",
    "\n",
    "media = (nota1 + nota2) / 2\n",
    "\n",
    "if media >= 7.0: ## if -> comando condicional\n",
    "    print('Aprovado')\n",
    "\n",
    "print('Média: ', media)"
   ]
  },
  {
   "cell_type": "markdown",
   "id": "1eb77729",
   "metadata": {},
   "source": [
    "Está faltando alguma coisa"
   ]
  },
  {
   "cell_type": "code",
   "execution_count": null,
   "id": "c5d79bfe",
   "metadata": {
    "ExecuteTime": {
     "end_time": "2022-10-13T00:53:37.740031Z",
     "start_time": "2022-10-13T00:53:35.939338Z"
    }
   },
   "outputs": [],
   "source": [
    "nota1 = float(input('Digite a nota1: '))\n",
    "nota2 = float(input('Digite a nota2: '))\n",
    "\n",
    "media = (nota1 + nota2) / 2\n",
    "\n",
    "if media >= 7.0: \n",
    "    print('Aprovado')\n",
    "    \n",
    "if media < 7.0: # Python é uma linguagem identada\n",
    "    print('Reprovado')\n",
    "\n",
    "print('Média: ', media)"
   ]
  },
  {
   "cell_type": "markdown",
   "id": "8f37c922",
   "metadata": {},
   "source": [
    "- else"
   ]
  },
  {
   "cell_type": "code",
   "execution_count": 2,
   "id": "a77cd95d",
   "metadata": {
    "ExecuteTime": {
     "end_time": "2022-10-13T00:55:41.721790Z",
     "start_time": "2022-10-13T00:55:37.335509Z"
    }
   },
   "outputs": [
    {
     "name": "stdout",
     "output_type": "stream",
     "text": [
      "Aprovado\n",
      "Média:  7.0\n"
     ]
    }
   ],
   "source": [
    "nota1 = float(input('Digite a nota1: '))\n",
    "nota2 = float(input('Digite a nota2: '))\n",
    "\n",
    "media = (nota1 + nota2) / 2\n",
    "\n",
    "if media >= 7.0: \n",
    "    print('Aprovado')\n",
    "else: ## O else nunca tem nada entre parentesis\n",
    "    print('Reprovado')\n",
    "\n",
    "print('Média: ', media)"
   ]
  },
  {
   "cell_type": "markdown",
   "id": "128e26f6",
   "metadata": {},
   "source": [
    "Vamos acrescentar a presença para aprovação"
   ]
  },
  {
   "cell_type": "code",
   "execution_count": null,
   "id": "2c054825",
   "metadata": {
    "ExecuteTime": {
     "end_time": "2022-10-13T00:59:42.640209Z",
     "start_time": "2022-10-13T00:59:38.528568Z"
    }
   },
   "outputs": [],
   "source": [
    "nota1 = float(input('Digite a nota1: '))\n",
    "nota2 = float(input('Digite a nota2: '))\n",
    "presenca =  float(input('Digite a presença: '))\n",
    "\n",
    "media = (nota1 + nota2) / 2\n",
    "\n",
    "if media >= 7.0 and presenca >= 0.75: \n",
    "    print('Aprovado')\n",
    "else: ## O else nunca tem nada entre parentesis\n",
    "    print('Reprovado')\n",
    "\n",
    "print(f'Média: {media} e presença: {presenca}')"
   ]
  },
  {
   "cell_type": "markdown",
   "id": "d86dbcb8",
   "metadata": {},
   "source": [
    "Vamos incluir a recuperação nesse exemplo (para facilitar, vamos deixar de lado a presença). O aluno tem direito a recuperação se a média é maior que 5."
   ]
  },
  {
   "cell_type": "code",
   "execution_count": null,
   "id": "51db386d",
   "metadata": {
    "ExecuteTime": {
     "end_time": "2022-10-13T02:10:53.323666Z",
     "start_time": "2022-10-13T02:10:49.694866Z"
    }
   },
   "outputs": [],
   "source": [
    "nota1 = float(input('Digite a nota1: '))\n",
    "nota2 = float(input('Digite a nota2: '))\n",
    "\n",
    "media = (nota1 + nota2) / 2\n",
    "\n",
    "if media >= 7.0 and presenca >= 0.75:\n",
    "    print('Aprovado')\n",
    "elif media >= 5:      # Acrescentamos o else if = elif\n",
    "    print('Recuperação')\n",
    "else: ## O else nunca tem nada entre parentesis\n",
    "    print('Reprovado')\n",
    "\n",
    "print(f'Média: {media}')"
   ]
  },
  {
   "cell_type": "markdown",
   "id": "8864bead",
   "metadata": {},
   "source": [
    "Bora praticar!"
   ]
  },
  {
   "cell_type": "markdown",
   "id": "d0b81059",
   "metadata": {},
   "source": [
    "1) Faça um programa que peça a idade do usuário e imprima se ele é maior ou menor de 18 anos."
   ]
  },
  {
   "cell_type": "code",
   "execution_count": 3,
   "id": "7d8d8b3c",
   "metadata": {
    "ExecuteTime": {
     "end_time": "2022-10-13T02:13:17.283724Z",
     "start_time": "2022-10-13T02:13:15.518483Z"
    }
   },
   "outputs": [
    {
     "name": "stdout",
     "output_type": "stream",
     "text": [
      "Você é maior de idade!\n"
     ]
    }
   ],
   "source": [
    "idade = int(input(\"Digite sua idade: \"))\n",
    "\n",
    "if idade >= 18:\n",
    "    print(\"Você é maior de idade!\")\n",
    "else:\n",
    "    print(\"Você é menor de idade\")    "
   ]
  },
  {
   "cell_type": "markdown",
   "id": "f2a4795b",
   "metadata": {},
   "source": [
    "2) Faça um programa que peça um número e mostre se ele é positivo ou negativo."
   ]
  },
  {
   "cell_type": "code",
   "execution_count": 26,
   "id": "fae9b9f8",
   "metadata": {
    "ExecuteTime": {
     "end_time": "2022-10-13T02:13:30.446230Z",
     "start_time": "2022-10-13T02:13:25.107319Z"
    }
   },
   "outputs": [
    {
     "name": "stdout",
     "output_type": "stream",
     "text": [
      "Você digitou o Zero\n"
     ]
    }
   ],
   "source": [
    "num = float(input(\"digite um número:\"))\n",
    "\n",
    "if num > 0:\n",
    "    print('número positivo')\n",
    "elif num < 0:\n",
    "    print('número negativo')\n",
    "else:\n",
    "    print('Você digitou o Zero')    "
   ]
  },
  {
   "cell_type": "markdown",
   "id": "afa5f36d",
   "metadata": {},
   "source": [
    "3) Faça um programa que peça dois números e mostre o maior deles."
   ]
  },
  {
   "cell_type": "code",
   "execution_count": 23,
   "id": "5a0929c9",
   "metadata": {
    "ExecuteTime": {
     "end_time": "2022-10-13T02:13:47.796296Z",
     "start_time": "2022-10-13T02:13:40.022621Z"
    }
   },
   "outputs": [
    {
     "name": "stdout",
     "output_type": "stream",
     "text": [
      " Ambos os números são iguais: 1.0\n"
     ]
    }
   ],
   "source": [
    "a = float(input('Digite valor de A'))\n",
    "b = float(input('Digite o valor de B'))\n",
    "\n",
    "if a>b:\n",
    "    print(f'{a} é o maior')\n",
    "elif b>a:\n",
    "    print(f'{b} é o maior')\n",
    "else:\n",
    "    print(f' Ambos os números são iguais: {a}')        "
   ]
  },
  {
   "cell_type": "markdown",
   "id": "7e20b135",
   "metadata": {
    "ExecuteTime": {
     "end_time": "2022-10-13T02:14:01.965819Z",
     "start_time": "2022-10-13T02:14:01.958839Z"
    }
   },
   "source": [
    "4) Faça um programa que leia a validade das informações:\n",
    "\n",
    "a. Idade: entre 0 e 150;\n",
    "\n",
    "b. Salário: maior que 0;\n",
    "\n",
    "c. Sexo: M, F ou Outro;\n",
    "\n",
    "O programa deve imprimir uma mensagem de erro para cada informação inválida.'''"
   ]
  },
  {
   "cell_type": "code",
   "execution_count": 35,
   "id": "adeb00a4",
   "metadata": {},
   "outputs": [
    {
     "name": "stdout",
     "output_type": "stream",
     "text": [
      "idade: 55\n",
      "Salário: 50000.0\n",
      "Sexo: F\n"
     ]
    }
   ],
   "source": [
    "idade = int(input('Digite a idade (entre 0 e 150):'))\n",
    "if not (idade>=0 and idade<=150):\n",
    "    print('Informação inválida para a idade!')\n",
    "else:    \n",
    "    print(f'idade: {idade}')\n",
    "\n",
    "salario = float(input('Digite o Salário (maior que zero):'))\n",
    "if salario > 0:\n",
    "    print(f'Salário: {salario}')\n",
    "else:\n",
    "    print('Informação inválida para o salário!')\n",
    "\n",
    "sexo = input('Digite o sexo (M/F/outro):')\n",
    "if not (sexo.lower() == 'm' or sexo.lower()=='f' or sexo.lower()=='outro'):\n",
    "    print('Informação inválida para o sexo!')\n",
    "else:    \n",
    "    print(f'Sexo: {sexo.upper()}') \n"
   ]
  },
  {
   "cell_type": "markdown",
   "id": "cd2b1878",
   "metadata": {},
   "source": [
    "5) Escreva um programa que peça a nota de 3 provas de um aluno e verifique se ele passou ou não de ano.\n",
    "Obs.: O aluno irá passar de ano se sua média for maior que 6."
   ]
  },
  {
   "cell_type": "code",
   "execution_count": 31,
   "id": "ecf02c29",
   "metadata": {},
   "outputs": [
    {
     "name": "stdout",
     "output_type": "stream",
     "text": [
      "Aluno reprovado com média: 6.0\n"
     ]
    }
   ],
   "source": [
    "nota1 = float(input('Digite a nota 1'))\n",
    "nota2 = float(input('Digite a nota 2'))\n",
    "nota3 = float(input('Digite a nota 3'))\n",
    "\n",
    "media = (nota1+nota2+nota3)/3\n",
    "\n",
    "if media > 6:\n",
    "    print(f'Aluno aprovado com média: {media}')\n",
    "else:\n",
    "    print(f'Aluno reprovado com média: {media}')    "
   ]
  },
  {
   "cell_type": "markdown",
   "id": "af2a70fb",
   "metadata": {},
   "source": [
    "6) Faça um programa que mostre uma questão de múltipla escolha com 5 opções (letras a, b, c, d, e). \n",
    "Sabendo a resposta certa, o programa deve receber a opção do usuário e informar a letra que o usuário marcou e se a resposta está certa ou errada."
   ]
  },
  {
   "cell_type": "code",
   "execution_count": 38,
   "id": "5e4911c3",
   "metadata": {},
   "outputs": [
    {
     "name": "stdout",
     "output_type": "stream",
     "text": [
      "Você marcou a letra C\n",
      "Parabéns, resposta correta!\n"
     ]
    }
   ],
   "source": [
    "resp = input('Digite a alternativa correta(a, b, c , d ou e):').upper()\n",
    "print(f'Você marcou a letra {resp}')\n",
    "if resp == 'C':\n",
    "    print('Parabéns, resposta correta!')\n",
    "else:\n",
    "    print('Resposta errada, tente novamente!')"
   ]
  },
  {
   "cell_type": "markdown",
   "id": "1bde3c0f",
   "metadata": {},
   "source": [
    "7)\n",
    "Vamos fazer um programa para verificar quem é o assassino de um crime. Para descobrir o assassino, \n",
    "a polícia faz um pequeno questionário com 5 perguntas \n",
    "onde a resposta só pode ser sim ou não:\n",
    "\n",
    "a. Mora perto da vítima?\n",
    "\n",
    "b. Já trabalhou com a vítima?\n",
    "\n",
    "c. Telefonou para a vítima?\n",
    "\n",
    "d. Esteve no local do crime?\n",
    "\n",
    "e. Devia para a vítima?\n",
    "\n",
    "Cada resposta sim dá um ponto para o suspeito. A polícia considera que os suspeitos com 5 pontos são os assassinos, com 4 a 3 pontos \n",
    "são cúmplices e 2 pontos são apenas suspeitos, necessitando outras investigações. Valores iguais ou abaixo de 1 são liberados.'''"
   ]
  },
  {
   "cell_type": "code",
   "execution_count": 36,
   "id": "5d76d820",
   "metadata": {},
   "outputs": [
    {
     "name": "stdout",
     "output_type": "stream",
     "text": [
      "ASSASSINO!\n"
     ]
    }
   ],
   "source": [
    "pontos = 0\n",
    "\n",
    "#Questionário policial:\n",
    "a = input('Mora perto da vítima?(s/n)').lower()\n",
    "if a == 's':\n",
    "    pontos += 1\n",
    "b = input('Já trabalhou com a vítima?(s/n)').lower()\n",
    "if b == 's':\n",
    "    pontos += 1\n",
    "c = input('Telefonou para a vítima?(s/n)').lower()\n",
    "if c == 's':\n",
    "    pontos += 1\n",
    "d = input('Esteve no local do crime?(s/n)').lower()\n",
    "if d == 's':\n",
    "    pontos += 1\n",
    "e = input('Devia para a vítima?(s/n)').lower()\n",
    "if e == 's':\n",
    "    pontos += 1\n",
    "\n",
    "#Cálculo das respostas:\n",
    "if pontos == 5:\n",
    "    print('ASSASSINO!')\n",
    "elif (pontos == 4 or pontos == 3):\n",
    "    print('CÚMPLICE!')\n",
    "elif pontos == 2:\n",
    "    print('Suspeito!')\n",
    "else:\n",
    "    print('Liberado!')               \n"
   ]
  },
  {
   "cell_type": "code",
   "execution_count": null,
   "id": "7f34d450",
   "metadata": {},
   "outputs": [],
   "source": []
  },
  {
   "cell_type": "markdown",
   "id": "486246ae",
   "metadata": {
    "ExecuteTime": {
     "end_time": "2022-10-13T02:15:54.837527Z",
     "start_time": "2022-10-13T02:15:54.826530Z"
    }
   },
   "source": [
    "8) Um produto vai sofrer aumento de acordo com a Tabela 1 abaixo. Faça um programa que peça para o usuário digitar o valor do produto de acordo \n",
    "com o preço antigo e escreva uma das mensagens da Tabela 2, de acordo com o preço reajustado:\n",
    "\n",
    "Tabela 1\n",
    "\n",
    "| Preço Antigo         | % de aumento |\n",
    "|----------------------|--------------|\n",
    "| Até 50 reais         | 5%           |\n",
    "| Entre 50 e 100 reais | 10%          |\n",
    "| De 100 a 150 reais   | 13%          |\n",
    "| Acima de 150 reais   | 15%          |\n",
    "\n",
    "Tabela 2\n",
    "\n",
    "| Preço Novo            | Mensagem   |\n",
    "|-----------------------|------------|\n",
    "| Até 80 reais          | Barato     |\n",
    "| Entre 80 e 115 reais  | Razoável   |\n",
    "| Entre 115 e 150 reais | Normal     |\n",
    "| Entre 150 e 170 reais | Caro       |\n",
    "| Acima de 170 reais    | Muito Caro |"
   ]
  },
  {
   "cell_type": "code",
   "execution_count": 45,
   "id": "85c63f57",
   "metadata": {},
   "outputs": [
    {
     "name": "stdout",
     "output_type": "stream",
     "text": [
      "Muito Caro\n"
     ]
    }
   ],
   "source": [
    "preco = float(input('Digite o valor do produto'))\n",
    "\n",
    "if preco > 150:\n",
    "    new_preco = preco*1.15\n",
    "elif preco>= 100 and preco <= 150:\n",
    "    new_preco = preco*1.13\n",
    "elif preco>= 50 and preco <100:\n",
    "    new_preco = preco*1.10\n",
    "else:\n",
    "    new_preco = preco*1.05\n",
    "\n",
    "dif = new_preco - preco\n",
    "\n",
    "if dif > 170:\n",
    "    print('Muito Caro')\n",
    "elif dif>= 150 and dif <= 170:\n",
    "    print('Caro')\n",
    "elif dif>= 115 and dif <150:\n",
    "    print('Normal')\n",
    "elif dif>= 80 and dif <115:\n",
    "    print('Razoável')    \n",
    "else:\n",
    "    print('Barato')"
   ]
  },
  {
   "cell_type": "code",
   "execution_count": 1,
   "id": "94ffc6ce",
   "metadata": {},
   "outputs": [
    {
     "name": "stdout",
     "output_type": "stream",
     "text": [
      "10\n"
     ]
    }
   ],
   "source": [
    "a = int(input())\n",
    "\n",
    "if 0<=a<=10:\n",
    "    print(a)"
   ]
  },
  {
   "cell_type": "markdown",
   "id": "0fdde56c",
   "metadata": {},
   "source": [
    "9) Desafio 1 - Faça um programa que leia 3 números e informe o maior deles."
   ]
  },
  {
   "cell_type": "code",
   "execution_count": 24,
   "id": "0ed0c663",
   "metadata": {},
   "outputs": [
    {
     "name": "stdout",
     "output_type": "stream",
     "text": [
      "Os números são iguais: 5\n"
     ]
    }
   ],
   "source": [
    "a = int(input('Digite o valor de A'))\n",
    "b = int(input('Digite o valor de B'))\n",
    "c = int(input('Digite o valor de C'))\n",
    "\n",
    "if a>b:\n",
    "    if a>c:\n",
    "        print(f'{a} é o maior')\n",
    "    else:\n",
    "        print(f'{c} é o maior')\n",
    "\n",
    "elif b>a:\n",
    "    if b>c:\n",
    "        print(f'{b} é o maior')\n",
    "    else:\n",
    "        print(f'{c} é o maior')\n",
    "elif a == b:\n",
    "    if c>a:\n",
    "        print(f'{c} é o maior')\n",
    "    else:\n",
    "        print(f'Os números são iguais: {a}')\n",
    " "
   ]
  }
 ],
 "metadata": {
  "kernelspec": {
   "display_name": "Python 3.10.7 64-bit",
   "language": "python",
   "name": "python3"
  },
  "language_info": {
   "codemirror_mode": {
    "name": "ipython",
    "version": 3
   },
   "file_extension": ".py",
   "mimetype": "text/x-python",
   "name": "python",
   "nbconvert_exporter": "python",
   "pygments_lexer": "ipython3",
   "version": "3.10.7"
  },
  "varInspector": {
   "cols": {
    "lenName": 16,
    "lenType": 16,
    "lenVar": 40
   },
   "kernels_config": {
    "python": {
     "delete_cmd_postfix": "",
     "delete_cmd_prefix": "del ",
     "library": "var_list.py",
     "varRefreshCmd": "print(var_dic_list())"
    },
    "r": {
     "delete_cmd_postfix": ") ",
     "delete_cmd_prefix": "rm(",
     "library": "var_list.r",
     "varRefreshCmd": "cat(var_dic_list()) "
    }
   },
   "types_to_exclude": [
    "module",
    "function",
    "builtin_function_or_method",
    "instance",
    "_Feature"
   ],
   "window_display": false
  },
  "vscode": {
   "interpreter": {
    "hash": "d3f16d613b45d41765fc5191cf61837cebf78b91418334f86bed771f1681791c"
   }
  }
 },
 "nbformat": 4,
 "nbformat_minor": 5
}
