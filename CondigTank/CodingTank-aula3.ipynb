{
 "cells": [
  {
   "cell_type": "markdown",
   "metadata": {},
   "source": [
    "# Tópicos da aula\n",
    "\n",
    "- Estruturas de repetição\n",
    "- Looping while"
   ]
  },
  {
   "cell_type": "markdown",
   "metadata": {},
   "source": [
    "Na aula passada fizemos o programa que a pessoa digitava 2 numeros e a gente dizia o maior e se quisermos 3? E se quisermos 10? E se quisermos 100? Conseguimos fazer?"
   ]
  },
  {
   "cell_type": "markdown",
   "metadata": {},
   "source": [
    "## Recapitulando\n",
    "\n",
    "Quando queremos alterar o fluxo de execução do programa podemos utilizar o comando if junto com uma expressão lógica."
   ]
  },
  {
   "cell_type": "code",
   "execution_count": null,
   "metadata": {},
   "outputs": [],
   "source": [
    "print(3 > 5)\n",
    "# Expressões lógicas retornam true ou false"
   ]
  },
  {
   "cell_type": "code",
   "execution_count": null,
   "metadata": {},
   "outputs": [],
   "source": [
    "if(5 > 3):\n",
    "    print('Nunca vai rodar essa linha')"
   ]
  },
  {
   "cell_type": "markdown",
   "metadata": {},
   "source": [
    "## Estruturas de Repetição\n",
    "\n",
    "Um if não garante que eu consigo validar o valor de um campo, pois se o usuário nao acertar na 2a vez, ele seguirá inválido"
   ]
  },
  {
   "cell_type": "code",
   "execution_count": null,
   "metadata": {},
   "outputs": [],
   "source": [
    "salario = float(input(\"digite seu salario: \"))\n",
    "if(salario < 1100):\n",
    "    salario = float(input(\"salario invalido, digite outro: \"))\n",
    "else:\n",
    "    print(\"valido\", salario)"
   ]
  },
  {
   "cell_type": "code",
   "execution_count": 1,
   "metadata": {},
   "outputs": [
    {
     "name": "stdout",
     "output_type": "stream",
     "text": [
      "1100.0\n"
     ]
    }
   ],
   "source": [
    "salario = float(input(\"digite seu salario: \"))\n",
    "while(salario < 1100): # Recebe uma expressão logica\n",
    "    #Enquanto a expressao for verdade, ele repete as linhas\n",
    "    # que estao dentro\n",
    "    salario = float(input(\"salario invalido, digite outro: \"))\n",
    "print(salario)"
   ]
  },
  {
   "cell_type": "markdown",
   "metadata": {},
   "source": [
    "__Obs.__: SEMPRE que eu trabalho com estrutura de repetição (WHILE) é NECESSÁRIO que a condição seja alterada dentro do while, SENAO entro em looping infinito"
   ]
  },
  {
   "cell_type": "code",
   "execution_count": null,
   "metadata": {},
   "outputs": [],
   "source": [
    "# Exemplo de looping infinito\n",
    "salario = float(input(\"digite seu salario: \"))\n",
    "while(salario < 1100): ## Recebe uma expressão logica\n",
    "    print(salario)"
   ]
  },
  {
   "cell_type": "markdown",
   "metadata": {},
   "source": [
    "Como podemos alterar este código para que não haja o loop infinito"
   ]
  },
  {
   "cell_type": "code",
   "execution_count": null,
   "metadata": {},
   "outputs": [],
   "source": [
    "# Veja agora um exemplo em que não há o loop infinito\n",
    "numero = int(input(\"Digite um numero: \"))\n",
    "maior = numero\n",
    "while(numero != 0):\n",
    "    numero = int(input(\"Digite um novo numero ou 0 para encerrar: \"))\n",
    "    if(numero > maior):\n",
    "        maior = numero\n",
    "    print(maior)\n",
    "print(maior)"
   ]
  },
  {
   "cell_type": "markdown",
   "metadata": {},
   "source": [
    "__Exemplo:__ Some todos os numeros de 0 a um numero digitado pelo usuario"
   ]
  },
  {
   "cell_type": "code",
   "execution_count": 3,
   "metadata": {},
   "outputs": [
    {
     "name": "stdout",
     "output_type": "stream",
     "text": [
      "5050\n"
     ]
    }
   ],
   "source": [
    "soma = 0\n",
    "contador = 0\n",
    "limite = int(input(\"Digite um numero: \"))\n",
    "while(contador <= limite):\n",
    "    soma = soma + contador\n",
    "    contador = contador + 1\n",
    "print(soma)"
   ]
  },
  {
   "cell_type": "code",
   "execution_count": 2,
   "metadata": {},
   "outputs": [
    {
     "name": "stdout",
     "output_type": "stream",
     "text": [
      "1 2 3 4 5 \n"
     ]
    }
   ],
   "source": [
    "numero = int(input(\"Digite um numero: \"))\n",
    "contador = 1\n",
    "string = ''\n",
    "while(contador <= numero):\n",
    "    string = string + str(contador) + ' '\n",
    "    contador = contador + 1\n",
    "print(string)"
   ]
  },
  {
   "cell_type": "markdown",
   "metadata": {},
   "source": [
    "**Bora praticar!**\n",
    "\n",
    "1) Escreva um programa que solicite um número inteiro e imprima na tela todos os números de 1 até o número digitado, separado por espaços.  \n",
    "_Exemplo_  \n",
    "número digitado: 5  \n",
    "resultado esperado: 1 2 3 4 5"
   ]
  },
  {
   "cell_type": "code",
   "execution_count": 28,
   "metadata": {},
   "outputs": [
    {
     "name": "stdout",
     "output_type": "stream",
     "text": [
      "1 2 3 4 5 6 \n"
     ]
    }
   ],
   "source": [
    "numero = int(input(\"Digite um numero: \"))\n",
    "contador = 1\n",
    "string = ''\n",
    "while(contador <= numero):\n",
    "    string = string + str(contador) + ' '\n",
    "    contador = contador + 1\n",
    "print(string)"
   ]
  },
  {
   "cell_type": "markdown",
   "metadata": {},
   "source": [
    "2) Faça um programa que mostre o fatorial de um número digitado.  \n",
    "_Exemplo_  \n",
    "número digitado: 5  \n",
    "resultado esperado: 120"
   ]
  },
  {
   "cell_type": "code",
   "execution_count": 42,
   "metadata": {},
   "outputs": [
    {
     "name": "stdout",
     "output_type": "stream",
     "text": [
      "0! = 1\n"
     ]
    }
   ],
   "source": [
    "numero = int(input(\"Digite um numero: \"))\n",
    "aux = numero\n",
    "result = 1\n",
    "while(aux>1):\n",
    "    result *= (aux-1)\n",
    "    aux -= 1\n",
    "print(f\"{numero}! = {result}\")"
   ]
  },
  {
   "cell_type": "markdown",
   "metadata": {},
   "source": [
    "3) Faça um programa que imprima a tabuada do 9 na tela (entre 1 e 10). Insira a conta, por exemplo, 9 * 1 = 9, sendo cada um dos valores em uma linha diferente."
   ]
  },
  {
   "cell_type": "code",
   "execution_count": 27,
   "metadata": {},
   "outputs": [
    {
     "name": "stdout",
     "output_type": "stream",
     "text": [
      "Tabuada de 9\n",
      "----------------\n",
      " 9x1 = 9\n",
      " 9x2 = 18\n",
      " 9x3 = 27\n",
      " 9x4 = 36\n",
      " 9x5 = 45\n",
      " 9x6 = 54\n",
      " 9x7 = 63\n",
      " 9x8 = 72\n",
      " 9x9 = 81\n",
      " 9x10 = 90\n"
     ]
    }
   ],
   "source": [
    "num = int(input(\"Digite um numero: \"))\n",
    "i = 1\n",
    "print(f'Tabuada de {num}')\n",
    "print('----------------')\n",
    "while(i <= 10): \n",
    "   print(f' {num}x{i} = {num*i}')\n",
    "   i+=1\n"
   ]
  },
  {
   "cell_type": "markdown",
   "metadata": {},
   "source": [
    "4) Faça um programa em que o usuário digite números quaisquer que encerrará no momento em que o valor 0 seja digitado. Ao final diga qual foi o maior número digitado."
   ]
  },
  {
   "cell_type": "code",
   "execution_count": 30,
   "metadata": {},
   "outputs": [
    {
     "name": "stdout",
     "output_type": "stream",
     "text": [
      "O maior número digitado foi 11222.0\n"
     ]
    }
   ],
   "source": [
    "num = float(input('Digite um número:'))\n",
    "maior_num = num\n",
    "while(num != 0):\n",
    "    num = float(input('Digite outro número:'))\n",
    "    if num > maior_num:\n",
    "        maior_num = num\n",
    "print(f'O maior número digitado foi {maior_num}')"
   ]
  },
  {
   "cell_type": "markdown",
   "metadata": {},
   "source": [
    "5. Faça um script que peça para o usuário digitar a idade, o salário e o sexo de uma pessoa até que as entradas digitadas sejam válidas.  \n",
    "  \n",
    "a. Idade: entre 0 e 150  \n",
    "b. Salário: maior que 0  \n",
    "c. Gênero: M, F ou Outro  \n",
    "  \n",
    "Por último imprima os dados recebidos do usuário."
   ]
  },
  {
   "cell_type": "code",
   "execution_count": 44,
   "metadata": {},
   "outputs": [
    {
     "name": "stdout",
     "output_type": "stream",
     "text": [
      "idade: 55\n",
      "Salário: 5000.0\n",
      "Sexo: F\n"
     ]
    }
   ],
   "source": [
    "idade = int(input('Digite a idade (entre 0 e 150):'))\n",
    "while not (idade>=0 and idade<=150):\n",
    "    print('Informação inválida para a idade!')\n",
    "    idade = int(input('Digite uma idade (entre 0 e 150):'))\n",
    "\n",
    "salario = float(input('Digite o Salário (maior que zero):'))\n",
    "while salario <= 0:\n",
    "    print('Informação inválida para o salário!')\n",
    "    salario = float(input('Digite um Salário (maior que zero):'))  \n",
    "\n",
    "sexo = input('Digite o sexo (M/F/outro):').lower()\n",
    "while not (sexo == 'm' or sexo =='f' or sexo =='outro'):\n",
    "    print('Informação inválida para o sexo!')\n",
    "    sexo = input('Digite um sexo das opções (M/F/outro):').lower()\n",
    "\n",
    "print(f'idade: {idade}')\n",
    "print(f'Salário: {salario}')    \n",
    "print(f'Sexo: {sexo.upper()}')"
   ]
  },
  {
   "cell_type": "markdown",
   "metadata": {},
   "source": [
    "6) Faça uma calculadora. O usuário deve inserir qual a operação matemática ele deseja realizar e logo em seguida os dois números. O programa deve finalizar apenas quando o usuário digitar a opção \"sair\" no momento de escolha da operação matemática."
   ]
  },
  {
   "cell_type": "code",
   "execution_count": null,
   "metadata": {},
   "outputs": [],
   "source": [
    "opera = ''\n",
    "print('Calculadora CodingTank, bem-vindo!')\n",
    "while (opera != 'sair'):\n",
    "    \n",
    "    print(\"--------------------\")\n",
    "    print('''Escolha uma operação a seguir:\n",
    "\n",
    "    (+) - Adição;\n",
    "    (-) - Subtração;\n",
    "    (*) - Multiplicação;\n",
    "    (/) - Divisão;\n",
    "    Escreva (sair) para finalizar o programa.\n",
    "    ''')\n",
    "\n",
    "    opera = input(f'Digite a operação escolhida: ').lower()\n",
    "\n",
    "    if (opera == 'sair'):\n",
    "        print(\"Saindo da cálculadora..........\")\n",
    "    else:\n",
    "        num1 = float(input('Digite o Primeiro número: '))\n",
    "        num2 = float(input('Digite o Segundo número: '))\n",
    "     \n",
    "        if (opera == '+'):\n",
    "            result = num1+num2\n",
    "            print(f'\\nResultado da operação igual a {result:.2f}')       \n",
    "        elif (opera == '-'):\n",
    "            result = num1-num2\n",
    "            print(f'\\nResultado da operação igual a {result:.2f}')\n",
    "        elif (opera == '*'):\n",
    "            result = num1*num2\n",
    "            print(f'\\nResultado da operação igual a {result:.2f}') \n",
    "        elif (opera == '/'):\n",
    "            if (num2 == 0):\n",
    "                print('MathError! Não é possível dividir por zero.')\n",
    "            else:\n",
    "                result = num1/num2\n",
    "                print(f'\\nResultado da operação igual a {result:.2f}')\n",
    "        else:\n",
    "            print('Digite uma operação válida na próxima')\n",
    "            "
   ]
  }
 ],
 "metadata": {
  "kernelspec": {
   "display_name": "Python 3.10.7 64-bit",
   "language": "python",
   "name": "python3"
  },
  "language_info": {
   "codemirror_mode": {
    "name": "ipython",
    "version": 3
   },
   "file_extension": ".py",
   "mimetype": "text/x-python",
   "name": "python",
   "nbconvert_exporter": "python",
   "pygments_lexer": "ipython3",
   "version": "3.10.7"
  },
  "vscode": {
   "interpreter": {
    "hash": "d3f16d613b45d41765fc5191cf61837cebf78b91418334f86bed771f1681791c"
   }
  }
 },
 "nbformat": 4,
 "nbformat_minor": 2
}
