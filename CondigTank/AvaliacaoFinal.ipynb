{
 "cells": [
  {
   "cell_type": "markdown",
   "metadata": {},
   "source": [
    "# Santander Coders\n",
    "## CondingTank - Engenharia de dados \n",
    "## Avaliação Final \n"
   ]
  },
  {
   "cell_type": "markdown",
   "metadata": {},
   "source": [
    "Enunciado\n",
    "Um parque de diversões tem 3 atrações principais: o carrossel, piscina de bolinhas e montanha-russa.\n",
    "\n",
    "Para poder participar de uma atração a pessoa deve cumprir as seguintes condições:\n",
    "\n",
    "Carrossel: altura mínima de 1,00m e idade mínima de 3 anos.\n",
    "\n",
    "Piscina de bolinhas: idade entre 4 e 9 anos e máximo de 1,30m de altura.\n",
    "\n",
    "Montanha-russa: altura mínima de 1,10m.\n",
    "\n",
    "O fiscal de cada atração verificará o ano de nascimento da pessoa e altura para liberar o acesso para uma pessoa.\n",
    "\n",
    "Faça uma função em python que receba o ano de nascimento e altura da pessoa e informe quais as atrações que a pessoa pode participar."
   ]
  },
  {
   "cell_type": "code",
   "execution_count": 35,
   "metadata": {},
   "outputs": [
    {
     "name": "stdout",
     "output_type": "stream",
     "text": [
      "Pode participar da Montanha Russa\n"
     ]
    }
   ],
   "source": [
    "# Questão 1\n",
    "\n",
    "def parque(ano_nasc:int, altura:float):\n",
    "    idade = 2022 - ano_nasc\n",
    "    #Carrosel\n",
    "    if idade>=3 and altura>=1.00:\n",
    "        print('Pode participar do Carrosel')\n",
    "    #Piscina de bolinhas\n",
    "    if 4<=idade<=9 and altura<=1.30:\n",
    "        print('Pode participar da piscina de bolinhas')\n",
    "    #Piscina de Bolinhas\n",
    "    if altura>=1.10:\n",
    "        print('Pode participar da Montanha Russa')       \n",
    "\n",
    "\n",
    "parque(2022,1.31)"
   ]
  },
  {
   "cell_type": "markdown",
   "metadata": {},
   "source": [
    "Questão 2\n",
    "\n",
    "Crie um script que leia diversos números inteiros e insira todos em uma lista. A cada solicitação de número pergunte ao usuário se deseja inserir outro número, tendo como resposta 'S' para inserir mais um ou 'N' caso queira terminar. Ao final mostre:\n",
    "\n",
    "a) todos os números digitados na ordem em que foram inseridos\n",
    "\n",
    "b) todos os números digitados em ordem crescente\n",
    "\n",
    "c) a média destes valores\n",
    "\n",
    "d) apenas os números primos\n",
    "\n",
    "Obs.: Números primos são aqueles que são divisíveis APENAS por 1 e por ele mesmo. Por exemplo, o número 13 é primo visto que só pode ser dividido por 1 e pelo próprio 13."
   ]
  },
  {
   "cell_type": "code",
   "execution_count": null,
   "metadata": {},
   "outputs": [],
   "source": [
    "# Verificador de primo\n",
    "def eh_primo(num):\n",
    "    # Verificar um número até o inteiro da sua raiz, \n",
    "    # é suficiente para determinar se ele é primo\n",
    "    for i in range(2, int(num**0.5)):\n",
    "        if num % i == 0:\n",
    "            return False\n",
    "    return True"
   ]
  },
  {
   "cell_type": "code",
   "execution_count": 37,
   "metadata": {},
   "outputs": [
    {
     "name": "stdout",
     "output_type": "stream",
     "text": [
      "Lista dos números digitados foram: [13, 2, 6, 0, 11, 1, 5, 10]\n",
      "Lista em ordem crescente: [0, 1, 2, 5, 6, 10, 11, 13]\n",
      "Média dos valores da lista igual a: 6.00\n",
      "A lista dos números primos digitados é: [2, 5, 11, 13]\n"
     ]
    }
   ],
   "source": [
    "# Questão 2\n",
    "\n",
    "numeros, primos = [], []\n",
    "sair = ''\n",
    "\n",
    "while sair != 'N':\n",
    "    numeros.append(int(input('Digite um número'))) \n",
    "    sair = input('Deseja inserir outro número? (s/n)').upper()\n",
    "\n",
    "print(f'Lista dos números digitados: {numeros}')\n",
    "print(f'Lista em ordem crescente: {sorted(numeros)}')\n",
    "print(f'Média dos valores da lista igual a: {sum(numeros)/len(numeros):.2f}')\n",
    "\n",
    "# Procurar primos na lista\n",
    "for num in numeros:\n",
    "    aux = True\n",
    "    if num>2:\n",
    "        for i in range(2, num):\n",
    "            if num % i == 0:\n",
    "                aux = False\n",
    "    if num>1 and aux:\n",
    "        primos.append(num)\n",
    "\n",
    "#Coloquei em ordem só pra melhor conferir os valores que eu havia colocado\n",
    "print(f'A lista dos números primos digitados é: {sorted(primos)}')"
   ]
  },
  {
   "cell_type": "markdown",
   "metadata": {},
   "source": [
    "questão 3\n",
    "\n",
    "Crie uma função que recebe um número (que possa ter casas decimais) e a escala de temperatura em que este valor se encontra e para qual ele deseja converter (celsius, Kelvin ou fahrenheit). Tanto na escala em que se encontra quanto na que deseja converter utilize as letras iniciais como entrada: celsius - 'c', Kelvin - 'k' ou fahrenheit - 'f'.\n",
    "Com esta função criada faça um código que solicite ao usuário as informações necessárias para realizar a conversão de temperatura e chame a função criada. Esta solicitação poderá ser feita quantas vezes forem necessárias, ou seja, deve haver uma solicitação de 'continuar' ou 'sair'.\n",
    "\n",
    "Celsius <> Fahrenheit\n",
    "\n",
    "Tc/5=(Tf−32)/9\n",
    "\n",
    "Celsius <> Kelvin\n",
    "\n",
    "Tc=Tk−273\n",
    "\n",
    "Kelvin <> Fahrenheit\n",
    "\n",
    "(Tk−273)/5=(Tf−32)/9\n",
    "\n",
    "Obs.: Por definição não existem temperaturas em Kelvin abaixo de zero (o valor zero pode existir), portanto trate esta condição tanto na entrada do dado, caso esteja nesta escala, quanto na saída."
   ]
  },
  {
   "cell_type": "code",
   "execution_count": 38,
   "metadata": {},
   "outputs": [
    {
     "name": "stdout",
     "output_type": "stream",
     "text": [
      "-459.4°F\n"
     ]
    }
   ],
   "source": [
    "# Questão 3\n",
    "\n",
    "def converter_temp(valor:float, var1:str, var2: str):\n",
    "    \n",
    "    # Celsius -> Fahrenheit\n",
    "    if var1 == 'c' and var2 == 'f':\n",
    "        if valor>=-273:\n",
    "            tf = (9*valor)/5 + 32\n",
    "            return print(f'{tf:.1f}°F')\n",
    "        else:\n",
    "           return 'Valor de temperatura para Celsius inválido'\n",
    "\n",
    "    #Fahrenheit -> Celsius\n",
    "    elif var1 == 'f' and var2 == 'c':\n",
    "        if valor>=-459.4:\n",
    "            tc = (5*(valor - 32))/9\n",
    "            return print(f'{tc:.1f}°C')\n",
    "        else:\n",
    "           return 'Valor de temperatura para Fahrenheit inválido'\n",
    "\n",
    "    # Celsius -> Kelvin       \n",
    "    elif var1 == 'c' and var2 == 'k':\n",
    "        if valor>=-273:\n",
    "            tk = valor + 273\n",
    "            return print(f'{tk:.1f}K')\n",
    "        else:\n",
    "           return 'Valor de temperatura para Celsius inválido'       \n",
    "\n",
    "    # Kelvin -> Celsius\n",
    "    elif var1 == 'k' and var2 == 'c':\n",
    "        if valor>= 0:\n",
    "            tc = valor - 273\n",
    "            return print(f'{tc:.1f}°C')\n",
    "        else:\n",
    "           return 'Valor de temperatura para Kelvin inválido'\n",
    "    \n",
    "    # Kelvin -> Fahrenheit\n",
    "    elif var1 == 'k' and var2 == 'f':\n",
    "        if valor>= 0:\n",
    "            tf = (9*(valor - 273))/5 + 32\n",
    "            return print(f'{tf:.1f}°F')\n",
    "        else:\n",
    "           return 'Valor de temperatura para Kelvin inválido' \n",
    "\n",
    "    #Fahrenheit -> Kelvin\n",
    "    elif var1 == 'f' and var2 == 'k':\n",
    "        if valor>= -459.4:\n",
    "            tk = (5*(valor-32))/9 + 273\n",
    "            return print(f'{tk:.1f}K')\n",
    "        else:\n",
    "           return 'Valor de temperatura para Fahrenheit inválido' \n",
    "    else:\n",
    "        return 'Valores de entrada inválidos para a função'                    \n",
    "\n",
    "\n",
    "aux = 'continuar'\n",
    "while aux!='sair':\n",
    "\n",
    "    valor = float(input('Digite o valor da temperatura:'))\n",
    "    temp1 = input('Informe em que escala esse valor está:(c/k/f)')\n",
    "    temp2 = input('Informe em que escala esse valor quer ser convertido:(c/k/f)')\n",
    "\n",
    "    converter_temp(valor, temp1, temp2)\n",
    "    \n",
    "    aux = input('Deseja continuar na conversão?[continuar/sair]')              "
   ]
  },
  {
   "cell_type": "code",
   "execution_count": 1,
   "metadata": {},
   "outputs": [
    {
     "name": "stdout",
     "output_type": "stream",
     "text": [
      "30\n"
     ]
    }
   ],
   "source": [
    "# Qeustão 4\n",
    "def calculate (num1, num2=4):\n",
    "  res = num1 * num2\n",
    "  print(res)\n",
    "\n",
    "calculate(5, 6)"
   ]
  },
  {
   "cell_type": "code",
   "execution_count": 2,
   "metadata": {},
   "outputs": [
    {
     "ename": "TypeError",
     "evalue": "list.append() takes exactly one argument (2 given)",
     "output_type": "error",
     "traceback": [
      "\u001b[1;31m---------------------------------------------------------------------------\u001b[0m",
      "\u001b[1;31mTypeError\u001b[0m                                 Traceback (most recent call last)",
      "Cell \u001b[1;32mIn [2], line 2\u001b[0m\n\u001b[0;32m      1\u001b[0m sampleList \u001b[39m=\u001b[39m [\u001b[39m2\u001b[39m, \u001b[39m3.0\u001b[39m, \u001b[39m\"\u001b[39m\u001b[39mQuatro\u001b[39m\u001b[39m\"\u001b[39m]\n\u001b[1;32m----> 2\u001b[0m sampleList\u001b[39m.\u001b[39;49mappend(\u001b[39m3\u001b[39;49m, \u001b[39m\"\u001b[39;49m\u001b[39mCinco\u001b[39;49m\u001b[39m\"\u001b[39;49m)\n\u001b[0;32m      3\u001b[0m \u001b[39mprint\u001b[39m(sampleList)\n",
      "\u001b[1;31mTypeError\u001b[0m: list.append() takes exactly one argument (2 given)"
     ]
    }
   ],
   "source": [
    "#Questão 5\n",
    "\n",
    "sampleList = [2, 3.0, \"Quatro\"]\n",
    "sampleList.append(3, \"Cinco\")\n",
    "print(sampleList)"
   ]
  },
  {
   "cell_type": "code",
   "execution_count": 4,
   "metadata": {},
   "outputs": [
    {
     "name": "stdout",
     "output_type": "stream",
     "text": [
      "1\n",
      "2\n",
      "3\n",
      "4\n",
      "5\n",
      "6\n",
      "7\n",
      "8\n",
      "9\n",
      "10\n"
     ]
    }
   ],
   "source": [
    "#Questão 6\n",
    "\n",
    "x = 0\n",
    "y = 10\n",
    "while (x < 10):\n",
    "    #y = x + 1\n",
    "    x+=1\n",
    "    print(x)"
   ]
  },
  {
   "cell_type": "code",
   "execution_count": 9,
   "metadata": {},
   "outputs": [
    {
     "data": {
      "text/plain": [
       "tuple"
      ]
     },
     "execution_count": 9,
     "metadata": {},
     "output_type": "execute_result"
    }
   ],
   "source": [
    "#Questão 7\n",
    "\n",
    "x = (1,2,3)\n",
    "type(x)"
   ]
  },
  {
   "cell_type": "code",
   "execution_count": 5,
   "metadata": {},
   "outputs": [
    {
     "name": "stdout",
     "output_type": "stream",
     "text": [
      "2\n"
     ]
    }
   ],
   "source": [
    "#Questão 8\n",
    "\n",
    "x = 0\n",
    "a = 0\n",
    "b = -5\n",
    "if a > 0:\n",
    "    if b < 0: \n",
    "        x = x + 5 \n",
    "    elif a > 5:\n",
    "        x = x + 4\n",
    "    else:\n",
    "        x = x + 3\n",
    "else:\n",
    "    x = x + 2\n",
    "print(x)"
   ]
  }
 ],
 "metadata": {
  "kernelspec": {
   "display_name": "Python 3.10.7 64-bit",
   "language": "python",
   "name": "python3"
  },
  "language_info": {
   "codemirror_mode": {
    "name": "ipython",
    "version": 3
   },
   "file_extension": ".py",
   "mimetype": "text/x-python",
   "name": "python",
   "nbconvert_exporter": "python",
   "pygments_lexer": "ipython3",
   "version": "3.10.7"
  },
  "orig_nbformat": 4,
  "vscode": {
   "interpreter": {
    "hash": "d3f16d613b45d41765fc5191cf61837cebf78b91418334f86bed771f1681791c"
   }
  }
 },
 "nbformat": 4,
 "nbformat_minor": 2
}
