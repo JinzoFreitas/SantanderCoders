{
 "cells": [
  {
   "cell_type": "code",
   "execution_count": 2,
   "metadata": {},
   "outputs": [],
   "source": [
    "def fun(x, y):\n",
    "    if y == 0 :\n",
    "        return 0\n",
    "    elif y == 1:\n",
    "        return x\n",
    "    else:\n",
    "        return x + fun(x,y-1)        "
   ]
  },
  {
   "cell_type": "code",
   "execution_count": 3,
   "metadata": {},
   "outputs": [
    {
     "data": {
      "text/plain": [
       "840"
      ]
     },
     "execution_count": 3,
     "metadata": {},
     "output_type": "execute_result"
    }
   ],
   "source": [
    "fun(14,60)"
   ]
  },
  {
   "cell_type": "code",
   "execution_count": 4,
   "metadata": {},
   "outputs": [],
   "source": [
    "def calculate(a, b=None):\n",
    "    try:\n",
    "        if b:\n",
    "            return a/b\n",
    "        else:\n",
    "            return a\n",
    "    except:\n",
    "        return a+b            "
   ]
  },
  {
   "cell_type": "code",
   "execution_count": 9,
   "metadata": {},
   "outputs": [
    {
     "data": {
      "text/plain": [
       "'aq'"
      ]
     },
     "execution_count": 9,
     "metadata": {},
     "output_type": "execute_result"
    }
   ],
   "source": [
    "calculate('a','q')"
   ]
  },
  {
   "cell_type": "code",
   "execution_count": 10,
   "metadata": {},
   "outputs": [],
   "source": [
    "class Shape():\n",
    "    name = \"shape\"\n",
    "\n",
    "    def __init__(self):\n",
    "        self.color = \"red\"\n",
    "\n",
    "\n",
    "    def perimeter(self):\n",
    "        return self.height*2 + self.width*2\n",
    "    def area(self):\n",
    "        raise NotImplementedError()\n",
    "\n",
    "class Square(Shape):\n",
    "    def __init__(self, side):\n",
    "        self.side = side\n",
    "        super().__init__()\n",
    "\n",
    "    '''def perimeter(self):\n",
    "        return self.side * 4'''\n",
    "\n",
    "    def area(self):\n",
    "        return self.side**2\n",
    "\n",
    "class Rectangle(Shape):\n",
    "    name = \"rectangle\"\n",
    "\n",
    "    def __init__(self, height, width):\n",
    "        self.height = height\n",
    "        self.width = width\n",
    "\n",
    "    def perimeter(self):\n",
    "        return self.height*2 + self.width*2"
   ]
  },
  {
   "cell_type": "code",
   "execution_count": 28,
   "metadata": {},
   "outputs": [
    {
     "data": {
      "text/plain": [
       "'shape'"
      ]
     },
     "execution_count": 28,
     "metadata": {},
     "output_type": "execute_result"
    }
   ],
   "source": [
    "new_object = Square(4)\n",
    "new_object.name"
   ]
  }
 ],
 "metadata": {
  "kernelspec": {
   "display_name": "Python 3.10.7 64-bit",
   "language": "python",
   "name": "python3"
  },
  "language_info": {
   "codemirror_mode": {
    "name": "ipython",
    "version": 3
   },
   "file_extension": ".py",
   "mimetype": "text/x-python",
   "name": "python",
   "nbconvert_exporter": "python",
   "pygments_lexer": "ipython3",
   "version": "3.10.7"
  },
  "orig_nbformat": 4,
  "vscode": {
   "interpreter": {
    "hash": "d3f16d613b45d41765fc5191cf61837cebf78b91418334f86bed771f1681791c"
   }
  }
 },
 "nbformat": 4,
 "nbformat_minor": 2
}
