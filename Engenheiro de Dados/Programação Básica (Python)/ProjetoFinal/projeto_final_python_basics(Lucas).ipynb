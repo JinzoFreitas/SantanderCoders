{
  "cells": [
    {
      "cell_type": "code",
      "execution_count": null,
      "metadata": {
        "colab": {
          "base_uri": "https://localhost:8080/"
        },
        "id": "takLVj0WJmRf",
        "outputId": "adf11194-ac6f-4e4b-c701-b6e8b18949eb"
      },
      "outputs": [
        {
          "name": "stdout",
          "output_type": "stream",
          "text": [
            "Looking in indexes: https://pypi.org/simple, https://us-python.pkg.dev/colab-wheels/public/simple/\n",
            "Collecting rich\n",
            "  Downloading rich-12.6.0-py3-none-any.whl (237 kB)\n",
            "\u001b[K     |████████████████████████████████| 237 kB 5.1 MB/s \n",
            "\u001b[?25hRequirement already satisfied: typing-extensions<5.0,>=4.0.0 in /usr/local/lib/python3.7/dist-packages (from rich) (4.1.1)\n",
            "Requirement already satisfied: pygments<3.0.0,>=2.6.0 in /usr/local/lib/python3.7/dist-packages (from rich) (2.6.1)\n",
            "Collecting commonmark<0.10.0,>=0.9.0\n",
            "  Downloading commonmark-0.9.1-py2.py3-none-any.whl (51 kB)\n",
            "\u001b[K     |████████████████████████████████| 51 kB 3.7 MB/s \n",
            "\u001b[?25hInstalling collected packages: commonmark, rich\n",
            "Successfully installed commonmark-0.9.1 rich-12.6.0\n"
          ]
        }
      ],
      "source": [
        "!pip install rich"
      ]
    },
    {
      "cell_type": "code",
      "execution_count": null,
      "metadata": {
        "id": "mS2lLTEeLhNQ"
      },
      "outputs": [],
      "source": [
        "import json\n",
        "import os\n",
        "from rich import box\n",
        "from rich.console import Console\n",
        "from rich.prompt import Prompt, Confirm\n",
        "from rich.panel import Panel\n",
        "from rich.table import Table"
      ]
    },
    {
      "cell_type": "code",
      "execution_count": null,
      "metadata": {
        "id": "Yw7_fVbzyqRJ"
      },
      "outputs": [],
      "source": [
        "database = {\n",
        "    \"movies\": [\n",
        "        {\n",
        "            \"name\": \"Viúva Negra\",\n",
        "            \"status\": \"Alocado\"\n",
        "        },\n",
        "        {\n",
        "            \"name\": \"A Lenda dos Guardiões\",\n",
        "            \"status\": \"Alocado\"\n",
        "        },\n",
        "        {\n",
        "            \"name\": \"Avatar\",\n",
        "            \"status\": \"Alocado\"\n",
        "        },\n",
        "        {\n",
        "            \"name\": \"Eternos\",\n",
        "            \"status\": \"Disponível\"\n",
        "        },\n",
        "        {\n",
        "            \"name\": \"Doutor Estranho\",\n",
        "            \"status\": \"Disponível\"\n",
        "        },\n",
        "        {\n",
        "            \"name\": \"Deadpool\",\n",
        "            \"status\": \"Disponível\"\n",
        "        },\n",
        "        {\n",
        "            \"name\": \"Homem Aranha\",\n",
        "            \"status\": \"Indisponível\"\n",
        "        }\n",
        "    ]\n",
        "}\n",
        "\n",
        "with open(\"./movies.json\", 'w') as file:\n",
        "    json.dump(database, file, indent=4, ensure_ascii=False)"
      ]
    },
    {
      "cell_type": "code",
      "execution_count": null,
      "metadata": {
        "id": "_vueYi0XKtTm"
      },
      "outputs": [],
      "source": [
        "from IPython.display import clear_output"
      ]
    },
    {
      "cell_type": "code",
      "execution_count": null,
      "metadata": {
        "id": "k4EB7mEvJoib"
      },
      "outputs": [],
      "source": [
        "console = Console()\n",
        "\n",
        "class Blockbuster():\n",
        "    \n",
        "    def __init__(self ):\n",
        "        self.database_movies = self.__load_database()\n",
        "        self.OPTIONS_METHOD = {\n",
        "            \"1\": self.show_movies,\n",
        "            \"2\": self.search_movie,\n",
        "            \"3\": self.rent_movie,\n",
        "            \"4\": self.register_movie,\n",
        "            \"5\": self.delete_movie,\n",
        "            \"6\": self.update_movie\n",
        "        }\n",
        "        self.OPTIONS_STATUS = {\n",
        "            \"1\": \"Disponível\",\n",
        "            \"2\": \"Alocado\",\n",
        "            \"3\": \"Indisponível\"\n",
        "        }\n",
        "\n",
        "        self.run()\n",
        "    \n",
        "    def __load_database(self, path_to_database='./movies.json'):\n",
        "        if os.path.exists(path_to_database):\n",
        "            with open(path_to_database) as file:\n",
        "                database = json.load(file)\n",
        "        else:\n",
        "            database = { \"movies\": [] }\n",
        "            self.__save_database(database)\n",
        "        \n",
        "        return database\n",
        "\n",
        "    def __save_database(self, database, path_to_database='./movies.json'):\n",
        "        with open(path_to_database, 'w') as file:\n",
        "            json.dump(database, file, indent=4, ensure_ascii=False)\n",
        "\n",
        "    def run(self):\n",
        "        option = \"\"\n",
        "        while option != \"quit\":\n",
        "            console.print(\n",
        "                Panel(\n",
        "                    \"Bem vindo a Blockbuster\",\n",
        "                    style= \"black on white b blink\",\n",
        "                    box= box.HEAVY\n",
        "                ),\n",
        "                justify=\"center\"\n",
        "            )\n",
        "\n",
        "            console.print(\n",
        "                \"\"\"[green u b]Funcionalidades do usuário:[/] \n",
        "                1) Mostrar todos os filme do catálogo\n",
        "                2) Pesquisar por filmes cadastrados no catálogo\n",
        "                3) Realizar a Locação de um filme do catálogo\"\"\"\n",
        "            )\n",
        "            \n",
        "            console.print(\n",
        "                \"\"\"[red u b]Funcionalidades de admin:[/] \n",
        "                4) Cadastrar um novo filme no catálogo\n",
        "                5) Deletar um filme do catálogo\n",
        "                6) Atualizar algum filme do catálogo\"\"\"\n",
        "            )\n",
        "\n",
        "            option = Prompt.ask(\"Selecione a funcionalidade ao qual deseja realizar\", choices=[str(x) for x in range(1,7)], default=\"quit\")\n",
        "            \n",
        "            if option != \"quit\":\n",
        "                if option in [\"4\", \"5\", \"6\"]:\n",
        "                    password = Prompt.ask(\"Digite a senha de admin\")\n",
        "\n",
        "                    if password == \"admin\":\n",
        "                        self.OPTIONS_METHOD[option]()\n",
        "                    else:\n",
        "                        console.print(\"Senha incorreta, finalizando o programa\")\n",
        "                        quit()\n",
        "                else:\n",
        "                    self.OPTIONS_METHOD[option]()\n",
        "                \n",
        "                option = self.quit_or_continue()\n",
        "\n",
        "    def show_movies(self):\n",
        "        t = Table(title='Filmes cadastrados', title_style=\"b\")\n",
        "        t.add_column('Indíce')\n",
        "        t.add_column('Nome do Filme')\n",
        "        t.add_column('Status')\n",
        "        for index, movie in enumerate(self.database_movies[\"movies\"]):\n",
        "            t.add_row(str(index + 1), movie[\"name\"],  movie[\"status\"])\n",
        "\n",
        "        console.print(t, justify=\"center\")\n",
        "\n",
        "    def search_movie(self):\n",
        "        word = input(\"Digite uma palavra ou o nome completo do filme ao qual deseja pesquisar: \\n\")\n",
        "        while word == \"\":\n",
        "            word = input(\"Texto vazio, tente novamente: \")\n",
        "\n",
        "        t = Table(title='Filmes encontrados', title_style=\"b\")\n",
        "        t.add_column('Indíce')\n",
        "        t.add_column('Nome do Filme')\n",
        "        t.add_column('Status')\n",
        "        \n",
        "        for index, movie in enumerate(self.database_movies[\"movies\"]):\n",
        "            if word.lower() in movie[\"name\"].lower():\n",
        "                t.add_row(str(index + 1), movie[\"name\"],  movie[\"status\"])\n",
        "\n",
        "        console.print(t, justify=\"center\")\n",
        "\n",
        "    def rent_movie(self):\n",
        "        self.show_movies()\n",
        "\n",
        "        size_movies = len(self.database_movies[\"movies\"])\n",
        "        index = int(Prompt.ask(\"Escolha o índice do filme ao qual deseja alugar\",  choices= [str(x) for x in range(1,size_movies+1)],  show_choices=False))\n",
        "\n",
        "        name = self.database_movies[\"movies\"][index-1][\"name\"]\n",
        "        status = self.database_movies[\"movies\"][index-1][\"status\"]\n",
        "        \n",
        "        if status != \"Alocado\":\n",
        "            rent = Confirm.ask(f\"Você confirma a locação do seguinte filme?  Nome: {name} , Status: {status}\")\n",
        "\n",
        "            if rent:\n",
        "                console.print(\"O filme foi alocado com sucesso\")\n",
        "                self.database_movies[\"movies\"][index-1][\"status\"] = \"Alocado\"\n",
        "                self.__save_database(self.database_movies)\n",
        "            else:\n",
        "                console.print(\"Nenhum filme foi alocado\")\n",
        "        else:\n",
        "            console.print(\"O filme selecionado ja está alocado\")\n",
        "\n",
        "    def register_movie(self):\n",
        "\n",
        "        name = input(\"Digite o nome do filme que deseja cadastrar: \\n\")\n",
        "        while name == \"\":\n",
        "            name = input(\"Texto vazio, tente novamente: \")\n",
        "        option_status = Prompt.ask(\"Digite o número do status do filme a ser cadastrado: (1) Disponível (2) Alocado (3) Indisponível: \", choices=[\"1\", \"2\", \"3\"])\n",
        "        status = self.OPTIONS_STATUS[option_status]\n",
        "    \n",
        "        save = Confirm.ask(f\"Tem certeza que deseja salvar o seguinte filme?  Nome: {name} , Status: {status}\")\n",
        "\n",
        "        if save:\n",
        "            self.database_movies[\"movies\"].append({\n",
        "                \"name\": name,\n",
        "                \"status\": status\n",
        "            })\n",
        "\n",
        "            self.__save_database(self.database_movies)\n",
        "\n",
        "    def update_movie(self):\n",
        "        self.show_movies()\n",
        "\n",
        "        size_movies = len(self.database_movies[\"movies\"])\n",
        "        index = int(Prompt.ask(\"Escolha o índice do filme ao qual deseja atualizar\",  choices= [str(x) for x in range(1,size_movies+1)],  show_choices=False))\n",
        "        \n",
        "        name = self.database_movies[\"movies\"][index-1][\"name\"]\n",
        "        status = self.database_movies[\"movies\"][index-1][\"status\"]\n",
        "\n",
        "        update = Confirm.ask(f\"Você tem certeza que deseja atualizar os dados do seguinte filme?  Nome: {name} , Status: {status}\")\n",
        "\n",
        "        if update:\n",
        "            update_choice = Prompt.ask(\"Deseja alterar o nome ou o status?\",  choices= ['nome', 'status'])\n",
        "\n",
        "            if update_choice == \"nome\":\n",
        "\n",
        "                new_name = input(f\"Digite o novo nome do filme {name}: \")\n",
        "                while new_name == \"\":\n",
        "                    new_name = input(\"Texto vazio, tente novamente: \")\n",
        "                \n",
        "                update_name = Confirm.ask(f\"Você tem certeza que deseja atualizar o nome do filme {name} para {new_name}?\")\n",
        "                \n",
        "                if update_name:\n",
        "                    self.database_movies[\"movies\"][index-1][\"name\"] = new_name\n",
        "                    self.__save_database(self.database_movies)\n",
        "                else:\n",
        "                    console.print(\"Nada foi alterado\")\n",
        "\n",
        "            else:\n",
        "                option_status = Prompt.ask(\"Digite o número do status do filme a ser alterado: (1) Disponível (2) Alocado (3) Indisponível: \", choices=[\"1\", \"2\", \"3\"])\n",
        "                new_status = self.OPTIONS_STATUS[option_status]\n",
        "                update_status = Confirm.ask(f\"Você tem certeza que deseja atualizar o status do filme {name} de {status} para {new_status}?\")\n",
        "\n",
        "                if update_status:\n",
        "                    self.database_movies[\"movies\"][index-1][\"status\"] = new_status\n",
        "                    self.__save_database(self.database_movies)\n",
        "                else:\n",
        "                    console.print(\"Nada foi alterado\")\n",
        "\n",
        "    def delete_movie(self):\n",
        "        self.show_movies()\n",
        "\n",
        "        size_movies = len(self.database_movies[\"movies\"])\n",
        "        index = int(Prompt.ask(\"Digite o indice do filme ao qual deseja deletar do banco de dados\",  choices= [str(x) for x in range(1,size_movies+1)],  show_choices=False))\n",
        "        \n",
        "        name = self.database_movies[\"movies\"][index-1][\"name\"]\n",
        "        status = self.database_movies[\"movies\"][index-1][\"status\"]\n",
        "\n",
        "        delete = Confirm.ask(f\"Tem certeza que deseja deletar o seguinte filme?  Nome: {name} , Status: {status}\")\n",
        "\n",
        "        if delete:\n",
        "            console.print(\"O filme foi deletado com sucesso\")\n",
        "            self.database_movies[\"movies\"].pop(index-1)\n",
        "            self.__save_database(self.database_movies)\n",
        "        else:\n",
        "            console.print(\"Nada foi alterado\")\n",
        "\n",
        "    def quit_or_continue(self):\n",
        "        choice = Confirm.ask(\"Deseja continuar ou sair do programa?\")\n",
        "        if choice:\n",
        "            clear_output()\n",
        "        else:\n",
        "            return \"quit\""
      ]
    },
    {
      "cell_type": "code",
      "execution_count": null,
      "metadata": {
        "id": "LudkaDErzFvY"
      },
      "outputs": [],
      "source": []
    },
    {
      "cell_type": "code",
      "execution_count": null,
      "metadata": {
        "colab": {
          "background_save": true,
          "base_uri": "https://localhost:8080/",
          "height": 504
        },
        "id": "562EbhaIKAHw",
        "outputId": "4fbb58bd-10e7-4a73-d8b8-09522febe8fb"
      },
      "outputs": [
        {
          "data": {
            "text/html": [
              "<pre style=\"white-space:pre;overflow-x:auto;line-height:normal;font-family:Menlo,'DejaVu Sans Mono',consolas,'Courier New',monospace\">                                            <span style=\"color: #000000; text-decoration-color: #000000; background-color: #c0c0c0; font-weight: bold\">┏━━━━━━━━━━━━━━━━━━━━━━━━━┓</span>                                            \n",
              "                                            <span style=\"color: #000000; text-decoration-color: #000000; background-color: #c0c0c0; font-weight: bold\">┃ Bem vindo a Blockbuster ┃</span>                                            \n",
              "                                            <span style=\"color: #000000; text-decoration-color: #000000; background-color: #c0c0c0; font-weight: bold\">┗━━━━━━━━━━━━━━━━━━━━━━━━━┛</span>                                            \n",
              "</pre>\n"
            ],
            "text/plain": [
              "                                            \u001b[1;5;30;47m┏━━━━━━━━━━━━━━━━━━━━━━━━━┓\u001b[0m                                            \n",
              "                                            \u001b[1;5;30;47m┃\u001b[0m\u001b[1;5;30;47m \u001b[0m\u001b[1;5;30;47mBem vindo a Blockbuster\u001b[0m\u001b[1;5;30;47m \u001b[0m\u001b[1;5;30;47m┃\u001b[0m                                            \n",
              "                                            \u001b[1;5;30;47m┗━━━━━━━━━━━━━━━━━━━━━━━━━┛\u001b[0m                                            \n"
            ]
          },
          "metadata": {},
          "output_type": "display_data"
        },
        {
          "data": {
            "text/html": [
              "<pre style=\"white-space:pre;overflow-x:auto;line-height:normal;font-family:Menlo,'DejaVu Sans Mono',consolas,'Courier New',monospace\"><span style=\"color: #008000; text-decoration-color: #008000; font-weight: bold; text-decoration: underline\">Funcionalidades do usuário:</span> \n",
              "                <span style=\"color: #008080; text-decoration-color: #008080; font-weight: bold\">1</span><span style=\"font-weight: bold\">)</span> Mostrar todos os filme do catálogo\n",
              "                <span style=\"color: #008080; text-decoration-color: #008080; font-weight: bold\">2</span><span style=\"font-weight: bold\">)</span> Pesquisar por filmes cadastrados no catálogo\n",
              "                <span style=\"color: #008080; text-decoration-color: #008080; font-weight: bold\">3</span><span style=\"font-weight: bold\">)</span> Realizar a Locação de um filme do catálogo\n",
              "</pre>\n"
            ],
            "text/plain": [
              "\u001b[1;4;32mFuncionalidades do usuário:\u001b[0m \n",
              "                \u001b[1;36m1\u001b[0m\u001b[1m)\u001b[0m Mostrar todos os filme do catálogo\n",
              "                \u001b[1;36m2\u001b[0m\u001b[1m)\u001b[0m Pesquisar por filmes cadastrados no catálogo\n",
              "                \u001b[1;36m3\u001b[0m\u001b[1m)\u001b[0m Realizar a Locação de um filme do catálogo\n"
            ]
          },
          "metadata": {},
          "output_type": "display_data"
        },
        {
          "data": {
            "text/html": [
              "<pre style=\"white-space:pre;overflow-x:auto;line-height:normal;font-family:Menlo,'DejaVu Sans Mono',consolas,'Courier New',monospace\"><span style=\"color: #800000; text-decoration-color: #800000; font-weight: bold; text-decoration: underline\">Funcionalidades de admin:</span> \n",
              "                <span style=\"color: #008080; text-decoration-color: #008080; font-weight: bold\">4</span><span style=\"font-weight: bold\">)</span> Cadastrar um novo filme no catálogo\n",
              "                <span style=\"color: #008080; text-decoration-color: #008080; font-weight: bold\">5</span><span style=\"font-weight: bold\">)</span> Deletar um filme do catálogo\n",
              "                <span style=\"color: #008080; text-decoration-color: #008080; font-weight: bold\">6</span><span style=\"font-weight: bold\">)</span> Atualizar algum filme do catálogo\n",
              "</pre>\n"
            ],
            "text/plain": [
              "\u001b[1;4;31mFuncionalidades de admin:\u001b[0m \n",
              "                \u001b[1;36m4\u001b[0m\u001b[1m)\u001b[0m Cadastrar um novo filme no catálogo\n",
              "                \u001b[1;36m5\u001b[0m\u001b[1m)\u001b[0m Deletar um filme do catálogo\n",
              "                \u001b[1;36m6\u001b[0m\u001b[1m)\u001b[0m Atualizar algum filme do catálogo\n"
            ]
          },
          "metadata": {},
          "output_type": "display_data"
        },
        {
          "data": {
            "text/html": [
              "<pre style=\"white-space:pre;overflow-x:auto;line-height:normal;font-family:Menlo,'DejaVu Sans Mono',consolas,'Courier New',monospace\">Selecione a funcionalidade ao qual deseja realizar <span style=\"color: #800080; text-decoration-color: #800080; font-weight: bold\">[1/2/3/4/5/6]</span> <span style=\"color: #008080; text-decoration-color: #008080; font-weight: bold\">(quit)</span>: </pre>\n"
            ],
            "text/plain": [
              "Selecione a funcionalidade ao qual deseja realizar \u001b[1;35m[1/2/3/4/5/6]\u001b[0m \u001b[1;36m(quit)\u001b[0m: "
            ]
          },
          "metadata": {},
          "output_type": "display_data"
        },
        {
          "data": {
            "text/html": [
              "<pre style=\"white-space:pre;overflow-x:auto;line-height:normal;font-family:Menlo,'DejaVu Sans Mono',consolas,'Courier New',monospace\">Digite a senha de admin: </pre>\n"
            ],
            "text/plain": [
              "Digite a senha de admin: "
            ]
          },
          "metadata": {},
          "output_type": "display_data"
        },
        {
          "data": {
            "text/html": [
              "<pre style=\"white-space:pre;overflow-x:auto;line-height:normal;font-family:Menlo,'DejaVu Sans Mono',consolas,'Courier New',monospace\">                                 <span style=\"font-weight: bold\">               Filmes cadastrados                </span>                                 \n",
              "                                 ┏━━━━━━━━┳━━━━━━━━━━━━━━━━━━━━━━━┳━━━━━━━━━━━━━━┓                                 \n",
              "                                 ┃<span style=\"font-weight: bold\"> Indíce </span>┃<span style=\"font-weight: bold\"> Nome do Filme         </span>┃<span style=\"font-weight: bold\"> Status       </span>┃                                 \n",
              "                                 ┡━━━━━━━━╇━━━━━━━━━━━━━━━━━━━━━━━╇━━━━━━━━━━━━━━┩                                 \n",
              "                                 │ 1      │ Viúva Negra           │ Alocado      │                                 \n",
              "                                 │ 2      │ A Lenda dos Guardiões │ Alocado      │                                 \n",
              "                                 │ 3      │ Avatar                │ Alocado      │                                 \n",
              "                                 │ 4      │ Eternos               │ Disponível   │                                 \n",
              "                                 │ 5      │ Doutor Estranho       │ Disponível   │                                 \n",
              "                                 │ 6      │ Deadpool              │ Disponível   │                                 \n",
              "                                 │ 7      │ Homem Aranha          │ Indisponível │                                 \n",
              "                                 └────────┴───────────────────────┴──────────────┘                                 \n",
              "</pre>\n"
            ],
            "text/plain": [
              "                                 \u001b[1m               Filmes cadastrados                \u001b[0m                                 \n",
              "                                 ┏━━━━━━━━┳━━━━━━━━━━━━━━━━━━━━━━━┳━━━━━━━━━━━━━━┓                                 \n",
              "                                 ┃\u001b[1m \u001b[0m\u001b[1mIndíce\u001b[0m\u001b[1m \u001b[0m┃\u001b[1m \u001b[0m\u001b[1mNome do Filme        \u001b[0m\u001b[1m \u001b[0m┃\u001b[1m \u001b[0m\u001b[1mStatus      \u001b[0m\u001b[1m \u001b[0m┃                                 \n",
              "                                 ┡━━━━━━━━╇━━━━━━━━━━━━━━━━━━━━━━━╇━━━━━━━━━━━━━━┩                                 \n",
              "                                 │ 1      │ Viúva Negra           │ Alocado      │                                 \n",
              "                                 │ 2      │ A Lenda dos Guardiões │ Alocado      │                                 \n",
              "                                 │ 3      │ Avatar                │ Alocado      │                                 \n",
              "                                 │ 4      │ Eternos               │ Disponível   │                                 \n",
              "                                 │ 5      │ Doutor Estranho       │ Disponível   │                                 \n",
              "                                 │ 6      │ Deadpool              │ Disponível   │                                 \n",
              "                                 │ 7      │ Homem Aranha          │ Indisponível │                                 \n",
              "                                 └────────┴───────────────────────┴──────────────┘                                 \n"
            ]
          },
          "metadata": {},
          "output_type": "display_data"
        },
        {
          "data": {
            "text/html": [
              "<pre style=\"white-space:pre;overflow-x:auto;line-height:normal;font-family:Menlo,'DejaVu Sans Mono',consolas,'Courier New',monospace\">Escolha o índice do filme ao qual deseja atualizar: </pre>\n"
            ],
            "text/plain": [
              "Escolha o índice do filme ao qual deseja atualizar: "
            ]
          },
          "metadata": {},
          "output_type": "display_data"
        }
      ],
      "source": [
        "locadora = Blockbuster()"
      ]
    },
    {
      "cell_type": "code",
      "execution_count": null,
      "metadata": {
        "id": "uw8Rtt0fQiLc"
      },
      "outputs": [],
      "source": []
    },
    {
      "cell_type": "code",
      "execution_count": null,
      "metadata": {
        "colab": {
          "base_uri": "https://localhost:8080/",
          "height": 33
        },
        "id": "CvYqbnPpOG7h",
        "outputId": "ddbdab05-4a91-4a1e-845d-90c1a8b04c33"
      },
      "outputs": [
        {
          "data": {
            "text/html": [
              "<pre style=\"white-space:pre;overflow-x:auto;line-height:normal;font-family:Menlo,'DejaVu Sans Mono',consolas,'Courier New',monospace\">:status:\n",
              "</pre>\n"
            ],
            "text/plain": [
              ":status:\n"
            ]
          },
          "metadata": {},
          "output_type": "display_data"
        }
      ],
      "source": [
        "console.print(\":status:\")"
      ]
    }
  ],
  "metadata": {
    "colab": {
      "provenance": []
    },
    "kernelspec": {
      "display_name": "Python 3.10.7 64-bit",
      "language": "python",
      "name": "python3"
    },
    "language_info": {
      "name": "python",
      "version": "3.10.7"
    },
    "vscode": {
      "interpreter": {
        "hash": "d3f16d613b45d41765fc5191cf61837cebf78b91418334f86bed771f1681791c"
      }
    }
  },
  "nbformat": 4,
  "nbformat_minor": 0
}
