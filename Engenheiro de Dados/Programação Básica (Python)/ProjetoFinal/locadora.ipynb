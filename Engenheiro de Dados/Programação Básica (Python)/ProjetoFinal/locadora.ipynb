{
 "cells": [
  {
   "cell_type": "code",
   "execution_count": 3,
   "metadata": {},
   "outputs": [
    {
     "name": "stdout",
     "output_type": "stream",
     "text": [
      "^C\n",
      "Note: you may need to restart the kernel to use updated packages.\n"
     ]
    }
   ],
   "source": [
    "%pip install pandas"
   ]
  },
  {
   "cell_type": "code",
   "execution_count": 2,
   "metadata": {},
   "outputs": [
    {
     "ename": "ModuleNotFoundError",
     "evalue": "No module named 'pandas'",
     "output_type": "error",
     "traceback": [
      "\u001b[1;31m---------------------------------------------------------------------------\u001b[0m",
      "\u001b[1;31mModuleNotFoundError\u001b[0m                       Traceback (most recent call last)",
      "Cell \u001b[1;32mIn [2], line 1\u001b[0m\n\u001b[1;32m----> 1\u001b[0m \u001b[39mimport\u001b[39;00m \u001b[39mpandas\u001b[39;00m \u001b[39mas\u001b[39;00m \u001b[39mpd\u001b[39;00m\n",
      "\u001b[1;31mModuleNotFoundError\u001b[0m: No module named 'pandas'"
     ]
    }
   ],
   "source": [
    "import pandas as pd"
   ]
  },
  {
   "cell_type": "code",
   "execution_count": null,
   "metadata": {},
   "outputs": [],
   "source": [
    "MOVIES_DATABASE = {\n",
    "\n",
    "    }"
   ]
  },
  {
   "cell_type": "code",
   "execution_count": null,
   "metadata": {},
   "outputs": [],
   "source": [
    "\n",
    "\n",
    "class Locator:\n",
    "    MOVIES_DATABASE = {\n",
    "\n",
    "    }\n",
    "    \n",
    "    def __init__(self) -> None:\n",
    "        \n",
    "\n",
    "        self.OPTION_STATUS = {\n",
    "            \"1\": \"Disponível\",\n",
    "            \"2\": \"Alocado\",\n",
    "            \"3\": \"Indisponível\"\n",
    "        }\n",
    "        \n",
    "\n",
    "    def __dict(self):\n",
    "        dict_movie = {}\n",
    "        dict_movie[self.name] = self.status\n",
    "        return dict_movie   \n",
    "\n",
    "    def verificar(self, substrig: str):\n",
    "        return substrig in self.__dict\n",
    "\n",
    "    def update(self, name_atual: str, name_mod: str):\n",
    "        self.name = name_mod\n",
    "        pass\n",
    "    def remove(self):\n",
    "        pass\n",
    "    def search(self):\n",
    "        pass\n",
    "    def show(self):\n",
    "        for k,v in self.__dict:\n",
    "            print(k,'-------->',v)"
   ]
  }
 ],
 "metadata": {
  "kernelspec": {
   "display_name": "Python 3.10.7 64-bit",
   "language": "python",
   "name": "python3"
  },
  "language_info": {
   "codemirror_mode": {
    "name": "ipython",
    "version": 3
   },
   "file_extension": ".py",
   "mimetype": "text/x-python",
   "name": "python",
   "nbconvert_exporter": "python",
   "pygments_lexer": "ipython3",
   "version": "3.10.7"
  },
  "orig_nbformat": 4,
  "vscode": {
   "interpreter": {
    "hash": "d3f16d613b45d41765fc5191cf61837cebf78b91418334f86bed771f1681791c"
   }
  }
 },
 "nbformat": 4,
 "nbformat_minor": 2
}
