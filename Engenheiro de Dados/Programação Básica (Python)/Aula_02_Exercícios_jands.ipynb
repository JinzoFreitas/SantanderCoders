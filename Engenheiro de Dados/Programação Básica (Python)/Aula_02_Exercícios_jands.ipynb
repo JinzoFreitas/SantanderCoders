{
  "cells": [
    {
      "cell_type": "markdown",
      "id": "49b7e916",
      "metadata": {
        "id": "49b7e916"
      },
      "source": [
        "# **Aula 02 - Exercícios**\n",
        "\n",
        "***09 de novembro de 2022***\n",
        "\n",
        "\n",
        "franklinfs390@gmail.com"
      ]
    },
    {
      "cell_type": "code",
      "execution_count": null,
      "id": "5dScQrUcFJpJ",
      "metadata": {
        "id": "5dScQrUcFJpJ"
      },
      "outputs": [],
      "source": []
    },
    {
      "cell_type": "markdown",
      "id": "2204dfce",
      "metadata": {
        "id": "2204dfce"
      },
      "source": [
        "---\n",
        "\n",
        "<p align=\"center\">\n",
        "  <img \n",
        "    src   = \"https://cdn-icons-png.flaticon.com/512/1006/1006363.png\" \n",
        "    style = \"\n",
        "      border: 0px solid rgba(0, 0, 0, 0.01);\n",
        "      border-radius: 70px; \n",
        "      width: 25%;\n",
        "      height: 25%;\n",
        "    \"\n",
        "  />\n",
        "</p>\n",
        "\n",
        "---"
      ]
    },
    {
      "cell_type": "markdown",
      "id": "9f485e41",
      "metadata": {
        "id": "9f485e41"
      },
      "source": [
        "## **Exercícios**\n",
        "\n",
        "---"
      ]
    },
    {
      "cell_type": "markdown",
      "id": "5d18fb7c",
      "metadata": {
        "id": "5d18fb7c"
      },
      "source": [
        "### **Voltando no tempo (Aquecimento)**"
      ]
    },
    {
      "cell_type": "markdown",
      "id": "f3b4947b",
      "metadata": {
        "id": "f3b4947b"
      },
      "source": [
        "<p align=\"center\">\n",
        "  <img \n",
        "    src   = \"https://cdn-icons-png.flaticon.com/512/4357/4357645.png\" \n",
        "    style = \"\n",
        "      border: 0px solid rgba(0, 0, 0, 0.1);\n",
        "      border-radius: 25px; \n",
        "      width: 10%;\n",
        "      height: 10%;\n",
        "    \"\n",
        "  />\n",
        "</p>\n"
      ]
    },
    {
      "cell_type": "markdown",
      "id": "7421d8e9",
      "metadata": {
        "id": "7421d8e9"
      },
      "source": [
        "1. A Roma Antiga desenvolveu seu sistema de numeração que até hoje é conhecida, chamado de Numeração Romana. Por mais que não seja amplamente utilizada hoje em dia, provavelmente você aprendeu quando criança sobre esse sistema e como utilizá-lo. Mesmo assim,  em diversos escritos mais antigos nós podemos encontrar esse tipo de sistema numérico, que não é tão simples para traduzirmos diretamente como o nosso sistema indo-arábico, que usamos hoje em dia. Para auxiliar o pessoal que precisa ter essa transcrição de números romanos, crie uma função que faça a tradução do sistema arábico para o nosso sistema atual.\n",
        "      Dica #1: Faça uso de dicionário.\n",
        "      Dica #2: Fique atento em alguns casos especiais. Por exemplo, 'IV' é 4, 'IX' é 9, 'XL' é 40, 'XC' é 90, 'CD' é 400 e 'CM' é 900.\n",
        "\n",
        "2. Em seguida, faça uma função que implemente exatamente o oposto do caso anterior (isto é, converter um número indo-arábico para romano).\n",
        "\n",
        "3. Suponha que você esteja encarregado de melhorar a estrutura de dados utilizada na empresa para o armazenamento de informação de logística. Até o momento, existe uma função (que não é de intereses nosso) que retorna uma lista de listas de entregas realizadas. Cada lista possui a estrutura [Entregador, Data, Município Origem, Município Destino, Produto]. Crie um programa que mude a estrutura dos dados para a seguinte forma:\n",
        "Entregadores:\n",
        "\t- Entregador:\n",
        "\t\t- Data:\n",
        "\t\t\t- Entregas: [Município de Origem, Destino e Produto]"
      ]
    },
    {
      "cell_type": "code",
      "execution_count": 13,
      "id": "9xGdb205eB0W",
      "metadata": {
        "id": "9xGdb205eB0W"
      },
      "outputs": [],
      "source": [
        "def covert_roma_ara(romano: str) -> int:\n",
        "\n",
        "  # Resultado final e variável auxiliar de cálculo, respectivamente.\n",
        "  result, valor = 0, 0\n",
        "\n",
        "  # Dicionário tradutor\n",
        "  DICT_TRAD = {\n",
        "      'I' : 1,\n",
        "      'V' : 5,\n",
        "      'X' : 10,\n",
        "      'L' : 50,\n",
        "      'C' : 100,\n",
        "      'D' : 500,\n",
        "      'M' : 1000\n",
        "  }\n",
        "\n",
        "  # Verificando se a entrada é um único símbolo\n",
        "  if not len(romano) == 1:\n",
        "\n",
        "      # Varrendo o dict tradutor e comparando até o penultimo index\n",
        "      for num in range(len(romano)-1):\n",
        "        valor = DICT_TRAD[romano[num]]\n",
        "\n",
        "        # Análisando os pares da esquerda para direita\n",
        "        if DICT_TRAD[romano[num]] >= DICT_TRAD[romano[num+1]]:\n",
        "\n",
        "          # Se maior incrementa\n",
        "          result += valor  \n",
        "\n",
        "        else:\n",
        "\n",
        "          # se menor decrementa\n",
        "          result -= valor\n",
        "\n",
        "      # Último valor em romano está só e é somado ao resultado final  \n",
        "      return result + DICT_TRAD[romano[-1]]\n",
        "\n",
        "  # Se for um único simbolo, o dic tradutor é cahamdo diretamente como resultado    \n",
        "  else:\n",
        "     return DICT_TRAD[romano]          "
      ]
    },
    {
      "cell_type": "code",
      "execution_count": 12,
      "id": "uWuwHsW0r3wA",
      "metadata": {
        "colab": {
          "base_uri": "https://localhost:8080/"
        },
        "id": "uWuwHsW0r3wA",
        "outputId": "4532d979-0236-4fd1-9c1d-e0d58e6159ce"
      },
      "outputs": [
        {
          "data": {
            "text/plain": [
              "49"
            ]
          },
          "execution_count": 12,
          "metadata": {},
          "output_type": "execute_result"
        }
      ],
      "source": [
        "covert_roma_ara(romano='XLIX')  "
      ]
    },
    {
      "cell_type": "code",
      "execution_count": null,
      "id": "be8b7ae6",
      "metadata": {},
      "outputs": [],
      "source": []
    },
    {
      "cell_type": "code",
      "execution_count": null,
      "id": "b2LbmCQ9hqcb",
      "metadata": {
        "colab": {
          "base_uri": "https://localhost:8080/"
        },
        "id": "b2LbmCQ9hqcb",
        "outputId": "f8cb151e-8c7b-4475-8c8e-de7ab3f01c94"
      },
      "outputs": [
        {
          "data": {
            "text/plain": [
              "['I', 'V', 'X', 'L', 'C', 'D', 'M']"
            ]
          },
          "execution_count": 58,
          "metadata": {},
          "output_type": "execute_result"
        }
      ],
      "source": [
        "dic = {\n",
        "      'I' : 1,\n",
        "      'V' : 5,\n",
        "      'X' : 10,\n",
        "      'L' : 50,\n",
        "      'C' : 100,\n",
        "      'D' : 500,\n",
        "      'M' : 1000\n",
        "  }\n",
        "romano = \"IL\"\n",
        "x = dic.keys()\n",
        "list(x) "
      ]
    },
    {
      "cell_type": "markdown",
      "id": "VMzxZTW2lnpX",
      "metadata": {
        "id": "VMzxZTW2lnpX"
      },
      "source": [
        "2. Em seguida, faça uma função que implemente exatamente o oposto do caso anterior (isto é, converter um número indo-arábico para romano)."
      ]
    },
    {
      "cell_type": "code",
      "execution_count": 17,
      "id": "Ylk39vqllpSS",
      "metadata": {
        "id": "Ylk39vqllpSS"
      },
      "outputs": [],
      "source": [
        "def covert_arab_roma(numero: int) -> str:\n",
        "\n",
        "    dic_2 = {\n",
        "          1 : 'I',\n",
        "          4 : 'IV',\n",
        "          5 : 'V',\n",
        "          9 : 'IX',\n",
        "            10 : 'X',\n",
        "            40 : 'XL',\n",
        "            50 : 'L',\n",
        "            90 : 'XC',\n",
        "            100: 'C',\n",
        "            400: 'CD', \n",
        "            500 : 'D',\n",
        "            900 : 'CM', \n",
        "            1000 : 'M'\n",
        "    }\n",
        "\n",
        "    # lista de keys do dict\n",
        "    keys = list(dic_2.keys())\n",
        "    result = ''\n",
        "\n",
        "    # Verificar se o numero já se encontra certo no dict\n",
        "    if numero in dic_2.keys():\n",
        "      result += dic_2[numero]\n",
        "      # já retorna aqui e finaliza a conversão\n",
        "      return result\n",
        "\n",
        "    # o valor será quebrado em partes até, se necessário, 1 = 'I' \n",
        "    while numero >= 1:\n",
        "        # Verifica se o número já se encontra certo no dict\n",
        "        if numero in dic_2.keys():\n",
        "          result += dic_2[numero]\n",
        "        else:\n",
        "          # Variável para auxiliar no index\n",
        "          index = 0\n",
        "          # Varremos as keys em busca da maior chave inteira do número\n",
        "          while numero > keys[index]:\n",
        "            index += 1          \n",
        "          result += dic_2[keys[index-1]]\n",
        "        numero -= keys[index-1] \n",
        "    return result"
      ]
    },
    {
      "cell_type": "code",
      "execution_count": 16,
      "id": "aBJhm0aLsMYo",
      "metadata": {
        "colab": {
          "base_uri": "https://localhost:8080/",
          "height": 35
        },
        "id": "aBJhm0aLsMYo",
        "outputId": "a651db4e-03df-429b-e908-2e6e3573924e"
      },
      "outputs": [
        {
          "data": {
            "application/vnd.google.colaboratory.intrinsic+json": {
              "type": "string"
            },
            "text/plain": [
              "'XCI'"
            ]
          },
          "execution_count": 16,
          "metadata": {},
          "output_type": "execute_result"
        }
      ],
      "source": [
        "covert_arab_roma(91)"
      ]
    },
    {
      "cell_type": "markdown",
      "id": "HE5Hs7Ol3Bez",
      "metadata": {
        "id": "HE5Hs7Ol3Bez"
      },
      "source": [
        "3.Suponha que você esteja encarregado de melhorar a estrutura de dados utilizada na empresa para o armazenamento de informação de logística. Até o momento, existe uma função (que não é de intereses nosso) que retorna uma lista de listas de entregas realizadas. Cada lista possui a estrutura [Entregador, Data, Município Origem, Município Destino, Produto]. Crie um programa que mude a estrutura dos dados para a seguinte forma: Entregadores:\n",
        "\n",
        "Entregador:\n",
        "Data:\n",
        "Entregas: [Município de Origem, Destino e Produto]"
      ]
    },
    {
      "cell_type": "code",
      "execution_count": null,
      "id": "IUXwg3nf3F0V",
      "metadata": {
        "id": "IUXwg3nf3F0V"
      },
      "outputs": [],
      "source": []
    },
    {
      "cell_type": "markdown",
      "id": "16fc53f9",
      "metadata": {
        "id": "16fc53f9"
      },
      "source": [
        "### **Cadastro de animais**\n",
        "\n",
        "<p align=\"center\">\n",
        "  <img \n",
        "    src   = \"https://cdn-icons-png.flaticon.com/512/616/616408.png\" \n",
        "    style = \"\n",
        "      border: 0px solid rgba(0, 0, 0, 0.1);\n",
        "      border-radius: 25px; \n",
        "      width: 10%;\n",
        "      height: 10%;\n",
        "    \"\n",
        "  />\n",
        "</p>\n",
        "\n",
        "4. Você está trabalhando na construção de um sistema para cadastro de adoção de animais, e pretende criar fichas para cada um desses animais, de acordo com as informações recebidas de pessoas que os resgataram. Crie uma função que gere um cadastro para o animal. O cadastro deve obrigatoriamente conter o nome e o tipo de animal (cachorro, gato, etc), mas outras características também podem ser aceitas, como Idade, se já é vermifugado, etc. Essas informações tratadas serão enviadas para a função generate_card, que aceita todos os parâmetros escolhidos para a composição do cadastro."
      ]
    },
    {
      "cell_type": "code",
      "execution_count": null,
      "id": "OjEr-HpaeCkk",
      "metadata": {
        "id": "OjEr-HpaeCkk"
      },
      "outputs": [],
      "source": []
    },
    {
      "cell_type": "markdown",
      "id": "bc9e0c8d",
      "metadata": {
        "id": "bc9e0c8d"
      },
      "source": [
        "**Desafio - Mercado Bitcoin (Escopo aberto)**\n",
        "\n",
        "<p align=\"center\">\n",
        "  <img \n",
        "    src   = \"https://cdn-icons-png.flaticon.com/512/1797/1797330.png\" \n",
        "    style = \"\n",
        "      border: 0px solid rgba(0, 0, 0, 0.1);\n",
        "      border-radius: 25px; \n",
        "      width: 10%;\n",
        "      height: 10%;\n",
        "    \"\n",
        "  />\n",
        "</p>\n",
        "\n",
        "Capture e armazene os dados do Mercado Bitcoin, seguindo os seguintes requisitos:\n",
        "* 1. Crie uma função, que implemente compressão de listas para extrair dados de ao menos 3 criptomoedas;\n",
        "* 2. Crie uma função, que aplique alguma estrutura (alguma limpeza) sobre os dados capturados e os armazene dentro de um arquivo (.csv, .txt, etc.); e\n",
        "* 3. Crie uma estratégia que te permita extrair os dados ao menos 5 vezes, durante um  período de tempo regularmente espaçado (1 extração por segundo, 1 extração por minuto, etc.);\n",
        "\n",
        "Consulte o link da documentação do Mercado Bitcoin [aqui](https://www.mercadobitcoin.com.br/api-doc/) e [aqui](https://www.mercadobitcoin.com.br/trade-api/)."
      ]
    },
    {
      "cell_type": "code",
      "execution_count": null,
      "id": "0bf9629c",
      "metadata": {
        "colab": {
          "base_uri": "https://localhost:8080/"
        },
        "id": "0bf9629c",
        "outputId": "e5e4ee0d-6841-40a9-b0e8-27b04fe7ae26"
      },
      "outputs": [
        {
          "data": {
            "text/plain": [
              "{'ticker': {'high': '99675.00000000',\n",
              "  'low': '82089.80000000',\n",
              "  'vol': '172.93974125',\n",
              "  'last': '85943.36620000',\n",
              "  'buy': '85846.25929728',\n",
              "  'sell': '85943.37618',\n",
              "  'open': '96600.00000000',\n",
              "  'date': 1668041416}}"
            ]
          },
          "execution_count": 107,
          "metadata": {},
          "output_type": "execute_result"
        }
      ],
      "source": [
        "import requests, datetime\n",
        "import pandas as pd\n",
        "\n",
        "\n",
        "BTC_ticker = requests.get('https://www.mercadobitcoin.net/api/BTC/ticker/').json()\n",
        "BTC_ticker"
      ]
    },
    {
      "cell_type": "code",
      "execution_count": null,
      "id": "XoISL7C--Z1G",
      "metadata": {
        "colab": {
          "base_uri": "https://localhost:8080/"
        },
        "id": "XoISL7C--Z1G",
        "outputId": "2f8aad1c-bf65-4cb9-f0d9-26d67d9222d2"
      },
      "outputs": [
        {
          "name": "stdout",
          "output_type": "stream",
          "text": [
            "2022-11-10 00:38:27\n"
          ]
        }
      ],
      "source": [
        "print(datetime.datetime.utcfromtimestamp(1668040707).strftime('%Y-%m-%d %H:%M:%S'))"
      ]
    },
    {
      "cell_type": "code",
      "execution_count": null,
      "id": "xbzYoS8c_fAM",
      "metadata": {
        "id": "xbzYoS8c_fAM"
      },
      "outputs": [],
      "source": [
        "list_cripto = ['BTC', 'ETH', 'DOGE']"
      ]
    },
    {
      "cell_type": "code",
      "execution_count": null,
      "id": "i3L3piUg-1fO",
      "metadata": {
        "id": "i3L3piUg-1fO"
      },
      "outputs": [],
      "source": [
        "def get_cripto(coin, metod):\n",
        "  url = f'https://www.mercadobitcoin.net/api/{coin}/{metod}/'\n",
        "  r = requests.get(url).json()\n",
        "  return r"
      ]
    },
    {
      "cell_type": "code",
      "execution_count": null,
      "id": "u55riIui__jY",
      "metadata": {
        "colab": {
          "base_uri": "https://localhost:8080/",
          "height": 300
        },
        "id": "u55riIui__jY",
        "outputId": "01da6364-3c98-4dea-9195-9408adac2344"
      },
      "outputs": [
        {
          "data": {
            "text/html": [
              "\n",
              "  <div id=\"df-39ae7148-84c7-4c3a-9cda-4259760ac9ed\">\n",
              "    <div class=\"colab-df-container\">\n",
              "      <div>\n",
              "<style scoped>\n",
              "    .dataframe tbody tr th:only-of-type {\n",
              "        vertical-align: middle;\n",
              "    }\n",
              "\n",
              "    .dataframe tbody tr th {\n",
              "        vertical-align: top;\n",
              "    }\n",
              "\n",
              "    .dataframe thead th {\n",
              "        text-align: right;\n",
              "    }\n",
              "</style>\n",
              "<table border=\"1\" class=\"dataframe\">\n",
              "  <thead>\n",
              "    <tr style=\"text-align: right;\">\n",
              "      <th></th>\n",
              "      <th>ticker</th>\n",
              "    </tr>\n",
              "  </thead>\n",
              "  <tbody>\n",
              "    <tr>\n",
              "      <th>buy</th>\n",
              "      <td>85600</td>\n",
              "    </tr>\n",
              "    <tr>\n",
              "      <th>date</th>\n",
              "      <td>1668041608</td>\n",
              "    </tr>\n",
              "    <tr>\n",
              "      <th>high</th>\n",
              "      <td>99675.00000000</td>\n",
              "    </tr>\n",
              "    <tr>\n",
              "      <th>last</th>\n",
              "      <td>85658.08655159</td>\n",
              "    </tr>\n",
              "    <tr>\n",
              "      <th>low</th>\n",
              "      <td>82089.80000000</td>\n",
              "    </tr>\n",
              "    <tr>\n",
              "      <th>open</th>\n",
              "      <td>96501.02000000</td>\n",
              "    </tr>\n",
              "    <tr>\n",
              "      <th>sell</th>\n",
              "      <td>85660.7202</td>\n",
              "    </tr>\n",
              "    <tr>\n",
              "      <th>vol</th>\n",
              "      <td>172.73378826</td>\n",
              "    </tr>\n",
              "  </tbody>\n",
              "</table>\n",
              "</div>\n",
              "      <button class=\"colab-df-convert\" onclick=\"convertToInteractive('df-39ae7148-84c7-4c3a-9cda-4259760ac9ed')\"\n",
              "              title=\"Convert this dataframe to an interactive table.\"\n",
              "              style=\"display:none;\">\n",
              "        \n",
              "  <svg xmlns=\"http://www.w3.org/2000/svg\" height=\"24px\"viewBox=\"0 0 24 24\"\n",
              "       width=\"24px\">\n",
              "    <path d=\"M0 0h24v24H0V0z\" fill=\"none\"/>\n",
              "    <path d=\"M18.56 5.44l.94 2.06.94-2.06 2.06-.94-2.06-.94-.94-2.06-.94 2.06-2.06.94zm-11 1L8.5 8.5l.94-2.06 2.06-.94-2.06-.94L8.5 2.5l-.94 2.06-2.06.94zm10 10l.94 2.06.94-2.06 2.06-.94-2.06-.94-.94-2.06-.94 2.06-2.06.94z\"/><path d=\"M17.41 7.96l-1.37-1.37c-.4-.4-.92-.59-1.43-.59-.52 0-1.04.2-1.43.59L10.3 9.45l-7.72 7.72c-.78.78-.78 2.05 0 2.83L4 21.41c.39.39.9.59 1.41.59.51 0 1.02-.2 1.41-.59l7.78-7.78 2.81-2.81c.8-.78.8-2.07 0-2.86zM5.41 20L4 18.59l7.72-7.72 1.47 1.35L5.41 20z\"/>\n",
              "  </svg>\n",
              "      </button>\n",
              "      \n",
              "  <style>\n",
              "    .colab-df-container {\n",
              "      display:flex;\n",
              "      flex-wrap:wrap;\n",
              "      gap: 12px;\n",
              "    }\n",
              "\n",
              "    .colab-df-convert {\n",
              "      background-color: #E8F0FE;\n",
              "      border: none;\n",
              "      border-radius: 50%;\n",
              "      cursor: pointer;\n",
              "      display: none;\n",
              "      fill: #1967D2;\n",
              "      height: 32px;\n",
              "      padding: 0 0 0 0;\n",
              "      width: 32px;\n",
              "    }\n",
              "\n",
              "    .colab-df-convert:hover {\n",
              "      background-color: #E2EBFA;\n",
              "      box-shadow: 0px 1px 2px rgba(60, 64, 67, 0.3), 0px 1px 3px 1px rgba(60, 64, 67, 0.15);\n",
              "      fill: #174EA6;\n",
              "    }\n",
              "\n",
              "    [theme=dark] .colab-df-convert {\n",
              "      background-color: #3B4455;\n",
              "      fill: #D2E3FC;\n",
              "    }\n",
              "\n",
              "    [theme=dark] .colab-df-convert:hover {\n",
              "      background-color: #434B5C;\n",
              "      box-shadow: 0px 1px 3px 1px rgba(0, 0, 0, 0.15);\n",
              "      filter: drop-shadow(0px 1px 2px rgba(0, 0, 0, 0.3));\n",
              "      fill: #FFFFFF;\n",
              "    }\n",
              "  </style>\n",
              "\n",
              "      <script>\n",
              "        const buttonEl =\n",
              "          document.querySelector('#df-39ae7148-84c7-4c3a-9cda-4259760ac9ed button.colab-df-convert');\n",
              "        buttonEl.style.display =\n",
              "          google.colab.kernel.accessAllowed ? 'block' : 'none';\n",
              "\n",
              "        async function convertToInteractive(key) {\n",
              "          const element = document.querySelector('#df-39ae7148-84c7-4c3a-9cda-4259760ac9ed');\n",
              "          const dataTable =\n",
              "            await google.colab.kernel.invokeFunction('convertToInteractive',\n",
              "                                                     [key], {});\n",
              "          if (!dataTable) return;\n",
              "\n",
              "          const docLinkHtml = 'Like what you see? Visit the ' +\n",
              "            '<a target=\"_blank\" href=https://colab.research.google.com/notebooks/data_table.ipynb>data table notebook</a>'\n",
              "            + ' to learn more about interactive tables.';\n",
              "          element.innerHTML = '';\n",
              "          dataTable['output_type'] = 'display_data';\n",
              "          await google.colab.output.renderOutput(dataTable, element);\n",
              "          const docLink = document.createElement('div');\n",
              "          docLink.innerHTML = docLinkHtml;\n",
              "          element.appendChild(docLink);\n",
              "        }\n",
              "      </script>\n",
              "    </div>\n",
              "  </div>\n",
              "  "
            ],
            "text/plain": [
              "              ticker\n",
              "buy            85600\n",
              "date      1668041608\n",
              "high  99675.00000000\n",
              "last  85658.08655159\n",
              "low   82089.80000000\n",
              "open  96501.02000000\n",
              "sell      85660.7202\n",
              "vol     172.73378826"
            ]
          },
          "execution_count": 112,
          "metadata": {},
          "output_type": "execute_result"
        }
      ],
      "source": [
        "df = pd.DataFrame(get_cripto('BTC','ticker'))\n",
        "df.to_csv('cript.csv')\n",
        "df"
      ]
    }
  ],
  "metadata": {
    "colab": {
      "collapsed_sections": [],
      "provenance": []
    },
    "kernelspec": {
      "display_name": "Python 3.10.7 64-bit",
      "language": "python",
      "name": "python3"
    },
    "language_info": {
      "codemirror_mode": {
        "name": "ipython",
        "version": 3
      },
      "file_extension": ".py",
      "mimetype": "text/x-python",
      "name": "python",
      "nbconvert_exporter": "python",
      "pygments_lexer": "ipython3",
      "version": "3.10.7"
    },
    "varInspector": {
      "cols": {
        "lenName": 16,
        "lenType": 16,
        "lenVar": 40
      },
      "kernels_config": {
        "python": {
          "delete_cmd_postfix": "",
          "delete_cmd_prefix": "del ",
          "library": "var_list.py",
          "varRefreshCmd": "print(var_dic_list())"
        },
        "r": {
          "delete_cmd_postfix": ") ",
          "delete_cmd_prefix": "rm(",
          "library": "var_list.r",
          "varRefreshCmd": "cat(var_dic_list()) "
        }
      },
      "types_to_exclude": [
        "module",
        "function",
        "builtin_function_or_method",
        "instance",
        "_Feature"
      ],
      "window_display": false
    },
    "vscode": {
      "interpreter": {
        "hash": "d3f16d613b45d41765fc5191cf61837cebf78b91418334f86bed771f1681791c"
      }
    }
  },
  "nbformat": 4,
  "nbformat_minor": 5
}
