{
 "cells": [
  {
   "cell_type": "markdown",
   "metadata": {},
   "source": [
    "# Aula 1\n",
    "## Exercício"
   ]
  },
  {
   "cell_type": "markdown",
   "metadata": {},
   "source": [
    "1. Faça um programa que mostre a mensagem \"Olá, mundo!\" na tela"
   ]
  },
  {
   "cell_type": "code",
   "execution_count": 18,
   "metadata": {},
   "outputs": [
    {
     "name": "stdout",
     "output_type": "stream",
     "text": [
      "Olá, mundo!\n"
     ]
    }
   ],
   "source": [
    "print(\"Olá, mundo!\")"
   ]
  },
  {
   "cell_type": "markdown",
   "metadata": {},
   "source": [
    "3. Faça um programa que peça um número para o usuário (string),\n",
    "converta-o para float e depois imprima-o na tela. Você consegue fazer\n",
    "a mesma coisa, porém convertendo para int?"
   ]
  },
  {
   "cell_type": "code",
   "execution_count": 19,
   "metadata": {},
   "outputs": [
    {
     "name": "stdout",
     "output_type": "stream",
     "text": [
      "5.0 <class 'float'>\n",
      "5 <class 'int'>\n"
     ]
    }
   ],
   "source": [
    "num = input(\"Digite um número\")\n",
    "num = float(num)\n",
    "print(num, type(num))\n",
    "num = int(num)\n",
    "print(num, type(num))"
   ]
  },
  {
   "cell_type": "markdown",
   "metadata": {},
   "source": [
    "5. Faça um programa que peça as 4 notas bimestrais de um aluno e\n",
    "mostre a média aritmética delas."
   ]
  },
  {
   "cell_type": "code",
   "execution_count": 20,
   "metadata": {},
   "outputs": [
    {
     "name": "stdout",
     "output_type": "stream",
     "text": [
      "Média igual a 5.0\n"
     ]
    }
   ],
   "source": [
    "notas = []\n",
    "for i in range(4):\n",
    "    notas.append(float(input(f'Digite a nota {i+1}')))\n",
    "\n",
    "mean = sum(notas)/len(notas)\n",
    "print(f'Média igual a {mean}')"
   ]
  },
  {
   "cell_type": "markdown",
   "metadata": {},
   "source": [
    "7. Faça um programa que peça o raio de um círculo, calcule e mostre\n",
    "sua área.\n",
    "Obs: Fórmula da área de um círculo: A = 3,14*r2\n",
    ", onde r é o raio."
   ]
  },
  {
   "cell_type": "code",
   "execution_count": 21,
   "metadata": {},
   "outputs": [
    {
     "name": "stdout",
     "output_type": "stream",
     "text": [
      "A área do círculo é 78.5cm²\n"
     ]
    }
   ],
   "source": [
    "r = float(input('Informe o raio do círculo em {cm}: '))\n",
    "area = 3.14*r**2\n",
    "print(f'A área do círculo é {area}cm²')"
   ]
  },
  {
   "cell_type": "markdown",
   "metadata": {},
   "source": [
    "9. Faça um programa que peça a temperatura em graus Fahrenheit (F),\n",
    "transforme e mostre a temperatura em graus Celsius (°C).\n",
    "°C = (5 * (F-32) / 9)"
   ]
  },
  {
   "cell_type": "code",
   "execution_count": 22,
   "metadata": {},
   "outputs": [
    {
     "name": "stdout",
     "output_type": "stream",
     "text": [
      "-17.78°C\n"
     ]
    }
   ],
   "source": [
    "fah = float(input('Informe a temperatura em Fahrenheit (F)'))\n",
    "\n",
    "cel = (5 * (fah-32) / 9)\n",
    "\n",
    "print(f'{cel:.2f}°C')"
   ]
  },
  {
   "cell_type": "markdown",
   "metadata": {},
   "source": [
    "Obs: Tente também fazer um programa que faça o inverso: peça a\n",
    "temperatura em graus Celsius e a transforme em graus Fahrenheit"
   ]
  },
  {
   "cell_type": "code",
   "execution_count": 23,
   "metadata": {},
   "outputs": [
    {
     "name": "stdout",
     "output_type": "stream",
     "text": [
      "-67.00°F\n"
     ]
    }
   ],
   "source": [
    "cel = float(input('Informe a temperatura em Fahrenheit (F)'))\n",
    "\n",
    "fah = (9*cel)/5 + 32\n",
    "\n",
    "print(f'{fah:.2f}°F')"
   ]
  },
  {
   "cell_type": "markdown",
   "metadata": {},
   "source": [
    "11. Faça um programa que peça 2 números inteiros e um número real,\n",
    "calcule e mostre:\n",
    "a) o produto do dobro do primeiro com metade do segundo.\n",
    "b) a soma do triplo do primeiro com o terceiro.\n",
    "c) o terceiro elevado ao cubo."
   ]
  },
  {
   "cell_type": "code",
   "execution_count": 24,
   "metadata": {},
   "outputs": [
    {
     "name": "stdout",
     "output_type": "stream",
     "text": [
      "2.0\n",
      "6.0\n",
      "27.0\n"
     ]
    }
   ],
   "source": [
    "num1 = int(input('Digite num 1'))\n",
    "num2 = int(input('Digite num 2'))\n",
    "num3 = float(input('Digite num 3'))\n",
    "\n",
    "print((2*num1) * (num2/2))\n",
    "print((3*num1) + num3)\n",
    "print(num3**3)"
   ]
  },
  {
   "cell_type": "markdown",
   "metadata": {},
   "source": [
    "13. Faça um programa que peça um valor monetário e aumente-o em\n",
    "15%. Seu programa deve imprimir a mensagem “O novo valor é\n",
    "R$[valor]”."
   ]
  },
  {
   "cell_type": "code",
   "execution_count": 26,
   "metadata": {},
   "outputs": [
    {
     "name": "stdout",
     "output_type": "stream",
     "text": [
      "O novo valor é R$115.00\n"
     ]
    }
   ],
   "source": [
    "valor = float(input('Digite um valor monetário'))\n",
    "valor = valor*1.15\n",
    "\n",
    "print(f'O novo valor é R${valor:.2f}')"
   ]
  },
  {
   "cell_type": "markdown",
   "metadata": {},
   "source": [
    "1. Peça para o usuário digitar uma velocidade inicial (em m/s), uma\n",
    "posição inicial (em m) e um instante de tempo (em s) e imprima a\n",
    "posição de um projétil nesse instante de tempo.\n",
    "Dica: use a fórmula matemática:\n",
    "\n",
    "y(t) = y(0) + v(0) ∙ t +\n",
    "g ∙ t\n",
    "ଶ\n",
    "2\n",
    "\n",
    "Onde, g é a aceleração da gravidade (-10m/s2), y(t) é a posição\n",
    "final, y(0) é a posição inicial, v(0) é a velocidade inicial e t é o\n",
    "instante de tempo."
   ]
  },
  {
   "cell_type": "code",
   "execution_count": 30,
   "metadata": {},
   "outputs": [
    {
     "name": "stdout",
     "output_type": "stream",
     "text": [
      "Posição final igual a 190.0\n"
     ]
    }
   ],
   "source": [
    "vel_inicial = float(input('Informe a velocidade (m/s)'))\n",
    "posi_inicial = float(input('Informe a posição (m)'))\n",
    "temp = float(input('Informe o tempo (s)'))\n",
    "\n",
    "# Aceleração da gravidade (-10 m/s²)\n",
    "G = -10\n",
    "\n",
    "posi_final = posi_inicial + vel_inicial * temp + (G*(temp**2))/2\n",
    "\n",
    "print(f'Posição final igual a {posi_final}')\n"
   ]
  }
 ],
 "metadata": {
  "kernelspec": {
   "display_name": "Python 3.10.7 64-bit",
   "language": "python",
   "name": "python3"
  },
  "language_info": {
   "codemirror_mode": {
    "name": "ipython",
    "version": 3
   },
   "file_extension": ".py",
   "mimetype": "text/x-python",
   "name": "python",
   "nbconvert_exporter": "python",
   "pygments_lexer": "ipython3",
   "version": "3.10.7"
  },
  "orig_nbformat": 4,
  "vscode": {
   "interpreter": {
    "hash": "d3f16d613b45d41765fc5191cf61837cebf78b91418334f86bed771f1681791c"
   }
  }
 },
 "nbformat": 4,
 "nbformat_minor": 2
}
