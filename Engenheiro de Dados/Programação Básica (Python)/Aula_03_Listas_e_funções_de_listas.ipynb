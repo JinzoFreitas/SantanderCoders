{
  "cells": [
    {
      "cell_type": "markdown",
      "id": "49b7e916",
      "metadata": {
        "id": "49b7e916"
      },
      "source": [
        "# **Aula 03 - Listas e funções de listas**\n",
        "\n",
        "***11 de novembro de 2022***"
      ]
    },
    {
      "cell_type": "markdown",
      "id": "2204dfce",
      "metadata": {
        "id": "2204dfce"
      },
      "source": [
        "---\n",
        "\n",
        "<p align=\"center\">\n",
        "  <img \n",
        "    src   = \"https://cdn-icons-png.flaticon.com/512/1006/1006363.png\" \n",
        "    style = \"\n",
        "      border: 0px solid rgba(0, 0, 0, 0.01);\n",
        "      border-radius: 70px; \n",
        "      width: 25%;\n",
        "      height: 25%;\n",
        "    \"\n",
        "  />\n",
        "</p>\n",
        "\n",
        "---"
      ]
    },
    {
      "cell_type": "markdown",
      "id": "a2ada0f8",
      "metadata": {
        "id": "a2ada0f8"
      },
      "source": [
        "## **1. Operações condicionais**\n"
      ]
    },
    {
      "cell_type": "code",
      "execution_count": 2,
      "id": "233d00f7",
      "metadata": {
        "colab": {
          "base_uri": "https://localhost:8080/"
        },
        "id": "233d00f7",
        "outputId": "1144f21d-5619-456e-8270-63c6791b458a"
      },
      "outputs": [
        {
          "name": "stdout",
          "output_type": "stream",
          "text": [
            "5\n"
          ]
        }
      ],
      "source": [
        "# Definindo variáveis.\n",
        "\n",
        "dado_1 = 5\n",
        "dado_2 = 10\n",
        "\n",
        "# Verificando se o dado 1 é 1, 2 ou 5.\n",
        "\n",
        "if dado_1 in (1, 2, 5):\n",
        "    print(dado_1)\n",
        "else:\n",
        "    print('Dado não foi encontrado!')"
      ]
    },
    {
      "cell_type": "code",
      "execution_count": null,
      "id": "4e1d90e0",
      "metadata": {
        "colab": {
          "base_uri": "https://localhost:8080/"
        },
        "id": "4e1d90e0",
        "outputId": "5ab3ebf9-eada-435d-f0e3-cacae0ac69cc"
      },
      "outputs": [
        {
          "name": "stdout",
          "output_type": "stream",
          "text": [
            "Dado não foi encontrado!\n"
          ]
        }
      ],
      "source": [
        "# Verificando se o dado 1 não é 1, 2 ou 5.\n",
        "\n",
        "if dado_1 not in (1, 2, 5):\n",
        "    print(dado_1)\n",
        "else:\n",
        "    print('Dado não foi encontrado!')"
      ]
    },
    {
      "cell_type": "code",
      "execution_count": null,
      "id": "b02e1411",
      "metadata": {
        "colab": {
          "base_uri": "https://localhost:8080/"
        },
        "id": "b02e1411",
        "outputId": "d4fda176-b491-481c-af6e-edd7060dbf45"
      },
      "outputs": [
        {
          "name": "stdout",
          "output_type": "stream",
          "text": [
            "5\n"
          ]
        }
      ],
      "source": [
        "# Verificando se o dado 1 é igual a 5 ou menor 6.\n",
        "\n",
        "if dado_1 == 5 or dado_1 < 6:\n",
        "    print(dado_1)\n",
        "else:\n",
        "    print('Dado não foi encontrado!')"
      ]
    },
    {
      "cell_type": "code",
      "execution_count": null,
      "id": "81cf466b",
      "metadata": {},
      "outputs": [],
      "source": []
    },
    {
      "cell_type": "code",
      "execution_count": 3,
      "id": "7f312d77",
      "metadata": {
        "colab": {
          "base_uri": "https://localhost:8080/"
        },
        "id": "7f312d77",
        "outputId": "fe03b92a-0fef-4e27-d8fa-0c3a1565c2fa"
      },
      "outputs": [
        {
          "name": "stdout",
          "output_type": "stream",
          "text": [
            "5\n"
          ]
        }
      ],
      "source": [
        "# Operador ternário.\n",
        "\n",
        "print(dado_1) if dado_1 == 5 and dado_1 < 6 else print('Dado não foi encontrado!')\n"
      ]
    },
    {
      "cell_type": "code",
      "execution_count": null,
      "id": "dbb38abb",
      "metadata": {
        "colab": {
          "base_uri": "https://localhost:8080/"
        },
        "id": "dbb38abb",
        "outputId": "e63b5f6a-d007-4ec4-e00a-124c2802384e"
      },
      "outputs": [
        {
          "name": "stdout",
          "output_type": "stream",
          "text": [
            "Segundo if: 5\n"
          ]
        }
      ],
      "source": [
        "# Verificando se o dado 1 é igual a 3 e menor 6.\n",
        "\n",
        "if dado_1 == 3 and dado_1 < 6:\n",
        "    print(f'Primeiro if: {dado_1}')\n",
        "\n",
        "# Verificando se o dado 1 é igual a 5.\n",
        "\n",
        "elif dado_1 == 5:\n",
        "    print(f'Segundo if: {dado_1}')\n",
        "\n",
        "else:\n",
        "    print('Dado não foi encontrado!')"
      ]
    },
    {
      "cell_type": "markdown",
      "id": "7bfafce6",
      "metadata": {
        "id": "7bfafce6"
      },
      "source": [
        "## **2. Estruturas de repetição**\n"
      ]
    },
    {
      "cell_type": "code",
      "execution_count": 9,
      "id": "0a406e62",
      "metadata": {},
      "outputs": [
        {
          "data": {
            "text/plain": [
              "range"
            ]
          },
          "execution_count": 9,
          "metadata": {},
          "output_type": "execute_result"
        }
      ],
      "source": [
        "x = range(10)\n",
        "type(x)"
      ]
    },
    {
      "cell_type": "code",
      "execution_count": null,
      "id": "5ec68dd6",
      "metadata": {
        "colab": {
          "base_uri": "https://localhost:8080/"
        },
        "id": "5ec68dd6",
        "outputId": "c84e867f-f060-4d3a-852a-3751caa8cc23"
      },
      "outputs": [
        {
          "name": "stdout",
          "output_type": "stream",
          "text": [
            "0\n",
            "1\n",
            "2\n",
            "3\n",
            "4\n",
            "5\n",
            "6\n",
            "7\n",
            "8\n",
            "9\n"
          ]
        }
      ],
      "source": [
        "# Criando um loop for para iterar o range de 10 elementos.\n",
        "\n",
        "for i in range(10):\n",
        "    print(i)"
      ]
    },
    {
      "cell_type": "code",
      "execution_count": 12,
      "id": "ba4c5f0a",
      "metadata": {},
      "outputs": [
        {
          "name": "stdout",
          "output_type": "stream",
          "text": [
            "0\n",
            "1\n",
            "2\n",
            "3\n",
            "4\n"
          ]
        }
      ],
      "source": [
        "for i in range(0,5):\n",
        "    print(i)\n",
        "    i-=2"
      ]
    },
    {
      "cell_type": "code",
      "execution_count": null,
      "id": "10f16b13",
      "metadata": {
        "colab": {
          "base_uri": "https://localhost:8080/"
        },
        "id": "10f16b13",
        "outputId": "54729441-6cf3-40a0-cd89-34e25777c93c"
      },
      "outputs": [
        {
          "name": "stdout",
          "output_type": "stream",
          "text": [
            "0\n",
            "2\n",
            "4\n",
            "6\n",
            "8\n"
          ]
        }
      ],
      "source": [
        "# Criando um loop para imprimir os valores do range que se inicia em 0 e termina em 10 saltando de 2 em 2 elementos.\n",
        "\n",
        "for i in range(0, 10, 2):\n",
        "    print(i)"
      ]
    },
    {
      "cell_type": "code",
      "execution_count": 16,
      "id": "3912c1bd",
      "metadata": {
        "colab": {
          "base_uri": "https://localhost:8080/"
        },
        "id": "3912c1bd",
        "outputId": "c219e43b-269d-4d86-9320-301c7cf5029d"
      },
      "outputs": [
        {
          "name": "stdout",
          "output_type": "stream",
          "text": [
            "0\n",
            "1\n",
            "2\n",
            "3\n",
            "4\n",
            "5\n",
            "6\n",
            "termionou\n"
          ]
        }
      ],
      "source": [
        "# Criando um loop while.\n",
        "\n",
        "contador = 0\n",
        "\n",
        "while True:\n",
        "\n",
        "    if contador <= 5:\n",
        "        print(contador)\n",
        "        contador += 1\n",
        "    else:\n",
        "        break"
      ]
    },
    {
      "cell_type": "markdown",
      "id": "equal-surfing",
      "metadata": {
        "id": "equal-surfing"
      },
      "source": [
        "## **3. Listas**"
      ]
    },
    {
      "cell_type": "markdown",
      "id": "illegal-interest",
      "metadata": {
        "id": "illegal-interest"
      },
      "source": [
        "Listas são coleções de objetos em Python."
      ]
    },
    {
      "cell_type": "code",
      "execution_count": 17,
      "id": "religious-grant",
      "metadata": {
        "id": "religious-grant",
        "outputId": "fa924829-88b3-4a2f-cacb-9ea4ada87587"
      },
      "outputs": [
        {
          "name": "stdout",
          "output_type": "stream",
          "text": [
            "[]\n",
            "[]\n",
            "[1, 4.6, -7, 8, 10, 'vinte']\n"
          ]
        }
      ],
      "source": [
        "# Criando uma lista vazia.\n",
        "\n",
        "primeira_lista = [] \n",
        "print(primeira_lista)\n",
        "\n",
        "# Criando uma lista vazia.\n",
        "\n",
        "segunda_lista = list() \n",
        "print(segunda_lista)\n",
        "\n",
        "# Criando lista com objetos - valores int, float, str\n",
        "\n",
        "terceira_lista = [1, 4.6, -7, 8, 10, 'vinte'] \n",
        "print(terceira_lista)"
      ]
    },
    {
      "cell_type": "markdown",
      "id": "former-deposit",
      "metadata": {
        "id": "former-deposit"
      },
      "source": [
        "A lista é constituída por valores e índices (a indexação em Python começa em zero)."
      ]
    },
    {
      "cell_type": "markdown",
      "id": "applied-swedish",
      "metadata": {
        "id": "applied-swedish"
      },
      "source": [
        "* **elemento**: [1, 4.6, -7,  8,  10,  'vinte']  \n",
        "* **índice**:   [0, 1, 2, 3, 4, 5]"
      ]
    },
    {
      "cell_type": "markdown",
      "id": "seventh-guide",
      "metadata": {
        "id": "seventh-guide"
      },
      "source": [
        "A lista é mutável. Ou seja, podemos modificar os valores que a constituem."
      ]
    },
    {
      "cell_type": "code",
      "execution_count": null,
      "id": "becoming-administration",
      "metadata": {
        "id": "becoming-administration",
        "outputId": "89910ee9-2bb3-4815-e728-23cd3ea84173"
      },
      "outputs": [
        {
          "name": "stdout",
          "output_type": "stream",
          "text": [
            "[1, 4.6, -7, 'oito', 10, 'vinte']\n"
          ]
        }
      ],
      "source": [
        "# Lista de valores.\n",
        "\n",
        "terceira_lista = [1, 4.6, -7, 8, 10, 'vinte'] \n",
        "\n",
        "# Acessando o valor do índice 3.\n",
        "\n",
        "terceira_lista[3] = 'oito' \n",
        "\n",
        "print(terceira_lista)"
      ]
    },
    {
      "cell_type": "markdown",
      "id": "japanese-cartoon",
      "metadata": {
        "id": "japanese-cartoon"
      },
      "source": [
        "- Quebrando as listas"
      ]
    },
    {
      "cell_type": "markdown",
      "id": "chief-transcription",
      "metadata": {
        "id": "chief-transcription"
      },
      "source": [
        "Podemos criar subconjuntos (slices) das listas."
      ]
    },
    {
      "cell_type": "code",
      "execution_count": null,
      "id": "indie-acting",
      "metadata": {
        "id": "indie-acting"
      },
      "outputs": [],
      "source": [
        "# Declarando lista de valores ímpares. \n",
        "\n",
        "impares = [1, 3, 5, 7, 9, 11, 13, 15, 17]"
      ]
    },
    {
      "cell_type": "code",
      "execution_count": null,
      "id": "ideal-location",
      "metadata": {
        "id": "ideal-location",
        "outputId": "1d94d3b4-79f0-4c23-fffb-e73297186196"
      },
      "outputs": [
        {
          "data": {
            "text/plain": [
              "13"
            ]
          },
          "execution_count": 11,
          "metadata": {},
          "output_type": "execute_result"
        }
      ],
      "source": [
        "# Acessando o número nº13 da lista -> Capturando o dado pelo índice.\n",
        "\n",
        "impares[6]"
      ]
    },
    {
      "cell_type": "code",
      "execution_count": null,
      "id": "pacific-chambers",
      "metadata": {
        "id": "pacific-chambers",
        "outputId": "8ab9fcb3-caba-41c2-e8fa-2c931c1a96eb"
      },
      "outputs": [
        {
          "data": {
            "text/plain": [
              "1"
            ]
          },
          "execution_count": 12,
          "metadata": {},
          "output_type": "execute_result"
        }
      ],
      "source": [
        "# Capturando o primeiro elemento da lista.\n",
        "\n",
        "impares[0] "
      ]
    },
    {
      "cell_type": "code",
      "execution_count": null,
      "id": "vulnerable-university",
      "metadata": {
        "id": "vulnerable-university",
        "outputId": "545b68b6-d06f-4e25-a32b-79650fd7f745"
      },
      "outputs": [
        {
          "data": {
            "text/plain": [
              "[7, 9, 11]"
            ]
          },
          "execution_count": 16,
          "metadata": {},
          "output_type": "execute_result"
        }
      ],
      "source": [
        "# Capturando os dados entre os índices 3 e 6 (o último índice é exclusivo).\n",
        "\n",
        "impares[3:6] "
      ]
    },
    {
      "cell_type": "code",
      "execution_count": null,
      "id": "north-architecture",
      "metadata": {
        "id": "north-architecture"
      },
      "outputs": [],
      "source": [
        "# Declarando lista de valores ímpares. \n",
        "\n",
        "impares = [1, 3, 5, 7, 9, 11, 13, 15, 17]"
      ]
    },
    {
      "cell_type": "code",
      "execution_count": null,
      "id": "immediate-genius",
      "metadata": {
        "id": "immediate-genius",
        "outputId": "06ef2499-9d3f-4922-fd9a-952e4262d1e8"
      },
      "outputs": [
        {
          "data": {
            "text/plain": [
              "[1, 3, 5, 7, 9, 11]"
            ]
          },
          "execution_count": 20,
          "metadata": {},
          "output_type": "execute_result"
        }
      ],
      "source": [
        "# Outra forma de quebrar a lista é usando valores do início ou até o fim\n",
        "\n",
        "impares[:6] # Seria equivalente a 0:6."
      ]
    },
    {
      "cell_type": "code",
      "execution_count": null,
      "id": "improving-israeli",
      "metadata": {
        "id": "improving-israeli",
        "outputId": "dbc8c79d-a332-4cd6-ac3a-e1a0082e4801"
      },
      "outputs": [
        {
          "data": {
            "text/plain": [
              "[11, 13, 15, 17]"
            ]
          },
          "execution_count": 22,
          "metadata": {},
          "output_type": "execute_result"
        }
      ],
      "source": [
        "# Seria equivalente a 5:8.\n",
        "\n",
        "impares[5:] "
      ]
    },
    {
      "cell_type": "code",
      "execution_count": null,
      "id": "following-business",
      "metadata": {
        "id": "following-business",
        "outputId": "77c489df-8d4f-4943-8da7-ed3fb599ff86"
      },
      "outputs": [
        {
          "data": {
            "text/plain": [
              "[3, 5, 7, 9]"
            ]
          },
          "execution_count": 3,
          "metadata": {},
          "output_type": "execute_result"
        }
      ],
      "source": [
        "numeros = [0, 1, 2, 3, 4, 5, 6, 7, 8, 9, 10, 11, 12, 13, 14, 15]\n",
        "\n",
        "# Saltando a captura dos dados de 3 em 3 índices partindo do índice 0 até o índice 10.\n",
        "\n",
        "numeros[3:10:3] # [índice inicial: índice final: Número de saltos]"
      ]
    },
    {
      "cell_type": "markdown",
      "id": "regulated-warrant",
      "metadata": {
        "id": "regulated-warrant"
      },
      "source": [
        "## **Percorrendo listas**"
      ]
    },
    {
      "cell_type": "code",
      "execution_count": null,
      "id": "three-disposition",
      "metadata": {
        "id": "three-disposition"
      },
      "outputs": [],
      "source": [
        "# Criando lista de números pares.\n",
        "\n",
        "pares = [0, 2, 4, 6, 8]"
      ]
    },
    {
      "cell_type": "code",
      "execution_count": null,
      "id": "known-liechtenstein",
      "metadata": {
        "id": "known-liechtenstein",
        "outputId": "c7455ecf-6670-4041-ccc2-700408e82b14"
      },
      "outputs": [
        {
          "name": "stdout",
          "output_type": "stream",
          "text": [
            "5\n"
          ]
        }
      ],
      "source": [
        "# Definindo o núemro de elementos da lista.\n",
        "\n",
        "tamanho = len(pares)\n",
        "\n",
        "print(tamanho)"
      ]
    },
    {
      "cell_type": "code",
      "execution_count": null,
      "id": "focused-owner",
      "metadata": {
        "id": "focused-owner",
        "outputId": "9ff7ddac-999f-4ae5-9fec-03a2e873358a"
      },
      "outputs": [
        {
          "name": "stdout",
          "output_type": "stream",
          "text": [
            "0\n",
            "2\n",
            "4\n",
            "6\n",
            "8\n"
          ]
        }
      ],
      "source": [
        "# Percorrendo a lista índice a índice.\n",
        "\n",
        "for indice in range(tamanho):\n",
        "    print(pares[indice])"
      ]
    },
    {
      "cell_type": "code",
      "execution_count": null,
      "id": "revised-clear",
      "metadata": {
        "id": "revised-clear",
        "outputId": "47d408f9-0092-4dce-851f-c5bfd948fe47"
      },
      "outputs": [
        {
          "name": "stdout",
          "output_type": "stream",
          "text": [
            "0\n",
            "2\n",
            "4\n",
            "6\n",
            "8\n"
          ]
        }
      ],
      "source": [
        "# Percorrendo a lista elemento a elemento.\n",
        "\n",
        "pares = [0, 2, 4, 6, 8]\n",
        "\n",
        "for elemento in pares:\n",
        "    print(elemento)"
      ]
    },
    {
      "cell_type": "code",
      "execution_count": null,
      "id": "immune-discipline",
      "metadata": {
        "id": "immune-discipline",
        "outputId": "d30c8f9d-6a48-4a24-c5d8-7f59d5eb5f12"
      },
      "outputs": [
        {
          "name": "stdout",
          "output_type": "stream",
          "text": [
            "0\n",
            "2\n",
            "4\n",
            "6\n",
            "8\n"
          ]
        }
      ],
      "source": [
        "# Executando a mesma operação acima, mas trocando o nome da variável.\n",
        "\n",
        "for item in pares:\n",
        "    print(item)"
      ]
    },
    {
      "cell_type": "code",
      "execution_count": null,
      "id": "alike-malpractice",
      "metadata": {
        "id": "alike-malpractice",
        "outputId": "52994553-37e3-4ff3-f708-242982768445"
      },
      "outputs": [
        {
          "name": "stdout",
          "output_type": "stream",
          "text": [
            "0\n",
            "2\n",
            "4\n",
            "6\n",
            "8\n"
          ]
        }
      ],
      "source": [
        "# Executando a mesma operação acima, mas trocando o nome da variável.\n",
        "\n",
        "for x in pares:\n",
        "    print(x)"
      ]
    },
    {
      "cell_type": "code",
      "execution_count": 26,
      "id": "208730e5",
      "metadata": {},
      "outputs": [
        {
          "data": {
            "text/plain": [
              "([1, 2, 3], [], [1, 'v'])"
            ]
          },
          "execution_count": 26,
          "metadata": {},
          "output_type": "execute_result"
        }
      ],
      "source": [
        "tuplas = ([1,2,3], ['a', 'b', 'c'], [1,'v'])\n",
        "\n",
        "tuplas[1].pop(0)\n",
        "tuplas[1].pop(0)\n",
        "tuplas[1].pop(0)\n",
        "\n",
        "tuplas"
      ]
    },
    {
      "cell_type": "code",
      "execution_count": null,
      "id": "f06e0f37",
      "metadata": {},
      "outputs": [],
      "source": [
        "def fun(lista: list, x: int, abc: str):\n",
        "    x."
      ]
    },
    {
      "cell_type": "markdown",
      "id": "random-stack",
      "metadata": {
        "id": "random-stack"
      },
      "source": [
        "# **Funções de listas**"
      ]
    },
    {
      "cell_type": "markdown",
      "id": "altered-amsterdam",
      "metadata": {
        "id": "altered-amsterdam"
      },
      "source": [
        "- Adicionar elementos a lista;"
      ]
    },
    {
      "cell_type": "code",
      "execution_count": null,
      "id": "contrary-journalism",
      "metadata": {
        "id": "contrary-journalism",
        "outputId": "68f618c1-b0f0-4e8b-d9a2-459f85d3ec04"
      },
      "outputs": [
        {
          "name": "stdout",
          "output_type": "stream",
          "text": [
            "[0, 2, 4, 6, 8, 10]\n"
          ]
        }
      ],
      "source": [
        "# Definindo lista de valores pares.\n",
        "\n",
        "pares = [0, 2, 4, 6, 8]\n",
        "\n",
        "# Incluir o número 10 nessa lista.\n",
        "\n",
        "pares.append(10) # Acrescentar o valor no final da lista.\n",
        "\n",
        "print(pares)"
      ]
    },
    {
      "cell_type": "code",
      "execution_count": null,
      "id": "6689ef1b",
      "metadata": {
        "id": "6689ef1b"
      },
      "outputs": [],
      "source": [
        "# Acrescentando o valro 12 a lista.\n",
        "\n",
        "pares += [12]"
      ]
    },
    {
      "cell_type": "code",
      "execution_count": null,
      "id": "completed-saying",
      "metadata": {
        "id": "completed-saying",
        "outputId": "726cc2a3-47ae-4bb0-b9f9-3494101071ac"
      },
      "outputs": [
        {
          "name": "stdout",
          "output_type": "stream",
          "text": [
            "[0, 2, 4, 6, 8, 10]\n"
          ]
        }
      ],
      "source": [
        "# Outra forma de adicionar um elemento é utilizando seu índice na lista.\n",
        "\n",
        "pares = [0, 2, 4, 8, 10]\n",
        "\n",
        "# Acrescentar o valor 6 na posição 3.\n",
        "\n",
        "pares.insert(3, 6) # A função insert precisa da posição seguida do valor que se deseja adicionar.\n",
        "\n",
        "print(pares)"
      ]
    },
    {
      "cell_type": "markdown",
      "id": "suspected-orange",
      "metadata": {
        "id": "suspected-orange"
      },
      "source": [
        "- Remover um elemento da lista;"
      ]
    },
    {
      "cell_type": "code",
      "execution_count": null,
      "id": "civic-screening",
      "metadata": {
        "id": "civic-screening",
        "outputId": "f8063e08-1db7-4ae4-e75a-484d9968c177"
      },
      "outputs": [
        {
          "name": "stdout",
          "output_type": "stream",
          "text": [
            "[1, 3, 5, 7, 9]\n"
          ]
        }
      ],
      "source": [
        "impares = [1, 3, 3, 5, 7, 9]\n",
        "\n",
        "impares.remove(3) # A função remove o valor - nesse caso a função 'remove' vai retirar o primeiro valor 3.\n",
        "\n",
        "print(impares)"
      ]
    },
    {
      "cell_type": "markdown",
      "id": "protecting-things",
      "metadata": {
        "id": "protecting-things"
      },
      "source": [
        "* Outra forma de remover um elemento;"
      ]
    },
    {
      "cell_type": "code",
      "execution_count": null,
      "id": "treated-injury",
      "metadata": {
        "id": "treated-injury",
        "outputId": "41c652ac-01fd-4079-f778-6d8cb666d69d"
      },
      "outputs": [
        {
          "name": "stdout",
          "output_type": "stream",
          "text": [
            "[1, 3, 5, 7]\n"
          ]
        }
      ],
      "source": [
        "impares = [1, 3, 5, 7, 9]\n",
        "\n",
        "impares.pop(4) # A função pop remove o valor da posição, nesse caso o índice 4.\n",
        "\n",
        "print(impares)"
      ]
    },
    {
      "cell_type": "code",
      "execution_count": null,
      "id": "loved-rental",
      "metadata": {
        "id": "loved-rental",
        "outputId": "cd4d7eb6-8ca3-46eb-c988-6654a590dc47"
      },
      "outputs": [
        {
          "data": {
            "text/plain": [
              "8"
            ]
          },
          "execution_count": 42,
          "metadata": {},
          "output_type": "execute_result"
        }
      ],
      "source": [
        "variavel = [1, 3, 4, 8, 10]\n",
        "\n",
        "variavel.pop(3) # Mostra qual valor irá remover da posição dada."
      ]
    },
    {
      "cell_type": "code",
      "execution_count": null,
      "id": "revolutionary-explanation",
      "metadata": {
        "id": "revolutionary-explanation",
        "outputId": "6921953a-430b-4879-f748-f2e5784dd5e6"
      },
      "outputs": [
        {
          "name": "stdout",
          "output_type": "stream",
          "text": [
            "[1, 3, 4, 8, 10]\n",
            "3\n",
            "[1, 4, 8, 10]\n"
          ]
        }
      ],
      "source": [
        "# Outro exemplo.\n",
        "\n",
        "variavel = [1, 3, 4, 8, 10]\n",
        "\n",
        "print(variavel)\n",
        "print(variavel.pop(1))\n",
        "print(variavel)"
      ]
    },
    {
      "cell_type": "markdown",
      "id": "hundred-terrorist",
      "metadata": {
        "id": "hundred-terrorist"
      },
      "source": [
        "**Atenção:** Tais funções alteram o valor da lista. Caso deseje salvar seu estado original, utilize a função *copy* ou a sintaxe *[:]* para copiar seus dados para outra variável."
      ]
    },
    {
      "cell_type": "code",
      "execution_count": null,
      "id": "immune-booth",
      "metadata": {
        "id": "immune-booth",
        "outputId": "d7037350-dae2-449e-dd3b-377224d947af"
      },
      "outputs": [
        {
          "name": "stdout",
          "output_type": "stream",
          "text": [
            "[12, 45, 78, 98, 100]\n",
            "[12, 45, 78, 98]\n",
            "[12, 45, 78, 98]\n",
            "[12, 45, 78, 98, 100]\n"
          ]
        }
      ],
      "source": [
        "lista1 = [12, 45, 78, 98]\n",
        "\n",
        "# Criando cópias da lista 1.\n",
        "\n",
        "lista2 = lista1[:]       # Alternativa 1.\n",
        "lista3 = lista1.copy()   # Alternativa 2.\n",
        "\n",
        "lista4 = lista1 # Aqui, só estamos danddo outro nome para lista1. Tudo o que acontecer com a lista 1, também irá acontecer com a lista 4.\n",
        "\n",
        "# Modificando a lista 1.\n",
        "\n",
        "lista1.append(100)\n",
        "\n",
        "# Exibindo resultados.\n",
        "\n",
        "print(lista1)\n",
        "print(lista2)\n",
        "print(lista3)\n",
        "print(lista4)"
      ]
    },
    {
      "cell_type": "markdown",
      "id": "powerful-mambo",
      "metadata": {
        "id": "powerful-mambo"
      },
      "source": [
        "- ordenar listas"
      ]
    },
    {
      "cell_type": "code",
      "execution_count": null,
      "id": "sustainable-hazard",
      "metadata": {
        "id": "sustainable-hazard",
        "outputId": "64677bfb-ea1c-4823-8a0e-a2940567bf9e"
      },
      "outputs": [
        {
          "name": "stdout",
          "output_type": "stream",
          "text": [
            "[0, 1, 1, 2, 3, 5, 8, 13]\n"
          ]
        }
      ],
      "source": [
        "fibonacci = [8, 1, 0, 5, 13, 1, 3, 2]\n",
        "\n",
        "# Ordenando listas.\n",
        "\n",
        "fibonacci.sort() \n",
        "\n",
        "print(fibonacci)"
      ]
    },
    {
      "cell_type": "markdown",
      "id": "facial-paper",
      "metadata": {
        "id": "facial-paper"
      },
      "source": [
        "Ordenar de forma reversa"
      ]
    },
    {
      "cell_type": "code",
      "execution_count": null,
      "id": "mature-rings",
      "metadata": {
        "id": "mature-rings",
        "outputId": "c19cecba-cbbf-4bd9-9311-b0df61634ea3"
      },
      "outputs": [
        {
          "name": "stdout",
          "output_type": "stream",
          "text": [
            "[13, 8, 5, 3, 2, 1, 1, 0]\n"
          ]
        }
      ],
      "source": [
        "fibonacci = [8, 1, 0, 5, 13, 1, 3, 2]\n",
        "\n",
        "# Ordenando listas.\n",
        "\n",
        "fibonacci.sort(reverse= True) \n",
        "\n",
        "print(fibonacci)"
      ]
    },
    {
      "cell_type": "code",
      "execution_count": null,
      "id": "western-department",
      "metadata": {
        "id": "western-department",
        "outputId": "98b1d1b5-a3f4-47dd-e0bf-95fd31f8d772"
      },
      "outputs": [
        {
          "name": "stdout",
          "output_type": "stream",
          "text": [
            "[2, 3, 1, 13, 5, 0, 1, 8]\n"
          ]
        }
      ],
      "source": [
        "# Outra forma de ordernar de forma reversa.\n",
        "\n",
        "fibonacci = [8, 1, 0, 5, 13, 1, 3, 2]\n",
        "\n",
        "fibonacci.reverse() # Escrevendo a lista de forma reversa (de trás para frente); mudando a posição.\n",
        "\n",
        "print(fibonacci)"
      ]
    },
    {
      "cell_type": "markdown",
      "id": "controlling-acrylic",
      "metadata": {
        "id": "controlling-acrylic"
      },
      "source": [
        "- Buscar elemento"
      ]
    },
    {
      "cell_type": "code",
      "execution_count": null,
      "id": "utility-reproduction",
      "metadata": {
        "id": "utility-reproduction",
        "outputId": "3869be44-5795-40f8-9c49-3dd8a4de9e35"
      },
      "outputs": [
        {
          "data": {
            "text/plain": [
              "4"
            ]
          },
          "execution_count": 62,
          "metadata": {},
          "output_type": "execute_result"
        }
      ],
      "source": [
        "pi = [3, 1, 4, 1, 5, 9, 2, 6, 5]\n",
        "\n",
        "# A função index captura o índice de um determinado valor dentro da lista.\n",
        "\n",
        "posicao = pi.index(5) \n",
        "\n",
        "# Dá a posição do primeiro valor encontrado\n",
        "\n",
        "posicao"
      ]
    },
    {
      "cell_type": "markdown",
      "id": "architectural-distributor",
      "metadata": {
        "id": "architectural-distributor"
      },
      "source": [
        "- Informações sobre a lista"
      ]
    },
    {
      "cell_type": "code",
      "execution_count": null,
      "id": "shared-kinase",
      "metadata": {
        "id": "shared-kinase",
        "outputId": "ecc315f2-7188-4919-e14f-3b8ccfa4f17e"
      },
      "outputs": [
        {
          "name": "stdout",
          "output_type": "stream",
          "text": [
            "9 9 1\n"
          ]
        }
      ],
      "source": [
        "pi = [3, 1, 4, 1, 5, 9, 2, 6, 5]\n",
        "\n",
        "# Para saber o tamanho da lista.\n",
        "\n",
        "tamanho = len(pi)\n",
        "\n",
        "# Determina o maior valor da lista.\n",
        "\n",
        "maior = max(pi) \n",
        "\n",
        "# Determina o menor valor da lista.\n",
        "\n",
        "menor = min(pi) \n",
        "\n",
        "print(tamanho, maior, menor)"
      ]
    },
    {
      "cell_type": "code",
      "execution_count": null,
      "id": "amazing-wonder",
      "metadata": {
        "id": "amazing-wonder",
        "outputId": "f35d7c63-6377-4313-fd09-0c3439561206"
      },
      "outputs": [
        {
          "name": "stdout",
          "output_type": "stream",
          "text": [
            "['a', 'b', 'c']\n"
          ]
        }
      ],
      "source": [
        "# Criando lista de caracteres.\n",
        "\n",
        "teste = ['a', 'c', 'b']\n",
        "\n",
        "# Ordenando a lista.\n",
        "\n",
        "teste.sort()\n",
        "\n",
        "print(teste)"
      ]
    },
    {
      "cell_type": "code",
      "execution_count": null,
      "id": "express-stereo",
      "metadata": {
        "id": "express-stereo",
        "outputId": "9b0d81c5-8095-4cea-84fe-201c5ca7ab24"
      },
      "outputs": [
        {
          "data": {
            "text/plain": [
              "'c'"
            ]
          },
          "execution_count": 70,
          "metadata": {},
          "output_type": "execute_result"
        }
      ],
      "source": [
        "# Maior valor da lista de caracteres.\n",
        "\n",
        "max(teste)"
      ]
    },
    {
      "cell_type": "code",
      "execution_count": null,
      "id": "ordered-reverse",
      "metadata": {
        "id": "ordered-reverse",
        "outputId": "8681971f-5f63-462a-f18a-fdd8a7859918"
      },
      "outputs": [
        {
          "data": {
            "text/plain": [
              "'a'"
            ]
          },
          "execution_count": 71,
          "metadata": {},
          "output_type": "execute_result"
        }
      ],
      "source": [
        "# Menor valor da lista de caracteres.\n",
        "\n",
        "min(teste)"
      ]
    },
    {
      "cell_type": "code",
      "execution_count": null,
      "id": "detected-hydrogen",
      "metadata": {
        "id": "detected-hydrogen",
        "outputId": "c05af564-df91-41bf-f046-1f9d55d1aa6f"
      },
      "outputs": [
        {
          "name": "stdout",
          "output_type": "stream",
          "text": [
            "['A', 'a', 'aa', 'ab', 'b', 'c']\n"
          ]
        }
      ],
      "source": [
        "# Criando lista com diferentes tipos de strings.\n",
        "\n",
        "teste = ['aa', 'a', 'c', 'b', 'ab', 'A']\n",
        "\n",
        "teste.sort()\n",
        "\n",
        "print(teste)"
      ]
    }
  ],
  "metadata": {
    "colab": {
      "provenance": []
    },
    "kernelspec": {
      "display_name": "Python 3.10.7 64-bit",
      "language": "python",
      "name": "python3"
    },
    "language_info": {
      "codemirror_mode": {
        "name": "ipython",
        "version": 3
      },
      "file_extension": ".py",
      "mimetype": "text/x-python",
      "name": "python",
      "nbconvert_exporter": "python",
      "pygments_lexer": "ipython3",
      "version": "3.10.7"
    },
    "vscode": {
      "interpreter": {
        "hash": "d3f16d613b45d41765fc5191cf61837cebf78b91418334f86bed771f1681791c"
      }
    }
  },
  "nbformat": 4,
  "nbformat_minor": 5
}
